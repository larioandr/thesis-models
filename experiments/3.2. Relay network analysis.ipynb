{
 "cells": [
  {
   "cell_type": "markdown",
   "metadata": {},
   "source": [
    "# Анализ производительности радиорелейной сети\n",
    "\n",
    "В этом блокноте представлены результаты исследования производительности многошаговой радиорелейной сети с помощью имитационного моделирования и аналитических моделей сетей массового обслуживания с узлами MAP/PH/1/N."
   ]
  },
  {
   "cell_type": "markdown",
   "metadata": {},
   "source": [
    "# 1. Подготовка\n",
    "\n",
    "Прежде, чем перейти к проведению эксперимента, подключим основные модули и определим переменные окружения, которые будут управлять экспериментом."
   ]
  },
  {
   "cell_type": "code",
   "execution_count": 5,
   "metadata": {},
   "outputs": [
    {
     "name": "stdout",
     "output_type": "stream",
     "text": [
      "The autoreload extension is already loaded. To reload it, use:\n",
      "  %reload_ext autoreload\n"
     ]
    }
   ],
   "source": [
    "# Если что-то меняется в коде, мы хотим это сразу видеть здесь\n",
    "%load_ext autoreload\n",
    "%autoreload 2"
   ]
  },
  {
   "cell_type": "code",
   "execution_count": 7,
   "metadata": {},
   "outputs": [],
   "source": [
    "# Подключаем основные библиотеки для работы с данными, рисования графиков\n",
    "import numpy as np\n",
    "import matplotlib\n",
    "import matplotlib.pyplot as plt\n",
    "import seaborn as sns\n",
    "from matplotlib import cm\n",
    "import itertools\n",
    "import re\n",
    "from tqdm import tqdm_notebook, tnrange"
   ]
  },
  {
   "cell_type": "code",
   "execution_count": 8,
   "metadata": {},
   "outputs": [],
   "source": [
    "# Настраиваем matplotlib\n",
    "%matplotlib inline\n",
    "matplotlib.rcParams.update({'font.size': 16})"
   ]
  },
  {
   "cell_type": "markdown",
   "metadata": {},
   "source": [
    "Чтобы избежать длительных расчетов при работе с блокнотом, будем использовать два параметра:\n",
    "\n",
    "- `RUN_MODE: str`: `\"draft\"` или `\"production\"`, определяет длительность моделирования и, соответственно, точность результатов. Для `RUN_MODE = \"production\"` точность гораздо выше, но требуется больше времени. Конкретные значения моделируемого времени определяются далее.\n",
    "- `USE_CACHED: bool`: использовать или нет полученные ранее результаты из файлов. Если эксперимент был проведен ранее, и его результаты хранятся в файле, то будут использоваться они. Если файла нет, или значение `USE_CACHED = True`, то эксперимент будет проведен заново, а результаты сохранены в файл."
   ]
  },
  {
   "cell_type": "code",
   "execution_count": 9,
   "metadata": {},
   "outputs": [],
   "source": [
    "RUN_MODE = \"draft\"\n",
    "USE_CACHED = True"
   ]
  },
  {
   "cell_type": "markdown",
   "metadata": {},
   "source": [
    "Определим основные параметры модели: длины заголовков, скорости трафика и пр."
   ]
  },
  {
   "cell_type": "code",
   "execution_count": 11,
   "metadata": {},
   "outputs": [],
   "source": [
    "PHY_HEADER = 128   # длина заголовка физического уровня в битах: 128 бита\n",
    "MAC_HEADER = 272   # длина заголовка канального уровня в битах:  272 бита\n",
    "IP_HEADER = 160    # длина заголовка сетевого уровня в битах:   160 бит\n",
    "PREAMBLE = 0       # преамбулу не учитываем\n",
    "\n",
    "# Для удобсатва, вводим общую длину всех заголовков:\n",
    "ALL_HEADERS_SIZE = PHY_HEADER + MAC_HEADER + IP_HEADER\n",
    "\n",
    "IFS = 128e-6    # межкадровый интервал: 128 мкс\n",
    "BITRATE = 1e6   # битовая скорость: 1 мегабит/с"
   ]
  },
  {
   "cell_type": "code",
   "execution_count": null,
   "metadata": {},
   "outputs": [],
   "source": []
  }
 ],
 "metadata": {
  "kernelspec": {
   "display_name": "Python 3",
   "language": "python",
   "name": "python3"
  },
  "language_info": {
   "codemirror_mode": {
    "name": "ipython",
    "version": 3
   },
   "file_extension": ".py",
   "mimetype": "text/x-python",
   "name": "python",
   "nbconvert_exporter": "python",
   "pygments_lexer": "ipython3",
   "version": "3.8.0"
  }
 },
 "nbformat": 4,
 "nbformat_minor": 4
}
