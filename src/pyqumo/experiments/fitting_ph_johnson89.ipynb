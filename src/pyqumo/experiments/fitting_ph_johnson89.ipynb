{
 "metadata": {
  "language_info": {
   "codemirror_mode": {
    "name": "ipython",
    "version": 3
   },
   "file_extension": ".py",
   "mimetype": "text/x-python",
   "name": "python",
   "nbconvert_exporter": "python",
   "pygments_lexer": "ipython3",
   "version": "3.8.2-final"
  },
  "orig_nbformat": 2,
  "kernelspec": {
   "name": "python3",
   "display_name": "Python 3",
   "language": "python"
  }
 },
 "nbformat": 4,
 "nbformat_minor": 2,
 "cells": [
  {
   "cell_type": "code",
   "execution_count": 1,
   "metadata": {},
   "outputs": [],
   "source": [
    "%load_ext autoreload\n",
    "%autoreload 2"
   ]
  },
  {
   "cell_type": "code",
   "execution_count": 2,
   "metadata": {},
   "outputs": [],
   "source": [
    "from matplotlib import pyplot as plt\n",
    "import numpy as np\n",
    "\n",
    "from pyqumo.fitting.johnson89 import fit_mern2\n",
    "from pyqumo.stats import get_cv, get_skewness, get_noncentral_m2, get_noncentral_m3"
   ]
  },
  {
   "source": [
    "## Study of MEn(2) order\n",
    "\n",
    "As in paper [1], we will study the performance on the $(c-1/c, \\gamma)$ plane, where $c$ is a coefficient of variation.\n",
    "\n",
    "Note that equation $c - 1/c = x$ always have a single solution for $c > 0$:\n",
    "\n",
    "$$\n",
    "c - 1/c = x \\; \\Leftrightarrow \\; c^2 - xc - 1 = 0 \\Leftrightarrow c = \\frac{x + \\sqrt{x^2 + 4}}{2}\n",
    "$$"
   ],
   "cell_type": "markdown",
   "metadata": {}
  },
  {
   "cell_type": "code",
   "execution_count": null,
   "metadata": {},
   "outputs": [],
   "source": [
    "# X: (c - 1/c) values, c - coefficient of variation.\n",
    "#   equatio x = c - 1/c will always have the only non-negative solution \n",
    "# "
   ]
  }
 ]
}