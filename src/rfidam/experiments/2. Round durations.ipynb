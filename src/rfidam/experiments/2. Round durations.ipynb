{
 "metadata": {
  "language_info": {
   "codemirror_mode": {
    "name": "ipython",
    "version": 3
   },
   "file_extension": ".py",
   "mimetype": "text/x-python",
   "name": "python",
   "nbconvert_exporter": "python",
   "pygments_lexer": "ipython3",
   "version": "3.8.2-final"
  },
  "orig_nbformat": 2,
  "kernelspec": {
   "name": "python3",
   "display_name": "Python 3.8.2 64-bit ('.venv': venv)",
   "metadata": {
    "interpreter": {
     "hash": "9954d7b73a503d602d6c99d6d3df44bbe90840b17733c9e9f5a8dfb64aff39d7"
    }
   }
  }
 },
 "nbformat": 4,
 "nbformat_minor": 2,
 "cells": [
  {
   "source": [
    "# Валидация расчета длительностей раундов\n",
    "\n",
    "В этом ноутбуке найдем и сравним оценки длительностей раундов при заданной вероятности битовой ошибки (BER) с помощью метода Монте-Карло и аналитической модели, построенной на урновой схеме."
   ],
   "cell_type": "markdown",
   "metadata": {}
  },
  {
   "cell_type": "code",
   "execution_count": 1,
   "metadata": {},
   "outputs": [],
   "source": [
    "%load_ext autoreload\n",
    "%autoreload 2"
   ]
  },
  {
   "cell_type": "code",
   "execution_count": 27,
   "metadata": {},
   "outputs": [],
   "source": [
    "from rfidam.inventory import RoundModel, SlotModel, estimate_rounds_props, SlotValues\n",
    "from rfidam.protocol import Protocol, LinkProps\n",
    "from rfidam.utils import bcolors, get_err, fmt_err, highlight, pluralize\n",
    "from rfidlib.protocol.symbols import TagEncoding, DR\n",
    "\n",
    "from tabulate import tabulate\n",
    "from tqdm.notebook import tqdm\n",
    "import numpy as np\n",
    "import matplotlib.pyplot as plt\n",
    "from itertools import product"
   ]
  },
  {
   "source": [
    "Определим вспомогательные методы для однотипной подстветки таблиц и форматирования строк."
   ],
   "cell_type": "markdown",
   "metadata": {}
  },
  {
   "cell_type": "code",
   "execution_count": 3,
   "metadata": {},
   "outputs": [],
   "source": [
    "def fmt_header(s):\n",
    "    return highlight(s, bcolors.OKBLUE)\n",
    "\n",
    "def fmt_delim(s):\n",
    "    return highlight(s, bcolors.OKCYAN)\n",
    "\n",
    "def fmt_float(x):\n",
    "    return f'{x:.4f}'"
   ]
  },
  {
   "source": [
    "## Параметры модели\n",
    "\n",
    "Определим два сценария идентификации меток:\n",
    "\n",
    "- идентификация по EPCID\n",
    "- идентификация по TID и EPCID\n",
    "\n",
    "В обоих случаях будем использовать идентичные настройки протокола:\n",
    "\n",
    "- `Tari = 12.5us`\n",
    "- `RTcal = 37.5us`\n",
    "- `TRcal = 50us`\n",
    "- `DR = 64/3`\n",
    "- `TRext = 0`\n",
    "- `Q = 4`\n",
    "- `M = 2`\n",
    "\n",
    "Также будем считать, что длина EPCID равна 12 байтам, а TID - 8 байтам (4 словам)."
   ],
   "cell_type": "markdown",
   "metadata": {}
  },
  {
   "cell_type": "code",
   "execution_count": 4,
   "metadata": {},
   "outputs": [],
   "source": [
    "PROTOCOL_SETTINGS = {\n",
    "    'tari': 12.5e-6,\n",
    "    'rtcal': 37.5e-6,\n",
    "    'trcal': 50e-6,\n",
    "    'm': TagEncoding.M2,\n",
    "    'dr': DR.DR_643,\n",
    "    'trext': False,\n",
    "    'q': 4,\n",
    "    't_off': 0.1,\n",
    "    'n_epcid_bytes': 12,\n",
    "    'n_data_words': 4\n",
    "}\n",
    "\n",
    "LINK_PROPS = {\n",
    "    'epcid': LinkProps(**PROTOCOL_SETTINGS, use_tid=False),\n",
    "    'tid': LinkProps(**PROTOCOL_SETTINGS, use_tid=True)\n",
    "}\n",
    "\n",
    "PROTOCOLS = {key: Protocol(LINK_PROPS[key]) for key in LINK_PROPS}"
   ]
  },
  {
   "source": [
    "Число меток будем брать из множества $N = 0, 1, 2, 3, 4, 10, 20$."
   ],
   "cell_type": "markdown",
   "metadata": {}
  },
  {
   "cell_type": "code",
   "execution_count": 5,
   "metadata": {},
   "outputs": [],
   "source": [
    "N_TAGS = [0, 1, 2, 3, 4, 10, 20]\n",
    "BER = [.001, .005, .01, .02]"
   ]
  },
  {
   "source": [
    "## Вычисление параметров раундов методом Монте-Карло\n",
    "\n",
    "Рассчитаем длины слотов и раундов методом Монте-Карло. Для этого будем моделировать процесс идентификации меток, собирать длительности слотов без ответов меток, слотов с попытками ответа одной метки и слотов с коллизиями."
   ],
   "cell_type": "markdown",
   "metadata": {}
  },
  {
   "cell_type": "code",
   "execution_count": 6,
   "metadata": {},
   "outputs": [
    {
     "output_type": "display_data",
     "data": {
      "text/plain": "HBox(children=(HTML(value=''), FloatProgress(value=0.0, max=2.0), HTML(value='')))",
      "application/vnd.jupyter.widget-view+json": {
       "version_major": 2,
       "version_minor": 0,
       "model_id": "d2f38190feb84424817952809258a5c0"
      }
     },
     "metadata": {}
    },
    {
     "output_type": "display_data",
     "data": {
      "text/plain": "HBox(children=(HTML(value=''), FloatProgress(value=0.0, max=4.0), HTML(value='')))",
      "application/vnd.jupyter.widget-view+json": {
       "version_major": 2,
       "version_minor": 0,
       "model_id": "7bbaf4b26aee4b69ba536cab1f7c03f7"
      }
     },
     "metadata": {}
    },
    {
     "output_type": "display_data",
     "data": {
      "text/plain": "HBox(children=(HTML(value=''), FloatProgress(value=0.0, max=7.0), HTML(value='')))",
      "application/vnd.jupyter.widget-view+json": {
       "version_major": 2,
       "version_minor": 0,
       "model_id": "17ee182c79294ff9aef18fe852ea54d8"
      }
     },
     "metadata": {}
    },
    {
     "output_type": "display_data",
     "data": {
      "text/plain": "HBox(children=(HTML(value=''), FloatProgress(value=0.0, max=1000.0), HTML(value='')))",
      "application/vnd.jupyter.widget-view+json": {
       "version_major": 2,
       "version_minor": 0,
       "model_id": "ca412859316b481e858630be2fcfe4f9"
      }
     },
     "metadata": {}
    },
    {
     "output_type": "display_data",
     "data": {
      "text/plain": "HBox(children=(HTML(value=''), FloatProgress(value=0.0, max=1000.0), HTML(value='')))",
      "application/vnd.jupyter.widget-view+json": {
       "version_major": 2,
       "version_minor": 0,
       "model_id": "0f752a3d5a8c4fe2bd1ad77c1224d903"
      }
     },
     "metadata": {}
    },
    {
     "output_type": "display_data",
     "data": {
      "text/plain": "HBox(children=(HTML(value=''), FloatProgress(value=0.0, max=1000.0), HTML(value='')))",
      "application/vnd.jupyter.widget-view+json": {
       "version_major": 2,
       "version_minor": 0,
       "model_id": "39a4049a8d8f4e89ab50fd6cfb466076"
      }
     },
     "metadata": {}
    },
    {
     "output_type": "display_data",
     "data": {
      "text/plain": "HBox(children=(HTML(value=''), FloatProgress(value=0.0, max=1000.0), HTML(value='')))",
      "application/vnd.jupyter.widget-view+json": {
       "version_major": 2,
       "version_minor": 0,
       "model_id": "5d970dff9a754244bde035f5f55916dd"
      }
     },
     "metadata": {}
    },
    {
     "output_type": "display_data",
     "data": {
      "text/plain": "HBox(children=(HTML(value=''), FloatProgress(value=0.0, max=1000.0), HTML(value='')))",
      "application/vnd.jupyter.widget-view+json": {
       "version_major": 2,
       "version_minor": 0,
       "model_id": "8304a2501f7e435f804f61c373828b12"
      }
     },
     "metadata": {}
    },
    {
     "output_type": "display_data",
     "data": {
      "text/plain": "HBox(children=(HTML(value=''), FloatProgress(value=0.0, max=1000.0), HTML(value='')))",
      "application/vnd.jupyter.widget-view+json": {
       "version_major": 2,
       "version_minor": 0,
       "model_id": "531f1a05682d484e93c43cee080878e9"
      }
     },
     "metadata": {}
    },
    {
     "output_type": "display_data",
     "data": {
      "text/plain": "HBox(children=(HTML(value=''), FloatProgress(value=0.0, max=1000.0), HTML(value='')))",
      "application/vnd.jupyter.widget-view+json": {
       "version_major": 2,
       "version_minor": 0,
       "model_id": "17373b985381478d9dfd329a853dffab"
      }
     },
     "metadata": {}
    },
    {
     "output_type": "display_data",
     "data": {
      "text/plain": "HBox(children=(HTML(value=''), FloatProgress(value=0.0, max=7.0), HTML(value='')))",
      "application/vnd.jupyter.widget-view+json": {
       "version_major": 2,
       "version_minor": 0,
       "model_id": "5e309144c09c46b79e44c92b89c4196e"
      }
     },
     "metadata": {}
    },
    {
     "output_type": "display_data",
     "data": {
      "text/plain": "HBox(children=(HTML(value=''), FloatProgress(value=0.0, max=1000.0), HTML(value='')))",
      "application/vnd.jupyter.widget-view+json": {
       "version_major": 2,
       "version_minor": 0,
       "model_id": "10f2073659084d0992802d749122b80b"
      }
     },
     "metadata": {}
    },
    {
     "output_type": "display_data",
     "data": {
      "text/plain": "HBox(children=(HTML(value=''), FloatProgress(value=0.0, max=1000.0), HTML(value='')))",
      "application/vnd.jupyter.widget-view+json": {
       "version_major": 2,
       "version_minor": 0,
       "model_id": "af150acac96244a2bbbdf0473f221ae7"
      }
     },
     "metadata": {}
    },
    {
     "output_type": "display_data",
     "data": {
      "text/plain": "HBox(children=(HTML(value=''), FloatProgress(value=0.0, max=1000.0), HTML(value='')))",
      "application/vnd.jupyter.widget-view+json": {
       "version_major": 2,
       "version_minor": 0,
       "model_id": "a3312dd36e1f444c8770920d2a2f74f7"
      }
     },
     "metadata": {}
    },
    {
     "output_type": "display_data",
     "data": {
      "text/plain": "HBox(children=(HTML(value=''), FloatProgress(value=0.0, max=1000.0), HTML(value='')))",
      "application/vnd.jupyter.widget-view+json": {
       "version_major": 2,
       "version_minor": 0,
       "model_id": "369d60f273a44cc298c2aba27e3129e6"
      }
     },
     "metadata": {}
    },
    {
     "output_type": "display_data",
     "data": {
      "text/plain": "HBox(children=(HTML(value=''), FloatProgress(value=0.0, max=1000.0), HTML(value='')))",
      "application/vnd.jupyter.widget-view+json": {
       "version_major": 2,
       "version_minor": 0,
       "model_id": "d62761a0b3834b1b964a578bb30d0328"
      }
     },
     "metadata": {}
    },
    {
     "output_type": "display_data",
     "data": {
      "text/plain": "HBox(children=(HTML(value=''), FloatProgress(value=0.0, max=1000.0), HTML(value='')))",
      "application/vnd.jupyter.widget-view+json": {
       "version_major": 2,
       "version_minor": 0,
       "model_id": "1a21dc11483c41d289a1ef72d148cf6f"
      }
     },
     "metadata": {}
    },
    {
     "output_type": "display_data",
     "data": {
      "text/plain": "HBox(children=(HTML(value=''), FloatProgress(value=0.0, max=1000.0), HTML(value='')))",
      "application/vnd.jupyter.widget-view+json": {
       "version_major": 2,
       "version_minor": 0,
       "model_id": "0427f5c8bd26478baffb1b528ee56c01"
      }
     },
     "metadata": {}
    },
    {
     "output_type": "display_data",
     "data": {
      "text/plain": "HBox(children=(HTML(value=''), FloatProgress(value=0.0, max=7.0), HTML(value='')))",
      "application/vnd.jupyter.widget-view+json": {
       "version_major": 2,
       "version_minor": 0,
       "model_id": "85e621a9b19949e99200dd62f08bd760"
      }
     },
     "metadata": {}
    },
    {
     "output_type": "display_data",
     "data": {
      "text/plain": "HBox(children=(HTML(value=''), FloatProgress(value=0.0, max=1000.0), HTML(value='')))",
      "application/vnd.jupyter.widget-view+json": {
       "version_major": 2,
       "version_minor": 0,
       "model_id": "5edbf6b15dc140cd88c5b378eaa65af8"
      }
     },
     "metadata": {}
    },
    {
     "output_type": "display_data",
     "data": {
      "text/plain": "HBox(children=(HTML(value=''), FloatProgress(value=0.0, max=1000.0), HTML(value='')))",
      "application/vnd.jupyter.widget-view+json": {
       "version_major": 2,
       "version_minor": 0,
       "model_id": "f0fa7292729d493090cfcc4bc2f17fa2"
      }
     },
     "metadata": {}
    },
    {
     "output_type": "display_data",
     "data": {
      "text/plain": "HBox(children=(HTML(value=''), FloatProgress(value=0.0, max=1000.0), HTML(value='')))",
      "application/vnd.jupyter.widget-view+json": {
       "version_major": 2,
       "version_minor": 0,
       "model_id": "6c3266cd054245b5b0028d80b96355c2"
      }
     },
     "metadata": {}
    },
    {
     "output_type": "display_data",
     "data": {
      "text/plain": "HBox(children=(HTML(value=''), FloatProgress(value=0.0, max=1000.0), HTML(value='')))",
      "application/vnd.jupyter.widget-view+json": {
       "version_major": 2,
       "version_minor": 0,
       "model_id": "720335d2a9fe43fc923ab2656df95fda"
      }
     },
     "metadata": {}
    },
    {
     "output_type": "display_data",
     "data": {
      "text/plain": "HBox(children=(HTML(value=''), FloatProgress(value=0.0, max=1000.0), HTML(value='')))",
      "application/vnd.jupyter.widget-view+json": {
       "version_major": 2,
       "version_minor": 0,
       "model_id": "7164f913e73447189cf8e01e3bb0fb8c"
      }
     },
     "metadata": {}
    },
    {
     "output_type": "display_data",
     "data": {
      "text/plain": "HBox(children=(HTML(value=''), FloatProgress(value=0.0, max=1000.0), HTML(value='')))",
      "application/vnd.jupyter.widget-view+json": {
       "version_major": 2,
       "version_minor": 0,
       "model_id": "a778ebdb3c9e497c8f2b48d2007862be"
      }
     },
     "metadata": {}
    },
    {
     "output_type": "display_data",
     "data": {
      "text/plain": "HBox(children=(HTML(value=''), FloatProgress(value=0.0, max=1000.0), HTML(value='')))",
      "application/vnd.jupyter.widget-view+json": {
       "version_major": 2,
       "version_minor": 0,
       "model_id": "e533c513ee1d4f778769db662d1230bb"
      }
     },
     "metadata": {}
    },
    {
     "output_type": "display_data",
     "data": {
      "text/plain": "HBox(children=(HTML(value=''), FloatProgress(value=0.0, max=7.0), HTML(value='')))",
      "application/vnd.jupyter.widget-view+json": {
       "version_major": 2,
       "version_minor": 0,
       "model_id": "41de83d3d29947f881e6d23eff2df328"
      }
     },
     "metadata": {}
    },
    {
     "output_type": "display_data",
     "data": {
      "text/plain": "HBox(children=(HTML(value=''), FloatProgress(value=0.0, max=1000.0), HTML(value='')))",
      "application/vnd.jupyter.widget-view+json": {
       "version_major": 2,
       "version_minor": 0,
       "model_id": "c87dbba7a24344fa895243c1e4d17af9"
      }
     },
     "metadata": {}
    },
    {
     "output_type": "display_data",
     "data": {
      "text/plain": "HBox(children=(HTML(value=''), FloatProgress(value=0.0, max=1000.0), HTML(value='')))",
      "application/vnd.jupyter.widget-view+json": {
       "version_major": 2,
       "version_minor": 0,
       "model_id": "d433cd62eea345599f06f89449cf0221"
      }
     },
     "metadata": {}
    },
    {
     "output_type": "display_data",
     "data": {
      "text/plain": "HBox(children=(HTML(value=''), FloatProgress(value=0.0, max=1000.0), HTML(value='')))",
      "application/vnd.jupyter.widget-view+json": {
       "version_major": 2,
       "version_minor": 0,
       "model_id": "799224955bff48688d094e516c027b64"
      }
     },
     "metadata": {}
    },
    {
     "output_type": "display_data",
     "data": {
      "text/plain": "HBox(children=(HTML(value=''), FloatProgress(value=0.0, max=1000.0), HTML(value='')))",
      "application/vnd.jupyter.widget-view+json": {
       "version_major": 2,
       "version_minor": 0,
       "model_id": "a9699398692f4f83b4fe16bad1a1f92c"
      }
     },
     "metadata": {}
    },
    {
     "output_type": "display_data",
     "data": {
      "text/plain": "HBox(children=(HTML(value=''), FloatProgress(value=0.0, max=1000.0), HTML(value='')))",
      "application/vnd.jupyter.widget-view+json": {
       "version_major": 2,
       "version_minor": 0,
       "model_id": "9653d39b0c4a4064b1355f485f76f267"
      }
     },
     "metadata": {}
    },
    {
     "output_type": "display_data",
     "data": {
      "text/plain": "HBox(children=(HTML(value=''), FloatProgress(value=0.0, max=1000.0), HTML(value='')))",
      "application/vnd.jupyter.widget-view+json": {
       "version_major": 2,
       "version_minor": 0,
       "model_id": "5522a523161444f8baaad2d6b4321e3c"
      }
     },
     "metadata": {}
    },
    {
     "output_type": "display_data",
     "data": {
      "text/plain": "HBox(children=(HTML(value=''), FloatProgress(value=0.0, max=1000.0), HTML(value='')))",
      "application/vnd.jupyter.widget-view+json": {
       "version_major": 2,
       "version_minor": 0,
       "model_id": "2105fbf38d14418bad33d67499032430"
      }
     },
     "metadata": {}
    },
    {
     "output_type": "display_data",
     "data": {
      "text/plain": "HBox(children=(HTML(value=''), FloatProgress(value=0.0, max=4.0), HTML(value='')))",
      "application/vnd.jupyter.widget-view+json": {
       "version_major": 2,
       "version_minor": 0,
       "model_id": "817feb20d6f34d9597a95601e07d4cb6"
      }
     },
     "metadata": {}
    },
    {
     "output_type": "display_data",
     "data": {
      "text/plain": "HBox(children=(HTML(value=''), FloatProgress(value=0.0, max=7.0), HTML(value='')))",
      "application/vnd.jupyter.widget-view+json": {
       "version_major": 2,
       "version_minor": 0,
       "model_id": "81394a573a254a4ab2cebf018ebc6873"
      }
     },
     "metadata": {}
    },
    {
     "output_type": "display_data",
     "data": {
      "text/plain": "HBox(children=(HTML(value=''), FloatProgress(value=0.0, max=1000.0), HTML(value='')))",
      "application/vnd.jupyter.widget-view+json": {
       "version_major": 2,
       "version_minor": 0,
       "model_id": "97377d55bc774a7e9742af7939009c11"
      }
     },
     "metadata": {}
    },
    {
     "output_type": "display_data",
     "data": {
      "text/plain": "HBox(children=(HTML(value=''), FloatProgress(value=0.0, max=1000.0), HTML(value='')))",
      "application/vnd.jupyter.widget-view+json": {
       "version_major": 2,
       "version_minor": 0,
       "model_id": "a7d10a04ac15477ebcc56c0babd6e58a"
      }
     },
     "metadata": {}
    },
    {
     "output_type": "display_data",
     "data": {
      "text/plain": "HBox(children=(HTML(value=''), FloatProgress(value=0.0, max=1000.0), HTML(value='')))",
      "application/vnd.jupyter.widget-view+json": {
       "version_major": 2,
       "version_minor": 0,
       "model_id": "8dfe9ead8ff8482e92ebee762246bd78"
      }
     },
     "metadata": {}
    },
    {
     "output_type": "display_data",
     "data": {
      "text/plain": "HBox(children=(HTML(value=''), FloatProgress(value=0.0, max=1000.0), HTML(value='')))",
      "application/vnd.jupyter.widget-view+json": {
       "version_major": 2,
       "version_minor": 0,
       "model_id": "f9351aea2252406ea0af9e4fda643079"
      }
     },
     "metadata": {}
    },
    {
     "output_type": "display_data",
     "data": {
      "text/plain": "HBox(children=(HTML(value=''), FloatProgress(value=0.0, max=1000.0), HTML(value='')))",
      "application/vnd.jupyter.widget-view+json": {
       "version_major": 2,
       "version_minor": 0,
       "model_id": "4a9446c0b6b84da4bc375cd4407cebaf"
      }
     },
     "metadata": {}
    },
    {
     "output_type": "display_data",
     "data": {
      "text/plain": "HBox(children=(HTML(value=''), FloatProgress(value=0.0, max=1000.0), HTML(value='')))",
      "application/vnd.jupyter.widget-view+json": {
       "version_major": 2,
       "version_minor": 0,
       "model_id": "4e4e7e4e18374115ba00c784d54283dc"
      }
     },
     "metadata": {}
    },
    {
     "output_type": "display_data",
     "data": {
      "text/plain": "HBox(children=(HTML(value=''), FloatProgress(value=0.0, max=1000.0), HTML(value='')))",
      "application/vnd.jupyter.widget-view+json": {
       "version_major": 2,
       "version_minor": 0,
       "model_id": "942145f9992442a39b9c5b30afdaabe8"
      }
     },
     "metadata": {}
    },
    {
     "output_type": "display_data",
     "data": {
      "text/plain": "HBox(children=(HTML(value=''), FloatProgress(value=0.0, max=7.0), HTML(value='')))",
      "application/vnd.jupyter.widget-view+json": {
       "version_major": 2,
       "version_minor": 0,
       "model_id": "4b0622d7ea22454dad65c7e1af8a4c0d"
      }
     },
     "metadata": {}
    },
    {
     "output_type": "display_data",
     "data": {
      "text/plain": "HBox(children=(HTML(value=''), FloatProgress(value=0.0, max=1000.0), HTML(value='')))",
      "application/vnd.jupyter.widget-view+json": {
       "version_major": 2,
       "version_minor": 0,
       "model_id": "5356ccdeb35a4c9d94003c5b7b4c6334"
      }
     },
     "metadata": {}
    },
    {
     "output_type": "display_data",
     "data": {
      "text/plain": "HBox(children=(HTML(value=''), FloatProgress(value=0.0, max=1000.0), HTML(value='')))",
      "application/vnd.jupyter.widget-view+json": {
       "version_major": 2,
       "version_minor": 0,
       "model_id": "279dbd3348ee459cb34f7ff770bce4f9"
      }
     },
     "metadata": {}
    },
    {
     "output_type": "display_data",
     "data": {
      "text/plain": "HBox(children=(HTML(value=''), FloatProgress(value=0.0, max=1000.0), HTML(value='')))",
      "application/vnd.jupyter.widget-view+json": {
       "version_major": 2,
       "version_minor": 0,
       "model_id": "c0cfcbe5ba6e4b54b5538375b2d260da"
      }
     },
     "metadata": {}
    },
    {
     "output_type": "display_data",
     "data": {
      "text/plain": "HBox(children=(HTML(value=''), FloatProgress(value=0.0, max=1000.0), HTML(value='')))",
      "application/vnd.jupyter.widget-view+json": {
       "version_major": 2,
       "version_minor": 0,
       "model_id": "11ed860efe4a4f94873ffa2189588438"
      }
     },
     "metadata": {}
    },
    {
     "output_type": "display_data",
     "data": {
      "text/plain": "HBox(children=(HTML(value=''), FloatProgress(value=0.0, max=1000.0), HTML(value='')))",
      "application/vnd.jupyter.widget-view+json": {
       "version_major": 2,
       "version_minor": 0,
       "model_id": "7042a5a322004e429820181f7c12dbab"
      }
     },
     "metadata": {}
    },
    {
     "output_type": "display_data",
     "data": {
      "text/plain": "HBox(children=(HTML(value=''), FloatProgress(value=0.0, max=1000.0), HTML(value='')))",
      "application/vnd.jupyter.widget-view+json": {
       "version_major": 2,
       "version_minor": 0,
       "model_id": "e75b9637e660463099bb40f0c7172bc7"
      }
     },
     "metadata": {}
    },
    {
     "output_type": "display_data",
     "data": {
      "text/plain": "HBox(children=(HTML(value=''), FloatProgress(value=0.0, max=1000.0), HTML(value='')))",
      "application/vnd.jupyter.widget-view+json": {
       "version_major": 2,
       "version_minor": 0,
       "model_id": "318ca02a801344988fc8084b666ba0a7"
      }
     },
     "metadata": {}
    },
    {
     "output_type": "display_data",
     "data": {
      "text/plain": "HBox(children=(HTML(value=''), FloatProgress(value=0.0, max=7.0), HTML(value='')))",
      "application/vnd.jupyter.widget-view+json": {
       "version_major": 2,
       "version_minor": 0,
       "model_id": "e02c6d02d50945c0af17f5481edaed88"
      }
     },
     "metadata": {}
    },
    {
     "output_type": "display_data",
     "data": {
      "text/plain": "HBox(children=(HTML(value=''), FloatProgress(value=0.0, max=1000.0), HTML(value='')))",
      "application/vnd.jupyter.widget-view+json": {
       "version_major": 2,
       "version_minor": 0,
       "model_id": "1ea02b02b99f40d18ede5f6d4a771b84"
      }
     },
     "metadata": {}
    },
    {
     "output_type": "display_data",
     "data": {
      "text/plain": "HBox(children=(HTML(value=''), FloatProgress(value=0.0, max=1000.0), HTML(value='')))",
      "application/vnd.jupyter.widget-view+json": {
       "version_major": 2,
       "version_minor": 0,
       "model_id": "6e69cf5fb6544738813a948e4fad3a8c"
      }
     },
     "metadata": {}
    },
    {
     "output_type": "display_data",
     "data": {
      "text/plain": "HBox(children=(HTML(value=''), FloatProgress(value=0.0, max=1000.0), HTML(value='')))",
      "application/vnd.jupyter.widget-view+json": {
       "version_major": 2,
       "version_minor": 0,
       "model_id": "84506ad13a284562b758205ecc61ab62"
      }
     },
     "metadata": {}
    },
    {
     "output_type": "display_data",
     "data": {
      "text/plain": "HBox(children=(HTML(value=''), FloatProgress(value=0.0, max=1000.0), HTML(value='')))",
      "application/vnd.jupyter.widget-view+json": {
       "version_major": 2,
       "version_minor": 0,
       "model_id": "2e42e46705fd4195b9644b3f66135f61"
      }
     },
     "metadata": {}
    },
    {
     "output_type": "display_data",
     "data": {
      "text/plain": "HBox(children=(HTML(value=''), FloatProgress(value=0.0, max=1000.0), HTML(value='')))",
      "application/vnd.jupyter.widget-view+json": {
       "version_major": 2,
       "version_minor": 0,
       "model_id": "c32c9fa98cea4dda86cd490c969e6558"
      }
     },
     "metadata": {}
    },
    {
     "output_type": "display_data",
     "data": {
      "text/plain": "HBox(children=(HTML(value=''), FloatProgress(value=0.0, max=1000.0), HTML(value='')))",
      "application/vnd.jupyter.widget-view+json": {
       "version_major": 2,
       "version_minor": 0,
       "model_id": "77b32afda90746ae8b23f9b346cb38f8"
      }
     },
     "metadata": {}
    },
    {
     "output_type": "display_data",
     "data": {
      "text/plain": "HBox(children=(HTML(value=''), FloatProgress(value=0.0, max=1000.0), HTML(value='')))",
      "application/vnd.jupyter.widget-view+json": {
       "version_major": 2,
       "version_minor": 0,
       "model_id": "34c7593ee7754d02ab22f3d0b7f7ec22"
      }
     },
     "metadata": {}
    },
    {
     "output_type": "display_data",
     "data": {
      "text/plain": "HBox(children=(HTML(value=''), FloatProgress(value=0.0, max=7.0), HTML(value='')))",
      "application/vnd.jupyter.widget-view+json": {
       "version_major": 2,
       "version_minor": 0,
       "model_id": "4a24fe294f8544f28c9fbb40e8fc3540"
      }
     },
     "metadata": {}
    },
    {
     "output_type": "display_data",
     "data": {
      "text/plain": "HBox(children=(HTML(value=''), FloatProgress(value=0.0, max=1000.0), HTML(value='')))",
      "application/vnd.jupyter.widget-view+json": {
       "version_major": 2,
       "version_minor": 0,
       "model_id": "05911e728be44c71bc79c622463daf5b"
      }
     },
     "metadata": {}
    },
    {
     "output_type": "display_data",
     "data": {
      "text/plain": "HBox(children=(HTML(value=''), FloatProgress(value=0.0, max=1000.0), HTML(value='')))",
      "application/vnd.jupyter.widget-view+json": {
       "version_major": 2,
       "version_minor": 0,
       "model_id": "66890e8fde484219acc14922c5e67d08"
      }
     },
     "metadata": {}
    },
    {
     "output_type": "display_data",
     "data": {
      "text/plain": "HBox(children=(HTML(value=''), FloatProgress(value=0.0, max=1000.0), HTML(value='')))",
      "application/vnd.jupyter.widget-view+json": {
       "version_major": 2,
       "version_minor": 0,
       "model_id": "ab8ee1bb4cba4efd973858452d0a88d6"
      }
     },
     "metadata": {}
    },
    {
     "output_type": "display_data",
     "data": {
      "text/plain": "HBox(children=(HTML(value=''), FloatProgress(value=0.0, max=1000.0), HTML(value='')))",
      "application/vnd.jupyter.widget-view+json": {
       "version_major": 2,
       "version_minor": 0,
       "model_id": "18dde2acba7c441d83b222d7d0209a0b"
      }
     },
     "metadata": {}
    },
    {
     "output_type": "display_data",
     "data": {
      "text/plain": "HBox(children=(HTML(value=''), FloatProgress(value=0.0, max=1000.0), HTML(value='')))",
      "application/vnd.jupyter.widget-view+json": {
       "version_major": 2,
       "version_minor": 0,
       "model_id": "625326153040476fa69b50fab0b3ddd9"
      }
     },
     "metadata": {}
    },
    {
     "output_type": "display_data",
     "data": {
      "text/plain": "HBox(children=(HTML(value=''), FloatProgress(value=0.0, max=1000.0), HTML(value='')))",
      "application/vnd.jupyter.widget-view+json": {
       "version_major": 2,
       "version_minor": 0,
       "model_id": "599c68045f7c493fbb33ecc60bfc7402"
      }
     },
     "metadata": {}
    },
    {
     "output_type": "display_data",
     "data": {
      "text/plain": "HBox(children=(HTML(value=''), FloatProgress(value=0.0, max=1000.0), HTML(value='')))",
      "application/vnd.jupyter.widget-view+json": {
       "version_major": 2,
       "version_minor": 0,
       "model_id": "8f750d6a62134cd3b8b509098d5e5afa"
      }
     },
     "metadata": {}
    },
    {
     "output_type": "stream",
     "name": "stdout",
     "text": [
      "\n"
     ]
    }
   ],
   "source": [
    "# We will store values for each protocol in matrices,\n",
    "# where rows correspond to different BER values and columns - number of tags:\n",
    "\n",
    "ESTIMATED_ROUND_DURATIONS = {key: [] for key in PROTOCOLS}\n",
    "ESTIMATED_SLOTS_DURATIONS = {key: [] for key in PROTOCOLS}\n",
    "ESTIMATED_SLOTS_COUNTS = {key: [] for key in PROTOCOLS}\n",
    "\n",
    "TQDM_PROTOCOLS = tqdm(PROTOCOLS)\n",
    "\n",
    "for protocol_name in TQDM_PROTOCOLS:\n",
    "    \n",
    "    TQDM_PROTOCOLS.set_description(protocol_name)\n",
    "    TQDM_BER = tqdm(BER, leave=False)\n",
    "    protocol = PROTOCOLS[protocol_name]\n",
    "\n",
    "    for ber in TQDM_BER:\n",
    "        \n",
    "        TQDM_BER.set_description(f'BER={ber}')\n",
    "        estimated_round_durations = []\n",
    "        estimated_slots_durations = []\n",
    "        estimated_slots_counts = []\n",
    "        TQDM_TAGS = tqdm(N_TAGS, leave=False)\n",
    "        \n",
    "        for n_tags in TQDM_TAGS:\n",
    "            TQDM_TAGS.set_description(f'{n_tags} tags')\n",
    "            \n",
    "            # Run Monte-Carlo:\n",
    "            round_duration, slots_durations, slots_counts = \\\n",
    "                estimate_rounds_props(protocol, n_tags, ber, n_iters=tqdm(range(1000), leave=False))\n",
    "            \n",
    "            estimated_round_durations.append(round_duration)\n",
    "            estimated_slots_durations.append(slots_durations)\n",
    "            estimated_slots_counts.append(slots_counts)\n",
    "        \n",
    "        # Store results:\n",
    "        ESTIMATED_ROUND_DURATIONS[protocol_name].append(estimated_round_durations)\n",
    "        ESTIMATED_SLOTS_DURATIONS[protocol_name].append(estimated_slots_durations)\n",
    "        ESTIMATED_SLOTS_COUNTS[protocol_name].append(estimated_slots_counts)"
   ]
  },
  {
   "source": [
    "## Вычисление параметров раундов с помощью аналитической модели\n",
    "\n",
    "Теперь вычислим длительности раундов и слотов с помощью аналитической модели. Эта модель использует урновую схему (см. `rfidam.baskets`) для расчета среднего количества пустых слотов, слотов с одним ответом и слотов с коллизиями."
   ],
   "cell_type": "markdown",
   "metadata": {}
  },
  {
   "cell_type": "code",
   "execution_count": 19,
   "metadata": {},
   "outputs": [
    {
     "output_type": "display_data",
     "data": {
      "text/plain": "HBox(children=(HTML(value=''), FloatProgress(value=0.0, max=2.0), HTML(value='')))",
      "application/vnd.jupyter.widget-view+json": {
       "version_major": 2,
       "version_minor": 0,
       "model_id": "e95063bd72954d0faaaaa89fc031863e"
      }
     },
     "metadata": {}
    },
    {
     "output_type": "display_data",
     "data": {
      "text/plain": "HBox(children=(HTML(value=''), FloatProgress(value=0.0, max=4.0), HTML(value='')))",
      "application/vnd.jupyter.widget-view+json": {
       "version_major": 2,
       "version_minor": 0,
       "model_id": "a4e8a9f349b049539f74d5c49e56c4d1"
      }
     },
     "metadata": {}
    },
    {
     "output_type": "display_data",
     "data": {
      "text/plain": "HBox(children=(HTML(value=''), FloatProgress(value=0.0, max=4.0), HTML(value='')))",
      "application/vnd.jupyter.widget-view+json": {
       "version_major": 2,
       "version_minor": 0,
       "model_id": "1107db5106a2401abf132d1773226d03"
      }
     },
     "metadata": {}
    },
    {
     "output_type": "stream",
     "name": "stdout",
     "text": [
      "\n"
     ]
    }
   ],
   "source": [
    "# As above, we store models in dictionaries with the same keys sets as protocols.\n",
    "# At each key, we store a matrix, in which:\n",
    "# - rows correspond to BER values\n",
    "# - columns correspond to different numbers of tags\n",
    "ROUND_MODELS = {key: [] for key in PROTOCOLS}\n",
    "\n",
    "# Also store round durations separately.\n",
    "# We do so, since `round_durations` property is cached, so calling it will run estimation.\n",
    "ANALYTIC_ROUND_DURATIONS = {key: [] for key in PROTOCOLS}\n",
    "\n",
    "TQDM_PROTOCOLS = tqdm(PROTOCOLS)\n",
    "for protocol_name in TQDM_PROTOCOLS:\n",
    "    \n",
    "    TQDM_PROTOCOLS.set_description(protocol_name)\n",
    "    TQDM_BERS = tqdm(BER, leave=False)\n",
    "    protocol = PROTOCOLS[protocol_name]\n",
    "\n",
    "    for ber in TQDM_BERS:\n",
    "        \n",
    "        TQDM_BERS.set_description(f'BER={ber}')    \n",
    "        models = []\n",
    "        round_durations = []\n",
    "        \n",
    "        for n_tags in N_TAGS:\n",
    "            # Build and store the model:\n",
    "            model = RoundModel(protocol, n_tags, ber)\n",
    "            models.append(model)\n",
    "            round_durations.append(model.round_duration)\n",
    "        \n",
    "        # Store models for the given BER:\n",
    "        ROUND_MODELS[protocol_name].append(models)\n",
    "        ANALYTIC_ROUND_DURATIONS[protocol_name].append(round_durations)"
   ]
  },
  {
   "source": [
    "## Сравнение длин слотов\n",
    "\n",
    "Сначала сравним длительности слотов, рассчитанные из аналитической модели и методом Монте-Карло."
   ],
   "cell_type": "markdown",
   "metadata": {}
  },
  {
   "cell_type": "code",
   "execution_count": 33,
   "metadata": {},
   "outputs": [
    {
     "output_type": "stream",
     "name": "stdout",
     "text": [
      "\u001b[94m\u001b[0m                           \u001b[94mAnalytic\u001b[0m                \u001b[94mSimulation\u001b[0m              \u001b[94mError\u001b[0m\n-------------------------  ----------------------  ----------------------  -------\n\u001b[96m# 0 tags\u001b[0m\n\u001b[94mround duration\u001b[0m             0.0036375               0.0036375000000000014   \u001b[92m0.0000\u001b[0m\n\u001b[94mempty slot duration\u001b[0m        7.5e-05                 7.5e-05                 \u001b[92m0.0000\u001b[0m\n\u001b[94mcollided slot duration\u001b[0m     0.00019101562500000002  0.00019101562499999997  \u001b[92m0.0000\u001b[0m\n\u001b[94mreply slot duration\u001b[0m        0.001668374743740638    nan                     \u001b[92mnan\u001b[0m\n\u001b[94mempty slot probability\u001b[0m     1.0                     1.0                     \u001b[92m0.0000\u001b[0m\n\u001b[94mcollided slot probability\u001b[0m  0.0                     0.0                     \u001b[92m0.0000\u001b[0m\n\u001b[94mreply slot probability\u001b[0m     0.0                     0.0                     \u001b[92m0.0000\u001b[0m\n\u001b[96m# 1 tag\u001b[0m\n\u001b[94mround duration\u001b[0m             0.0052308747437406385   0.005281668359375001    \u001b[92m0.0096\u001b[0m\n\u001b[94mempty slot duration\u001b[0m        7.5e-05                 7.5e-05                 \u001b[92m0.0000\u001b[0m\n\u001b[94mcollided slot duration\u001b[0m     0.00019101562500000002  0.00019101562499999997  \u001b[92m0.0000\u001b[0m\n\u001b[94mreply slot duration\u001b[0m        0.001668374743740638    0.0017191683593750003   \u001b[92m0.0295\u001b[0m\n\u001b[94mempty slot probability\u001b[0m     0.9375                  0.9375                  \u001b[92m0.0000\u001b[0m\n\u001b[94mcollided slot probability\u001b[0m  0.0                     0.0                     \u001b[92m0.0000\u001b[0m\n\u001b[94mreply slot probability\u001b[0m     0.0625                  0.0625                  \u001b[92m0.0000\u001b[0m\n\u001b[96m# 2 tags\u001b[0m\n\u001b[94mround duration\u001b[0m             0.0066323286210761955   0.006632118359375001    \u001b[92m0.0000\u001b[0m\n\u001b[94mempty slot duration\u001b[0m        7.5e-05                 7.5e-05                 \u001b[92m0.0000\u001b[0m\n\u001b[94mcollided slot duration\u001b[0m     0.00019101562500000002  0.00019101562499999997  \u001b[92m0.0000\u001b[0m\n\u001b[94mreply slot duration\u001b[0m        0.001668374743740638    0.0016609285844612527   \u001b[92m0.0045\u001b[0m\n\u001b[94mempty slot probability\u001b[0m     0.87890625              0.878625                \u001b[92m0.0003\u001b[0m\n\u001b[94mcollided slot probability\u001b[0m  0.00390625              0.003625                \u001b[92m0.0776\u001b[0m\n\u001b[94mreply slot probability\u001b[0m     0.1171875               0.11775                 \u001b[92m0.0048\u001b[0m\n\u001b[96m# 3 tags\u001b[0m\n\u001b[94mround duration\u001b[0m             0.007859627620214572    0.007824779296875       \u001b[92m0.0045\u001b[0m\n\u001b[94mempty slot duration\u001b[0m        7.5e-05                 7.5e-05                 \u001b[92m0.0000\u001b[0m\n\u001b[94mcollided slot duration\u001b[0m     0.00019101562500000002  0.00019101562499999997  \u001b[92m0.0000\u001b[0m\n\u001b[94mreply slot duration\u001b[0m        0.001668374743740638    0.0016619334821428573   \u001b[92m0.0039\u001b[0m\n\u001b[94mempty slot probability\u001b[0m     0.823974609375          0.8243125               \u001b[92m0.0004\u001b[0m\n\u001b[94mcollided slot probability\u001b[0m  0.011230468750000028    0.011625                \u001b[92m0.0339\u001b[0m\n\u001b[94mreply slot probability\u001b[0m     0.16479492187499997     0.1640625               \u001b[92m0.0045\u001b[0m\n\u001b[96m# 4 tags\u001b[0m\n\u001b[94mround duration\u001b[0m             0.008929066671722073    0.00902147109375        \u001b[92m0.0102\u001b[0m\n\u001b[94mempty slot duration\u001b[0m        7.5e-05                 7.5e-05                 \u001b[92m0.0000\u001b[0m\n\u001b[94mcollided slot duration\u001b[0m     0.00019101562500000002  0.00019101562499999997  \u001b[92m0.0000\u001b[0m\n\u001b[94mreply slot duration\u001b[0m        0.001668374743740638    0.0016821370687387254   \u001b[92m0.0082\u001b[0m\n\u001b[94mempty slot probability\u001b[0m     0.7724761962890625      0.7713125               \u001b[92m0.0015\u001b[0m\n\u001b[94mcollided slot probability\u001b[0m  0.0215301513671875      0.0208125               \u001b[92m0.0345\u001b[0m\n\u001b[94mreply slot probability\u001b[0m     0.20599365234375        0.207875                \u001b[92m0.0091\u001b[0m\n\u001b[96m# 10 tags\u001b[0m\n\u001b[94mround duration\u001b[0m             0.012784929205668476    0.012683894140625       \u001b[92m0.0080\u001b[0m\n\u001b[94mempty slot duration\u001b[0m        7.5e-05                 7.5e-05                 \u001b[92m0.0000\u001b[0m\n\u001b[94mcollided slot duration\u001b[0m     0.00019101562500000002  0.00019101562499999997  \u001b[92m0.0000\u001b[0m\n\u001b[94mreply slot duration\u001b[0m        0.001668374743740638    0.0016725535285183172   \u001b[92m0.0025\u001b[0m\n\u001b[94mempty slot probability\u001b[0m     0.524460475048727       0.5274375               \u001b[92m0.0056\u001b[0m\n\u001b[94mcollided slot probability\u001b[0m  0.12589920825212242     0.1279375               \u001b[92m0.0159\u001b[0m\n\u001b[94mreply slot probability\u001b[0m     0.34964031669915063     0.344625                \u001b[92m0.0146\u001b[0m\n\u001b[96m# 20 tags\u001b[0m\n\u001b[94mround duration\u001b[0m             0.013645150238313948    0.013643931250000001    \u001b[92m0.0001\u001b[0m\n\u001b[94mempty slot duration\u001b[0m        7.5e-05                 7.5e-05                 \u001b[92m0.0000\u001b[0m\n\u001b[94mcollided slot duration\u001b[0m     0.00019101562500000002  0.00019101562499999997  \u001b[92m0.0000\u001b[0m\n\u001b[94mreply slot duration\u001b[0m        0.001668374743740638    0.0016592166832711547   \u001b[92m0.0055\u001b[0m\n\u001b[94mempty slot probability\u001b[0m     0.275058789888336       0.2735625               \u001b[92m0.0055\u001b[0m\n\u001b[94mcollided slot probability\u001b[0m  0.358494335111664       0.357875                \u001b[92m0.0017\u001b[0m\n\u001b[94mreply slot probability\u001b[0m     0.366446875             0.3685625               \u001b[92m0.0057\u001b[0m\n"
     ]
    }
   ],
   "source": [
    "# Compare slots durations estimated with Monte-Carlo method and analytic approach\n",
    "BER_INDEX = -2\n",
    "PROTOCOL_NAME = 'tid'\n",
    "\n",
    "rows = []\n",
    "for i, n_tags in enumerate(N_TAGS):\n",
    "    rounds_model = ROUND_MODELS[PROTOCOL_NAME][BER_INDEX][i]\n",
    "    estimated_round_duration = ESTIMATED_ROUND_DURATIONS[PROTOCOL_NAME][BER_INDEX][i]\n",
    "    estiamted_slots_durations = ESTIMATED_SLOTS_DURATIONS[PROTOCOL_NAME][BER_INDEX][i]\n",
    "    estimated_slots_counts = ESTIMATED_SLOTS_COUNTS[PROTOCOL_NAME][BER_INDEX][i]\n",
    "\n",
    "    # Compute slot probabilities:\n",
    "    estimated_slots_probs = SlotValues(\n",
    "        empty=(estimated_slots_counts.empty / protocol.props.n_slots),\n",
    "        collided=(estimated_slots_counts.collided / protocol.props.n_slots),\n",
    "        reply=(estimated_slots_counts.reply / protocol.props.n_slots))\n",
    "    \n",
    "    # Build table rows:\n",
    "    value_rows = [\n",
    "        [fmt_header('round duration'), rounds_model.round_duration, estimated_round_duration],\n",
    "        [fmt_header('empty slot duration'), rounds_model.slots.durations.empty, estiamted_slots_durations.empty],\n",
    "        [fmt_header('collided slot duration'), rounds_model.slots.durations.collided, estiamted_slots_durations.collided],\n",
    "        [fmt_header('reply slot duration'), rounds_model.slots.durations.reply, estiamted_slots_durations.reply],\n",
    "        [fmt_header('empty slot probability'), rounds_model.slots.probs.empty, estimated_slots_probs.empty],\n",
    "        [fmt_header('collided slot probability'), rounds_model.slots.probs.collided, estimated_slots_probs.collided],\n",
    "        [fmt_header('reply slot probability'), rounds_model.slots.probs.reply, estimated_slots_probs.reply],\n",
    "    ]\n",
    "\n",
    "    # Append errors estimations to each row:\n",
    "    for row in value_rows:\n",
    "        row.append(fmt_err(row[-1], row[-2]))\n",
    "    \n",
    "    # Add rows to the main table:\n",
    "    title_row = [fmt_delim(f'{n_tags} tag{pluralize(n_tags)}')] + [''] * 3\n",
    "    rows.append(title_row)\n",
    "    rows.extend(value_rows)\n",
    "\n",
    "headers = [fmt_header(s) for s in ['', 'Analytic', 'Simulation', 'Error']]\n",
    "print(tabulate(rows, headers=headers))"
   ]
  },
  {
   "cell_type": "code",
   "execution_count": null,
   "metadata": {},
   "outputs": [],
   "source": [
    "BER = [.001, .005, .01, .02]\n",
    "N_TAGS = np.arange(10)\n",
    "N_ITERS = 5000\n",
    "\n",
    "EST_DURATIONS_EPCID = [\n",
    "    [estimate_rounds_props(PROTO_EPCID, n_tags=n_tags, ber=ber, n_iters=N_ITERS)[0] for n_tags in N_TAGS] \n",
    "    for ber in tqdm(BER, desc=\"computing durations for EPCID\")\n",
    "]\n",
    "\n",
    "EST_DURATIONS_TID = [\n",
    "    [estimate_rounds_props(PROTO_TID, n_tags=n_tags, ber=ber, n_iters=N_ITERS)[0] for n_tags in N_TAGS]\n",
    "    for ber in tqdm(BER, desc=\"computing durations for TID\")\n",
    "]"
   ]
  },
  {
   "cell_type": "code",
   "execution_count": null,
   "metadata": {},
   "outputs": [],
   "source": [
    "ROUND_MODELS_EPCID = [[RoundModel(Protocol(PROPS_EPCID), n_tags, ber) for n_tags in N_TAGS] for ber in BER]\n",
    "ROUND_MODELS_TID = [[RoundModel(Protocol(PROPS_TID), n_tags, ber) for n_tags in N_TAGS] for ber in BER]\n",
    "\n",
    "ANA_DURATIONS_EPCID = [[model.round_duration for model in models_list] for models_list in ROUND_MODELS_EPCID]\n",
    "ANA_DURATIONS_TID = [[model.round_duration for model in models_list] for models_list in ROUND_MODELS_TID]"
   ]
  },
  {
   "cell_type": "code",
   "execution_count": null,
   "metadata": {},
   "outputs": [],
   "source": [
    "CMAP = plt.get_cmap('viridis')\n",
    "fig, (ax1, ax2) = plt.subplots(figsize=(12, 5), nrows=1, ncols=2)\n",
    "MARKERS = ['x', 'd', 'o', \"^\", 'v']\n",
    "for i, ber in enumerate(BER):\n",
    "    color = CMAP(i/len(BER))\n",
    "    marker = MARKERS[i % len(MARKERS)]\n",
    "    ax1.plot(N_TAGS, EST_DURATIONS_EPCID[i], label=f'BER={ber}, simulation', marker=marker, color='black', linestyle=\"None\")\n",
    "    ax1.plot(N_TAGS, ANA_DURATIONS_EPCID[i], label=f'BER={ber}, analytic', color=color)\n",
    "    ax2.plot(N_TAGS, EST_DURATIONS_TID[i], label=f'BER={ber}, simulation', marker=marker, color='black', linestyle=\"None\")\n",
    "    ax2.plot(N_TAGS, ANA_DURATIONS_TID[i], label=f'BER={ber}, analytic', color=color)\n",
    "ax1.set_title('Reading EPCID only')\n",
    "ax2.set_title('Reading TID + EPCID')\n",
    "fig.suptitle('Round durations')\n",
    "for ax in (ax1, ax2):\n",
    "    ax.legend()\n",
    "    ax.grid()\n",
    "plt.tight_layout()"
   ]
  }
 ]
}