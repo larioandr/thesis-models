{
 "cells": [
  {
   "cell_type": "markdown",
   "metadata": {},
   "source": [
    "# Валидация расчета длительностей раундов\n",
    "\n",
    "В этом ноутбуке найдем и сравним оценки длительностей раундов при заданной вероятности битовой ошибки (BER) с помощью метода Монте-Карло и аналитической модели, построенной на урновой схеме."
   ]
  },
  {
   "cell_type": "code",
   "execution_count": 1,
   "metadata": {},
   "outputs": [],
   "source": [
    "%load_ext autoreload\n",
    "%autoreload 2"
   ]
  },
  {
   "cell_type": "code",
   "execution_count": 2,
   "metadata": {},
   "outputs": [],
   "source": [
    "from rfidam.inventory import RoundModel, SlotModel, estimate_rounds_props, SlotValues\n",
    "from rfidam.protocol import Protocol, LinkProps\n",
    "from rfidam.utils import bcolors, get_err, fmt_err, highlight, pluralize\n",
    "from rfidlib.protocol.symbols import TagEncoding, DR\n",
    "\n",
    "from tabulate import tabulate\n",
    "from tqdm.notebook import tqdm\n",
    "import numpy as np\n",
    "import matplotlib.pyplot as plt\n",
    "from itertools import product"
   ]
  },
  {
   "cell_type": "markdown",
   "metadata": {},
   "source": [
    "Определим вспомогательные методы для однотипной подстветки таблиц и форматирования строк."
   ]
  },
  {
   "cell_type": "code",
   "execution_count": 3,
   "metadata": {},
   "outputs": [],
   "source": [
    "def fmt_header(s):\n",
    "    return highlight(s, bcolors.OKBLUE)\n",
    "\n",
    "def fmt_delim(s):\n",
    "    return highlight(s, bcolors.OKCYAN)\n",
    "\n",
    "def fmt_float(x):\n",
    "    return f'{x:.4f}'"
   ]
  },
  {
   "cell_type": "markdown",
   "metadata": {},
   "source": [
    "## Параметры модели\n",
    "\n",
    "Определим два сценария идентификации меток:\n",
    "\n",
    "- идентификация по EPCID\n",
    "- идентификация по TID и EPCID\n",
    "\n",
    "В обоих случаях будем использовать идентичные настройки протокола:\n",
    "\n",
    "- `Tari = 12.5us`\n",
    "- `RTcal = 37.5us`\n",
    "- `TRcal = 50us`\n",
    "- `DR = 64/3`\n",
    "- `TRext = 0`\n",
    "- `Q = 4`\n",
    "- `M = 2`\n",
    "\n",
    "Также будем считать, что длина EPCID равна 12 байтам, а TID - 8 байтам (4 словам)."
   ]
  },
  {
   "cell_type": "code",
   "execution_count": 4,
   "metadata": {},
   "outputs": [],
   "source": [
    "PROTOCOL_SETTINGS = {\n",
    "    'tari': 12.5e-6,\n",
    "    'rtcal': 37.5e-6,\n",
    "    'trcal': 50e-6,\n",
    "    'm': TagEncoding.M2,\n",
    "    'dr': DR.DR_643,\n",
    "    'trext': False,\n",
    "    'q': 4,\n",
    "    't_off': 0.1,\n",
    "    'n_epcid_bytes': 12,\n",
    "    'n_data_words': 4\n",
    "}\n",
    "\n",
    "LINK_PROPS = {\n",
    "    'epcid': LinkProps(**PROTOCOL_SETTINGS, use_tid=False),\n",
    "    'tid': LinkProps(**PROTOCOL_SETTINGS, use_tid=True)\n",
    "}\n",
    "\n",
    "PROTOCOLS = {key: Protocol(LINK_PROPS[key]) for key in LINK_PROPS}"
   ]
  },
  {
   "cell_type": "markdown",
   "metadata": {},
   "source": [
    "Число меток будем брать из множества $N = 0, 1, 2, 3, 4, 10, 20$."
   ]
  },
  {
   "cell_type": "code",
   "execution_count": 5,
   "metadata": {},
   "outputs": [],
   "source": [
    "N_TAGS = np.arange(21)\n",
    "BER = [.001, .005, .01, .02]"
   ]
  },
  {
   "cell_type": "markdown",
   "metadata": {},
   "source": [
    "## Вычисление параметров раундов методом Монте-Карло\n",
    "\n",
    "Рассчитаем длины слотов и раундов методом Монте-Карло. Для этого будем моделировать процесс идентификации меток, собирать длительности слотов без ответов меток, слотов с попытками ответа одной метки и слотов с коллизиями."
   ]
  },
  {
   "cell_type": "code",
   "execution_count": 22,
   "metadata": {},
   "outputs": [
    {
     "data": {
      "application/vnd.jupyter.widget-view+json": {
       "model_id": "e499e907bc584582b6fd9ce2add7d5f7",
       "version_major": 2,
       "version_minor": 0
      },
      "text/plain": [
       "HBox(children=(HTML(value=''), FloatProgress(value=0.0, max=2.0), HTML(value='')))"
      ]
     },
     "metadata": {},
     "output_type": "display_data"
    },
    {
     "data": {
      "application/vnd.jupyter.widget-view+json": {
       "model_id": "",
       "version_major": 2,
       "version_minor": 0
      },
      "text/plain": [
       "HBox(children=(HTML(value=''), FloatProgress(value=0.0, max=4.0), HTML(value='')))"
      ]
     },
     "metadata": {},
     "output_type": "display_data"
    },
    {
     "data": {
      "application/vnd.jupyter.widget-view+json": {
       "model_id": "",
       "version_major": 2,
       "version_minor": 0
      },
      "text/plain": [
       "HBox(children=(HTML(value=''), FloatProgress(value=0.0, max=21.0), HTML(value='')))"
      ]
     },
     "metadata": {},
     "output_type": "display_data"
    },
    {
     "data": {
      "application/vnd.jupyter.widget-view+json": {
       "model_id": "",
       "version_major": 2,
       "version_minor": 0
      },
      "text/plain": [
       "HBox(children=(HTML(value=''), FloatProgress(value=0.0, max=21.0), HTML(value='')))"
      ]
     },
     "metadata": {},
     "output_type": "display_data"
    },
    {
     "data": {
      "application/vnd.jupyter.widget-view+json": {
       "model_id": "",
       "version_major": 2,
       "version_minor": 0
      },
      "text/plain": [
       "HBox(children=(HTML(value=''), FloatProgress(value=0.0, max=21.0), HTML(value='')))"
      ]
     },
     "metadata": {},
     "output_type": "display_data"
    },
    {
     "data": {
      "application/vnd.jupyter.widget-view+json": {
       "model_id": "",
       "version_major": 2,
       "version_minor": 0
      },
      "text/plain": [
       "HBox(children=(HTML(value=''), FloatProgress(value=0.0, max=21.0), HTML(value='')))"
      ]
     },
     "metadata": {},
     "output_type": "display_data"
    },
    {
     "data": {
      "application/vnd.jupyter.widget-view+json": {
       "model_id": "",
       "version_major": 2,
       "version_minor": 0
      },
      "text/plain": [
       "HBox(children=(HTML(value=''), FloatProgress(value=0.0, max=4.0), HTML(value='')))"
      ]
     },
     "metadata": {},
     "output_type": "display_data"
    },
    {
     "data": {
      "application/vnd.jupyter.widget-view+json": {
       "model_id": "",
       "version_major": 2,
       "version_minor": 0
      },
      "text/plain": [
       "HBox(children=(HTML(value=''), FloatProgress(value=0.0, max=21.0), HTML(value='')))"
      ]
     },
     "metadata": {},
     "output_type": "display_data"
    },
    {
     "data": {
      "application/vnd.jupyter.widget-view+json": {
       "model_id": "",
       "version_major": 2,
       "version_minor": 0
      },
      "text/plain": [
       "HBox(children=(HTML(value=''), FloatProgress(value=0.0, max=21.0), HTML(value='')))"
      ]
     },
     "metadata": {},
     "output_type": "display_data"
    },
    {
     "data": {
      "application/vnd.jupyter.widget-view+json": {
       "model_id": "",
       "version_major": 2,
       "version_minor": 0
      },
      "text/plain": [
       "HBox(children=(HTML(value=''), FloatProgress(value=0.0, max=21.0), HTML(value='')))"
      ]
     },
     "metadata": {},
     "output_type": "display_data"
    },
    {
     "data": {
      "application/vnd.jupyter.widget-view+json": {
       "model_id": "",
       "version_major": 2,
       "version_minor": 0
      },
      "text/plain": [
       "HBox(children=(HTML(value=''), FloatProgress(value=0.0, max=21.0), HTML(value='')))"
      ]
     },
     "metadata": {},
     "output_type": "display_data"
    },
    {
     "name": "stdout",
     "output_type": "stream",
     "text": [
      "\n"
     ]
    }
   ],
   "source": [
    "# We will store values for each protocol in matrices,\n",
    "# where rows correspond to different BER values and columns - number of tags:\n",
    "\n",
    "ESTIMATED_ROUND_DURATIONS = {key: [] for key in PROTOCOLS}\n",
    "ESTIMATED_SLOTS_DURATIONS = {key: [] for key in PROTOCOLS}\n",
    "ESTIMATED_SLOTS_COUNTS = {key: [] for key in PROTOCOLS}\n",
    "\n",
    "TQDM_PROTOCOLS = tqdm(PROTOCOLS)\n",
    "\n",
    "for protocol_name in TQDM_PROTOCOLS:\n",
    "    \n",
    "    TQDM_PROTOCOLS.set_description(protocol_name)\n",
    "    TQDM_BER = tqdm(BER, leave=False)\n",
    "    protocol = PROTOCOLS[protocol_name]\n",
    "\n",
    "    for ber in TQDM_BER:\n",
    "        \n",
    "        TQDM_BER.set_description(f'BER={ber}')\n",
    "        estimated_round_durations = []\n",
    "        estimated_slots_durations = []\n",
    "        estimated_slots_counts = []\n",
    "        TQDM_TAGS = tqdm(N_TAGS, leave=False)\n",
    "        \n",
    "        for n_tags in TQDM_TAGS:\n",
    "            TQDM_TAGS.set_description(f'{n_tags} tags')\n",
    "            \n",
    "            # Run Monte-Carlo:\n",
    "            round_duration, slots_durations, slots_counts = \\\n",
    "                estimate_rounds_props(protocol, n_tags, ber, n_iters=range(10000))\n",
    "            \n",
    "            estimated_round_durations.append(round_duration)\n",
    "            estimated_slots_durations.append(slots_durations)\n",
    "            estimated_slots_counts.append(slots_counts)\n",
    "        \n",
    "        # Store results:\n",
    "        ESTIMATED_ROUND_DURATIONS[protocol_name].append(estimated_round_durations)\n",
    "        ESTIMATED_SLOTS_DURATIONS[protocol_name].append(estimated_slots_durations)\n",
    "        ESTIMATED_SLOTS_COUNTS[protocol_name].append(estimated_slots_counts)"
   ]
  },
  {
   "cell_type": "markdown",
   "metadata": {},
   "source": [
    "## Вычисление параметров раундов с помощью аналитической модели\n",
    "\n",
    "Теперь вычислим длительности раундов и слотов с помощью аналитической модели. Эта модель использует урновую схему (см. `rfidam.baskets`) для расчета среднего количества пустых слотов, слотов с одним ответом и слотов с коллизиями."
   ]
  },
  {
   "cell_type": "code",
   "execution_count": 25,
   "metadata": {},
   "outputs": [
    {
     "data": {
      "application/vnd.jupyter.widget-view+json": {
       "model_id": "39abe3dd494e4328ac709152dcc46d39",
       "version_major": 2,
       "version_minor": 0
      },
      "text/plain": [
       "HBox(children=(HTML(value=''), FloatProgress(value=0.0, max=2.0), HTML(value='')))"
      ]
     },
     "metadata": {},
     "output_type": "display_data"
    },
    {
     "data": {
      "application/vnd.jupyter.widget-view+json": {
       "model_id": "",
       "version_major": 2,
       "version_minor": 0
      },
      "text/plain": [
       "HBox(children=(HTML(value=''), FloatProgress(value=0.0, max=4.0), HTML(value='')))"
      ]
     },
     "metadata": {},
     "output_type": "display_data"
    },
    {
     "data": {
      "application/vnd.jupyter.widget-view+json": {
       "model_id": "",
       "version_major": 2,
       "version_minor": 0
      },
      "text/plain": [
       "HBox(children=(HTML(value=''), FloatProgress(value=0.0, max=4.0), HTML(value='')))"
      ]
     },
     "metadata": {},
     "output_type": "display_data"
    },
    {
     "name": "stdout",
     "output_type": "stream",
     "text": [
      "\n"
     ]
    }
   ],
   "source": [
    "# As above, we store models in dictionaries with the same keys sets as protocols.\n",
    "# At each key, we store a matrix, in which:\n",
    "# - rows correspond to BER values\n",
    "# - columns correspond to different numbers of tags\n",
    "ROUND_MODELS = {key: [] for key in PROTOCOLS}\n",
    "\n",
    "# Also store round durations separately.\n",
    "# We do so, since `round_durations` property is cached, so calling it will run estimation.\n",
    "ANALYTIC_ROUND_DURATIONS = {key: [] for key in PROTOCOLS}\n",
    "\n",
    "TQDM_PROTOCOLS = tqdm(PROTOCOLS)\n",
    "for protocol_name in TQDM_PROTOCOLS:\n",
    "    \n",
    "    TQDM_PROTOCOLS.set_description(protocol_name)\n",
    "    TQDM_BERS = tqdm(BER, leave=False)\n",
    "    protocol = PROTOCOLS[protocol_name]\n",
    "\n",
    "    for ber in TQDM_BERS:\n",
    "        \n",
    "        TQDM_BERS.set_description(f'BER={ber}')    \n",
    "        models = []\n",
    "        round_durations = []\n",
    "        \n",
    "        for n_tags in N_TAGS:\n",
    "            # Build and store the model:\n",
    "            model = RoundModel(protocol, n_tags, ber)\n",
    "            models.append(model)\n",
    "            round_durations.append(model.round_duration)\n",
    "        \n",
    "        # Store models for the given BER:\n",
    "        ROUND_MODELS[protocol_name].append(models)\n",
    "        ANALYTIC_ROUND_DURATIONS[protocol_name].append(round_durations)"
   ]
  },
  {
   "cell_type": "markdown",
   "metadata": {},
   "source": [
    "## Сравнение длин слотов\n",
    "\n",
    "Сначала сравним длительности слотов, рассчитанные из аналитической модели и методом Монте-Карло."
   ]
  },
  {
   "cell_type": "code",
   "execution_count": 26,
   "metadata": {},
   "outputs": [
    {
     "name": "stdout",
     "output_type": "stream",
     "text": [
      "\u001b[94m\u001b[0m                           \u001b[94mAnalytic\u001b[0m                \u001b[94mSimulation\u001b[0m              \u001b[94mError\u001b[0m\n",
      "-------------------------  ----------------------  ----------------------  -------\n",
      "\u001b[96m0 tags\u001b[0m\n",
      "\u001b[94mround duration\u001b[0m             0.0036375               0.0036375000000000014   \u001b[92m0.0000\u001b[0m\n",
      "\u001b[94mempty slot duration\u001b[0m        7.5e-05                 7.5e-05                 \u001b[92m0.0000\u001b[0m\n",
      "\u001b[94mcollided slot duration\u001b[0m     0.00019101562500000002  0.00019101562499999997  \u001b[92m0.0000\u001b[0m\n",
      "\u001b[94mreply slot duration\u001b[0m        0.001668374743740638    nan                     \u001b[92mnan\u001b[0m\n",
      "\u001b[94mempty slot probability\u001b[0m     1.0                     1.0                     \u001b[92m0.0000\u001b[0m\n",
      "\u001b[94mcollided slot probability\u001b[0m  0.0                     0.0                     \u001b[92m0.0000\u001b[0m\n",
      "\u001b[94mreply slot probability\u001b[0m     0.0                     0.0                     \u001b[92m0.0000\u001b[0m\n",
      "\u001b[96m1 tag\u001b[0m\n",
      "\u001b[94mround duration\u001b[0m             0.0052308747437406385   0.005228900273437501    \u001b[92m0.0004\u001b[0m\n",
      "\u001b[94mempty slot duration\u001b[0m        7.5e-05                 7.5e-05                 \u001b[92m0.0000\u001b[0m\n",
      "\u001b[94mcollided slot duration\u001b[0m     0.00019101562500000002  0.00019101562499999997  \u001b[92m0.0000\u001b[0m\n",
      "\u001b[94mreply slot duration\u001b[0m        0.001668374743740638    0.0016664002734375      \u001b[92m0.0012\u001b[0m\n",
      "\u001b[94mempty slot probability\u001b[0m     0.9375                  0.9375                  \u001b[92m0.0000\u001b[0m\n",
      "\u001b[94mcollided slot probability\u001b[0m  0.0                     0.0                     \u001b[92m0.0000\u001b[0m\n",
      "\u001b[94mreply slot probability\u001b[0m     0.0625                  0.0625                  \u001b[92m0.0000\u001b[0m\n",
      "\u001b[96m2 tags\u001b[0m\n",
      "\u001b[94mround duration\u001b[0m             0.006631560937610576    0.006643255664062501    \u001b[92m0.0018\u001b[0m\n",
      "\u001b[94mempty slot duration\u001b[0m        7.5e-05                 7.5e-05                 \u001b[92m0.0000\u001b[0m\n",
      "\u001b[94mcollided slot duration\u001b[0m     0.00019101562500000002  0.00019101562499999997  \u001b[92m0.0000\u001b[0m\n",
      "\u001b[94mreply slot duration\u001b[0m        0.001668374743740638    0.0016723962841932135   \u001b[92m0.0024\u001b[0m\n",
      "\u001b[94mempty slot probability\u001b[0m     0.8789218750000001      0.8788375               \u001b[92m0.0001\u001b[0m\n",
      "\u001b[94mcollided slot probability\u001b[0m  0.003921874999999922    0.0038375               \u001b[92m0.0220\u001b[0m\n",
      "\u001b[94mreply slot probability\u001b[0m     0.11715625              0.117325                \u001b[92m0.0014\u001b[0m\n",
      "\u001b[96m3 tags\u001b[0m\n",
      "\u001b[94mround duration\u001b[0m             0.007867264427727142    0.0078952997265625      \u001b[92m0.0036\u001b[0m\n",
      "\u001b[94mempty slot duration\u001b[0m        7.5e-05                 7.5e-05                 \u001b[92m0.0000\u001b[0m\n",
      "\u001b[94mcollided slot duration\u001b[0m     0.00019101562500000002  0.00019101562499999997  \u001b[92m0.0000\u001b[0m\n",
      "\u001b[94mreply slot duration\u001b[0m        0.001668374743740638    0.0016815276912157807   \u001b[92m0.0078\u001b[0m\n",
      "\u001b[94mempty slot probability\u001b[0m     0.823825                0.8239875               \u001b[92m0.0002\u001b[0m\n",
      "\u001b[94mcollided slot probability\u001b[0m  0.01106874999999996     0.011175                \u001b[92m0.0095\u001b[0m\n",
      "\u001b[94mreply slot probability\u001b[0m     0.16510625              0.1648375               \u001b[92m0.0016\u001b[0m\n",
      "\u001b[96m4 tags\u001b[0m\n",
      "\u001b[94mround duration\u001b[0m             0.008930229884877261    0.008912806484374999    \u001b[92m0.0020\u001b[0m\n",
      "\u001b[94mempty slot duration\u001b[0m        7.5e-05                 7.5e-05                 \u001b[92m0.0000\u001b[0m\n",
      "\u001b[94mcollided slot duration\u001b[0m     0.00019101562500000002  0.00019101562499999997  \u001b[92m0.0000\u001b[0m\n",
      "\u001b[94mreply slot duration\u001b[0m        0.001668374743740638    0.0016637421358149736   \u001b[92m0.0028\u001b[0m\n",
      "\u001b[94mempty slot probability\u001b[0m     0.7724875               0.77245625              \u001b[92m0.0000\u001b[0m\n",
      "\u001b[94mcollided slot probability\u001b[0m  0.02146875000000001     0.02159375              \u001b[92m0.0058\u001b[0m\n",
      "\u001b[94mreply slot probability\u001b[0m     0.20604375              0.20595                 \u001b[92m0.0005\u001b[0m\n",
      "\u001b[96m5 tags\u001b[0m\n",
      "\u001b[94mround duration\u001b[0m             0.009842557707688918    0.0098582134765625      \u001b[92m0.0016\u001b[0m\n",
      "\u001b[94mempty slot duration\u001b[0m        7.5e-05                 7.5e-05                 \u001b[92m0.0000\u001b[0m\n",
      "\u001b[94mcollided slot duration\u001b[0m     0.00019101562500000002  0.00019101562499999997  \u001b[92m0.0000\u001b[0m\n",
      "\u001b[94mreply slot duration\u001b[0m        0.001668374743740638    0.0016769321639895128   \u001b[92m0.0051\u001b[0m\n",
      "\u001b[94mempty slot probability\u001b[0m     0.72454375              0.72483125              \u001b[92m0.0004\u001b[0m\n",
      "\u001b[94mcollided slot probability\u001b[0m  0.03458124999999995     0.035                   \u001b[92m0.0120\u001b[0m\n",
      "\u001b[94mreply slot probability\u001b[0m     0.240875                0.24016875              \u001b[92m0.0029\u001b[0m\n",
      "\u001b[96m6 tags\u001b[0m\n",
      "\u001b[94mround duration\u001b[0m             0.010646230306379362    0.010662287031250002    \u001b[92m0.0015\u001b[0m\n",
      "\u001b[94mempty slot duration\u001b[0m        7.5e-05                 7.5e-05                 \u001b[92m0.0000\u001b[0m\n",
      "\u001b[94mcollided slot duration\u001b[0m     0.00019101562500000002  0.00019101562499999997  \u001b[92m0.0000\u001b[0m\n",
      "\u001b[94mreply slot duration\u001b[0m        0.001668374743740638    0.0016724779681595078   \u001b[92m0.0025\u001b[0m\n",
      "\u001b[94mempty slot probability\u001b[0m     0.679025                0.6790125               \u001b[92m0.0000\u001b[0m\n",
      "\u001b[94mcollided slot probability\u001b[0m  0.04967499999999997     0.0497625               \u001b[92m0.0018\u001b[0m\n",
      "\u001b[94mreply slot probability\u001b[0m     0.27130000000000004     0.271225                \u001b[92m0.0003\u001b[0m\n",
      "\u001b[96m7 tags\u001b[0m\n",
      "\u001b[94mround duration\u001b[0m             0.0113186248439881      0.0113523205078125      \u001b[92m0.0030\u001b[0m\n",
      "\u001b[94mempty slot duration\u001b[0m        7.5e-05                 7.5e-05                 \u001b[92m0.0000\u001b[0m\n",
      "\u001b[94mcollided slot duration\u001b[0m     0.00019101562500000002  0.00019101562499999997  \u001b[92m0.0000\u001b[0m\n",
      "\u001b[94mreply slot duration\u001b[0m        0.001668374743740638    0.0016715651222948959   \u001b[92m0.0019\u001b[0m\n",
      "\u001b[94mempty slot probability\u001b[0m     0.6367375000000001      0.6363875               \u001b[92m0.0005\u001b[0m\n",
      "\u001b[94mcollided slot probability\u001b[0m  0.06683749999999988     0.06643125              \u001b[92m0.0061\u001b[0m\n",
      "\u001b[94mreply slot probability\u001b[0m     0.29642500000000005     0.29718125              \u001b[92m0.0025\u001b[0m\n",
      "\u001b[96m8 tags\u001b[0m\n",
      "\u001b[94mround duration\u001b[0m             0.011904019070127671    0.011988661835937503    \u001b[92m0.0071\u001b[0m\n",
      "\u001b[94mempty slot duration\u001b[0m        7.5e-05                 7.5e-05                 \u001b[92m0.0000\u001b[0m\n",
      "\u001b[94mcollided slot duration\u001b[0m     0.00019101562500000002  0.00019101562499999997  \u001b[92m0.0000\u001b[0m\n",
      "\u001b[94mreply slot duration\u001b[0m        0.001668374743740638    0.0016751724577150251   \u001b[92m0.0041\u001b[0m\n",
      "\u001b[94mempty slot probability\u001b[0m     0.5968687500000001      0.59593125              \u001b[92m0.0016\u001b[0m\n",
      "\u001b[94mcollided slot probability\u001b[0m  0.08507187499999991     0.083975                \u001b[92m0.0131\u001b[0m\n",
      "\u001b[94mreply slot probability\u001b[0m     0.31805937500000003     0.32009375              \u001b[92m0.0064\u001b[0m\n",
      "\u001b[96m9 tags\u001b[0m\n",
      "\u001b[94mround duration\u001b[0m             0.01238720896161786     0.012447202265625       \u001b[92m0.0048\u001b[0m\n",
      "\u001b[94mempty slot duration\u001b[0m        7.5e-05                 7.5e-05                 \u001b[92m0.0000\u001b[0m\n",
      "\u001b[94mcollided slot duration\u001b[0m     0.00019101562500000002  0.00019101562499999997  \u001b[92m0.0000\u001b[0m\n",
      "\u001b[94mreply slot duration\u001b[0m        0.001668374743740638    0.0016785187658788878   \u001b[92m0.0060\u001b[0m\n",
      "\u001b[94mempty slot probability\u001b[0m     0.55953125              0.5594375               \u001b[92m0.0002\u001b[0m\n",
      "\u001b[94mcollided slot probability\u001b[0m  0.10489999999999994     0.10476875              \u001b[92m0.0013\u001b[0m\n",
      "\u001b[94mreply slot probability\u001b[0m     0.33556875              0.33579375              \u001b[92m0.0007\u001b[0m\n",
      "\u001b[96m10 tags\u001b[0m\n",
      "\u001b[94mround duration\u001b[0m             0.012768553798876167    0.012818407343750001    \u001b[92m0.0039\u001b[0m\n",
      "\u001b[94mempty slot duration\u001b[0m        7.5e-05                 7.5e-05                 \u001b[92m0.0000\u001b[0m\n",
      "\u001b[94mcollided slot duration\u001b[0m     0.00019101562500000002  0.00019101562499999997  \u001b[92m0.0000\u001b[0m\n",
      "\u001b[94mreply slot duration\u001b[0m        0.001668374743740638    0.0016744711614740688   \u001b[92m0.0036\u001b[0m\n",
      "\u001b[94mempty slot probability\u001b[0m     0.5246906250000001      0.5243625               \u001b[92m0.0006\u001b[0m\n",
      "\u001b[94mcollided slot probability\u001b[0m  0.12634374999999987     0.12603125              \u001b[92m0.0025\u001b[0m\n",
      "\u001b[94mreply slot probability\u001b[0m     0.34896562500000006     0.34960625              \u001b[92m0.0018\u001b[0m\n",
      "\u001b[96m11 tags\u001b[0m\n",
      "\u001b[94mround duration\u001b[0m             0.013081853385434872    0.013125694492187501    \u001b[92m0.0033\u001b[0m\n",
      "\u001b[94mempty slot duration\u001b[0m        7.5e-05                 7.5e-05                 \u001b[92m0.0000\u001b[0m\n",
      "\u001b[94mcollided slot duration\u001b[0m     0.00019101562500000002  0.00019101562499999997  \u001b[92m0.0000\u001b[0m\n",
      "\u001b[94mreply slot duration\u001b[0m        0.001668374743740638    0.001676666768984371    \u001b[92m0.0049\u001b[0m\n",
      "\u001b[94mempty slot probability\u001b[0m     0.492284375             0.4922125               \u001b[92m0.0001\u001b[0m\n",
      "\u001b[94mcollided slot probability\u001b[0m  0.14804062500000004     0.14828125              \u001b[92m0.0016\u001b[0m\n",
      "\u001b[94mreply slot probability\u001b[0m     0.35967499999999997     0.35950625              \u001b[92m0.0005\u001b[0m\n",
      "\u001b[96m12 tags\u001b[0m\n",
      "\u001b[94mround duration\u001b[0m             0.013359503087262548    0.013349110351562502    \u001b[92m0.0008\u001b[0m\n",
      "\u001b[94mempty slot duration\u001b[0m        7.5e-05                 7.5e-05                 \u001b[92m0.0000\u001b[0m\n",
      "\u001b[94mcollided slot duration\u001b[0m     0.00019101562500000002  0.00019101562499999997  \u001b[92m0.0000\u001b[0m\n",
      "\u001b[94mreply slot duration\u001b[0m        0.001668374743740638    0.0016665378324997463   \u001b[92m0.0011\u001b[0m\n",
      "\u001b[94mempty slot probability\u001b[0m     0.460778125             0.460575                \u001b[92m0.0004\u001b[0m\n",
      "\u001b[94mcollided slot probability\u001b[0m  0.17027499999999995     0.170475                \u001b[92m0.0012\u001b[0m\n",
      "\u001b[94mreply slot probability\u001b[0m     0.368946875             0.36895                 \u001b[92m0.0000\u001b[0m\n",
      "\u001b[96m13 tags\u001b[0m\n",
      "\u001b[94mround duration\u001b[0m             0.013549168623048871    0.01355407015625        \u001b[92m0.0004\u001b[0m\n",
      "\u001b[94mempty slot duration\u001b[0m        7.5e-05                 7.5e-05                 \u001b[92m0.0000\u001b[0m\n",
      "\u001b[94mcollided slot duration\u001b[0m     0.00019101562500000002  0.00019101562499999997  \u001b[92m0.0000\u001b[0m\n",
      "\u001b[94mreply slot duration\u001b[0m        0.001668374743740638    0.0016675441448749564   \u001b[92m0.0005\u001b[0m\n",
      "\u001b[94mempty slot probability\u001b[0m     0.4318625               0.43186875              \u001b[92m0.0000\u001b[0m\n",
      "\u001b[94mcollided slot probability\u001b[0m  0.19343749999999998     0.1930125               \u001b[92m0.0022\u001b[0m\n",
      "\u001b[94mreply slot probability\u001b[0m     0.3747                  0.37511875              \u001b[92m0.0011\u001b[0m\n",
      "\u001b[96m14 tags\u001b[0m\n",
      "\u001b[94mround duration\u001b[0m             0.013675576375348383    0.013576524375000003    \u001b[92m0.0073\u001b[0m\n",
      "\u001b[94mempty slot duration\u001b[0m        7.5e-05                 7.5e-05                 \u001b[92m0.0000\u001b[0m\n",
      "\u001b[94mcollided slot duration\u001b[0m     0.00019101562500000002  0.00019101562499999997  \u001b[92m0.0000\u001b[0m\n",
      "\u001b[94mreply slot duration\u001b[0m        0.001668374743740638    0.0016566402103581673   \u001b[92m0.0071\u001b[0m\n",
      "\u001b[94mempty slot probability\u001b[0m     0.40515                 0.40615                 \u001b[92m0.0025\u001b[0m\n",
      "\u001b[94mcollided slot probability\u001b[0m  0.2169000000000001      0.21701875              \u001b[92m0.0005\u001b[0m\n",
      "\u001b[94mreply slot probability\u001b[0m     0.3779499999999999      0.37683125              \u001b[92m0.0030\u001b[0m\n",
      "\u001b[96m15 tags\u001b[0m\n",
      "\u001b[94mround duration\u001b[0m             0.013790103864585151    0.013753024335937503    \u001b[92m0.0027\u001b[0m\n",
      "\u001b[94mempty slot duration\u001b[0m        7.5e-05                 7.5e-05                 \u001b[92m0.0000\u001b[0m\n",
      "\u001b[94mcollided slot duration\u001b[0m     0.00019101562500000002  0.00019101562499999997  \u001b[92m0.0000\u001b[0m\n",
      "\u001b[94mreply slot duration\u001b[0m        0.001668374743740638    0.001665161237604223    \u001b[92m0.0019\u001b[0m\n",
      "\u001b[94mempty slot probability\u001b[0m     0.37930624999999996     0.3795625               \u001b[92m0.0007\u001b[0m\n",
      "\u001b[94mcollided slot probability\u001b[0m  0.23992812500000005     0.24039375              \u001b[92m0.0019\u001b[0m\n",
      "\u001b[94mreply slot probability\u001b[0m     0.380765625             0.38004375              \u001b[92m0.0019\u001b[0m\n",
      "\u001b[96m16 tags\u001b[0m\n",
      "\u001b[94mround duration\u001b[0m             0.013811869341789665    0.013821380820312501    \u001b[92m0.0007\u001b[0m\n",
      "\u001b[94mempty slot duration\u001b[0m        7.5e-05                 7.5e-05                 \u001b[92m0.0000\u001b[0m\n",
      "\u001b[94mcollided slot duration\u001b[0m     0.00019101562500000002  0.00019101562499999997  \u001b[92m0.0000\u001b[0m\n",
      "\u001b[94mreply slot duration\u001b[0m        0.001668374743740638    0.001665118768811715    \u001b[92m0.0020\u001b[0m\n",
      "\u001b[94mempty slot probability\u001b[0m     0.35588125000000004     0.355225                \u001b[92m0.0018\u001b[0m\n",
      "\u001b[94mcollided slot probability\u001b[0m  0.26427187499999993     0.2637375               \u001b[92m0.0020\u001b[0m\n",
      "\u001b[94mreply slot probability\u001b[0m     0.37984687500000003     0.3810375               \u001b[92m0.0031\u001b[0m\n",
      "\u001b[96m17 tags\u001b[0m\n",
      "\u001b[94mround duration\u001b[0m             0.013792111546776297    0.0138077321875         \u001b[92m0.0011\u001b[0m\n",
      "\u001b[94mempty slot duration\u001b[0m        7.5e-05                 7.5e-05                 \u001b[92m0.0000\u001b[0m\n",
      "\u001b[94mcollided slot duration\u001b[0m     0.00019101562500000002  0.00019101562499999997  \u001b[92m0.0000\u001b[0m\n",
      "\u001b[94mreply slot duration\u001b[0m        0.001668374743740638    0.0016665356001713744   \u001b[92m0.0011\u001b[0m\n",
      "\u001b[94mempty slot probability\u001b[0m     0.33405312499999995     0.33336875              \u001b[92m0.0021\u001b[0m\n",
      "\u001b[94mcollided slot probability\u001b[0m  0.28865                 0.28825625              \u001b[92m0.0014\u001b[0m\n",
      "\u001b[94mreply slot probability\u001b[0m     0.37729687500000003     0.378375                \u001b[92m0.0028\u001b[0m\n",
      "\u001b[96m18 tags\u001b[0m\n",
      "\u001b[94mround duration\u001b[0m             0.01377496901040759     0.013766919375          \u001b[92m0.0006\u001b[0m\n",
      "\u001b[94mempty slot duration\u001b[0m        7.5e-05                 7.5e-05                 \u001b[92m0.0000\u001b[0m\n",
      "\u001b[94mcollided slot duration\u001b[0m     0.00019101562500000002  0.00019101562499999997  \u001b[92m0.0000\u001b[0m\n",
      "\u001b[94mreply slot duration\u001b[0m        0.001668374743740638    0.0016658835383907453   \u001b[92m0.0015\u001b[0m\n",
      "\u001b[94mempty slot probability\u001b[0m     0.31308437499999997     0.313025                \u001b[92m0.0002\u001b[0m\n",
      "\u001b[94mcollided slot probability\u001b[0m  0.311990625             0.3117625               \u001b[92m0.0007\u001b[0m\n",
      "\u001b[94mreply slot probability\u001b[0m     0.374925                0.3752125               \u001b[92m0.0008\u001b[0m\n",
      "\u001b[96m19 tags\u001b[0m\n",
      "\u001b[94mround duration\u001b[0m             0.013731008287693412    0.013752649335937499    \u001b[92m0.0016\u001b[0m\n",
      "\u001b[94mempty slot duration\u001b[0m        7.5e-05                 7.5e-05                 \u001b[92m0.0000\u001b[0m\n",
      "\u001b[94mcollided slot duration\u001b[0m     0.00019101562500000002  0.00019101562499999997  \u001b[92m0.0000\u001b[0m\n",
      "\u001b[94mreply slot duration\u001b[0m        0.001668374743740638    0.0016701927999609337   \u001b[92m0.0011\u001b[0m\n",
      "\u001b[94mempty slot probability\u001b[0m     0.29327187500000007     0.2932125               \u001b[92m0.0002\u001b[0m\n",
      "\u001b[94mcollided slot probability\u001b[0m  0.33521874999999995     0.334825                \u001b[92m0.0012\u001b[0m\n",
      "\u001b[94mreply slot probability\u001b[0m     0.371509375             0.3719625               \u001b[92m0.0012\u001b[0m\n",
      "\u001b[96m20 tags\u001b[0m\n",
      "\u001b[94mround duration\u001b[0m             0.013632334016955504    0.013624912500000003    \u001b[92m0.0005\u001b[0m\n",
      "\u001b[94mempty slot duration\u001b[0m        7.5e-05                 7.5e-05                 \u001b[92m0.0000\u001b[0m\n",
      "\u001b[94mcollided slot duration\u001b[0m     0.00019101562500000002  0.00019101562499999997  \u001b[92m0.0000\u001b[0m\n",
      "\u001b[94mreply slot duration\u001b[0m        0.001668374743740638    0.0016640420665906767   \u001b[92m0.0026\u001b[0m\n",
      "\u001b[94mempty slot probability\u001b[0m     0.274959375             0.27533125              \u001b[92m0.0014\u001b[0m\n",
      "\u001b[94mcollided slot probability\u001b[0m  0.35914375              0.35798125              \u001b[92m0.0032\u001b[0m\n",
      "\u001b[94mreply slot probability\u001b[0m     0.365896875             0.3666875               \u001b[92m0.0022\u001b[0m\n"
     ]
    }
   ],
   "source": [
    "# Compare slots durations estimated with Monte-Carlo method and analytic approach\n",
    "BER_INDEX = -2\n",
    "PROTOCOL_NAME = 'tid'\n",
    "\n",
    "rows = []\n",
    "for i, n_tags in enumerate(N_TAGS):\n",
    "    rounds_model = ROUND_MODELS[PROTOCOL_NAME][BER_INDEX][i]\n",
    "    estimated_round_duration = ESTIMATED_ROUND_DURATIONS[PROTOCOL_NAME][BER_INDEX][i]\n",
    "    estiamted_slots_durations = ESTIMATED_SLOTS_DURATIONS[PROTOCOL_NAME][BER_INDEX][i]\n",
    "    estimated_slots_counts = ESTIMATED_SLOTS_COUNTS[PROTOCOL_NAME][BER_INDEX][i]\n",
    "\n",
    "    # Compute slot probabilities:\n",
    "    estimated_slots_probs = SlotValues(\n",
    "        empty=(estimated_slots_counts.empty / protocol.props.n_slots),\n",
    "        collided=(estimated_slots_counts.collided / protocol.props.n_slots),\n",
    "        reply=(estimated_slots_counts.reply / protocol.props.n_slots))\n",
    "    \n",
    "    # Build table rows:\n",
    "    value_rows = [\n",
    "        [fmt_header('round duration'), rounds_model.round_duration, estimated_round_duration],\n",
    "        [fmt_header('empty slot duration'), rounds_model.slots.durations.empty, estiamted_slots_durations.empty],\n",
    "        [fmt_header('collided slot duration'), rounds_model.slots.durations.collided, estiamted_slots_durations.collided],\n",
    "        [fmt_header('reply slot duration'), rounds_model.slots.durations.reply, estiamted_slots_durations.reply],\n",
    "        [fmt_header('empty slot probability'), rounds_model.slots.probs.empty, estimated_slots_probs.empty],\n",
    "        [fmt_header('collided slot probability'), rounds_model.slots.probs.collided, estimated_slots_probs.collided],\n",
    "        [fmt_header('reply slot probability'), rounds_model.slots.probs.reply, estimated_slots_probs.reply],\n",
    "    ]\n",
    "\n",
    "    # Append errors estimations to each row:\n",
    "    for row in value_rows:\n",
    "        row.append(fmt_err(row[-1], row[-2]))\n",
    "    \n",
    "    # Add rows to the main table:\n",
    "    title_row = [fmt_delim(f'{n_tags} tag{pluralize(n_tags)}')] + [''] * 3\n",
    "    rows.append(title_row)\n",
    "    rows.extend(value_rows)\n",
    "\n",
    "headers = [fmt_header(s) for s in ['', 'Analytic', 'Simulation', 'Error']]\n",
    "print(tabulate(rows, headers=headers))"
   ]
  },
  {
   "cell_type": "markdown",
   "metadata": {},
   "source": [
    "## Сравнение длительностей раундов"
   ]
  },
  {
   "cell_type": "code",
   "execution_count": 27,
   "metadata": {},
   "outputs": [
    {
     "data": {
      "image/png": "[encoded data removed]",
      "text/plain": [
       "<Figure size 864x360 with 2 Axes>"
      ]
     },
     "metadata": {
      "needs_background": "light"
     },
     "output_type": "display_data"
    }
   ],
   "source": [
    "CMAP = plt.get_cmap('viridis')\n",
    "fig, (ax1, ax2) = plt.subplots(figsize=(12, 5), nrows=1, ncols=2)\n",
    "MARKERS = ['x', 'd', 'o', \"^\", 'v']\n",
    "for i, ber in enumerate(BER):\n",
    "    color = CMAP(i/len(BER))\n",
    "    marker = MARKERS[i % len(MARKERS)]\n",
    "    ax1.plot(N_TAGS, ESTIMATED_ROUND_DURATIONS['epcid'][i], \n",
    "             label=f'BER={ber}, simulation', marker=marker, color='black', linestyle=\"None\")\n",
    "    ax1.plot(N_TAGS, ANALYTIC_ROUND_DURATIONS['epcid'][i], \n",
    "             label=f'BER={ber}, analytic', color=color)\n",
    "    ax2.plot(N_TAGS, ESTIMATED_ROUND_DURATIONS['tid'][i], \n",
    "             label=f'BER={ber}, simulation', marker=marker, color='black', linestyle=\"None\")\n",
    "    ax2.plot(N_TAGS, ANALYTIC_ROUND_DURATIONS['tid'][i], \n",
    "             label=f'BER={ber}, analytic', color=color)\n",
    "ax1.set_title('Reading EPCID only')\n",
    "ax2.set_title('Reading TID + EPCID')\n",
    "fig.suptitle('Round durations')\n",
    "for ax in (ax1, ax2):\n",
    "    ax.legend()\n",
    "    ax.grid()\n",
    "plt.tight_layout()"
   ]
  },
  {
   "cell_type": "markdown",
   "metadata": {},
   "source": [
    "## Экспериментальный код"
   ]
  },
  {
   "cell_type": "code",
   "execution_count": null,
   "metadata": {},
   "outputs": [],
   "source": []
  }
 ],
 "metadata": {
  "kernelspec": {
   "display_name": "Python 3",
   "language": "python",
   "name": "python3"
  },
  "language_info": {
   "codemirror_mode": {
    "name": "ipython",
    "version": 3
   },
   "file_extension": ".py",
   "mimetype": "text/x-python",
   "name": "python",
   "nbconvert_exporter": "python",
   "pygments_lexer": "ipython3",
   "version": "3.8.2"
  }
 },
 "nbformat": 4,
 "nbformat_minor": 4
}
