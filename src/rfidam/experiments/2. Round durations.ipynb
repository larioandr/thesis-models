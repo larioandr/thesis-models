{
 "cells": [
  {
   "cell_type": "markdown",
   "metadata": {},
   "source": [
    "# Валидация расчета длительностей раундов\n",
    "\n",
    "В этом ноутбуке найдем и сравним оценки длительностей раундов при заданной вероятности битовой ошибки (BER) с помощью метода Монте-Карло и аналитической модели, построенной на урновой схеме."
   ]
  },
  {
   "cell_type": "code",
   "execution_count": 1,
   "metadata": {},
   "outputs": [],
   "source": [
    "%load_ext autoreload\n",
    "%autoreload 2"
   ]
  },
  {
   "cell_type": "code",
   "execution_count": 2,
   "metadata": {},
   "outputs": [],
   "source": [
    "from rfidam.inventory import RoundModel, SlotModel, estimate_rounds_props, SlotValues\n",
    "from rfidam.protocol import Protocol, LinkProps\n",
    "from rfidam.utils import bcolors, get_err, fmt_err, highlight, pluralize\n",
    "from rfidlib.protocol.symbols import TagEncoding, DR\n",
    "\n",
    "from tabulate import tabulate\n",
    "from tqdm.notebook import tqdm\n",
    "import numpy as np\n",
    "import matplotlib.pyplot as plt\n",
    "from itertools import product"
   ]
  },
  {
   "cell_type": "markdown",
   "metadata": {},
   "source": [
    "Определим вспомогательные методы для однотипной подстветки таблиц и форматирования строк."
   ]
  },
  {
   "cell_type": "code",
   "execution_count": 3,
   "metadata": {},
   "outputs": [],
   "source": [
    "def fmt_header(s):\n",
    "    return highlight(s, bcolors.OKBLUE)\n",
    "\n",
    "def fmt_delim(s):\n",
    "    return highlight(s, bcolors.OKCYAN)\n",
    "\n",
    "def fmt_float(x):\n",
    "    return f'{x:.4f}'"
   ]
  },
  {
   "cell_type": "markdown",
   "metadata": {},
   "source": [
    "## Параметры модели\n",
    "\n",
    "Определим два сценария идентификации меток:\n",
    "\n",
    "- идентификация по EPCID\n",
    "- идентификация по TID и EPCID\n",
    "\n",
    "В обоих случаях будем использовать идентичные настройки протокола:\n",
    "\n",
    "- `Tari = 12.5us`\n",
    "- `RTcal = 37.5us`\n",
    "- `TRcal = 50us`\n",
    "- `DR = 64/3`\n",
    "- `TRext = 0`\n",
    "- `Q = 4`\n",
    "- `M = 2`\n",
    "\n",
    "Также будем считать, что длина EPCID равна 12 байтам, а TID - 8 байтам (4 словам)."
   ]
  },
  {
   "cell_type": "code",
   "execution_count": 4,
   "metadata": {},
   "outputs": [],
   "source": [
    "PROTOCOL_SETTINGS = {\n",
    "    'tari': 12.5e-6,\n",
    "    'rtcal': 37.5e-6,\n",
    "    'trcal': 50e-6,\n",
    "    'm': TagEncoding.M2,\n",
    "    'dr': DR.DR_643,\n",
    "    'trext': False,\n",
    "    'q': 4,\n",
    "    't_off': 0.1,\n",
    "    'n_epcid_bytes': 12,\n",
    "    'n_data_words': 4\n",
    "}\n",
    "\n",
    "LINK_PROPS = {\n",
    "    'epcid': LinkProps(**PROTOCOL_SETTINGS, use_tid=False),\n",
    "    'tid': LinkProps(**PROTOCOL_SETTINGS, use_tid=True)\n",
    "}\n",
    "\n",
    "PROTOCOLS = {key: Protocol(LINK_PROPS[key]) for key in LINK_PROPS}"
   ]
  },
  {
   "cell_type": "markdown",
   "metadata": {},
   "source": [
    "Число меток будем брать из множества $N = 0, 1, 2, 3, 4, 10, 20$."
   ]
  },
  {
   "cell_type": "code",
   "execution_count": 5,
   "metadata": {},
   "outputs": [],
   "source": [
    "N_TAGS = np.arange(21)\n",
    "BER = [.001, .005, .01, .02]"
   ]
  },
  {
   "cell_type": "markdown",
   "metadata": {},
   "source": [
    "## Вычисление параметров раундов методом Монте-Карло\n",
    "\n",
    "Рассчитаем длины слотов и раундов методом Монте-Карло. Для этого будем моделировать процесс идентификации меток, собирать длительности слотов без ответов меток, слотов с попытками ответа одной метки и слотов с коллизиями."
   ]
  },
  {
   "cell_type": "code",
   "execution_count": 6,
   "metadata": {},
   "outputs": [
    {
     "data": {
      "application/vnd.jupyter.widget-view+json": {
       "model_id": "2fa13253ace7470b8f523b571bc9b17e",
       "version_major": 2,
       "version_minor": 0
      },
      "text/plain": [
       "HBox(children=(HTML(value=''), FloatProgress(value=0.0, max=2.0), HTML(value='')))"
      ]
     },
     "metadata": {},
     "output_type": "display_data"
    },
    {
     "data": {
      "application/vnd.jupyter.widget-view+json": {
       "model_id": "",
       "version_major": 2,
       "version_minor": 0
      },
      "text/plain": [
       "HBox(children=(HTML(value=''), FloatProgress(value=0.0, max=4.0), HTML(value='')))"
      ]
     },
     "metadata": {},
     "output_type": "display_data"
    },
    {
     "data": {
      "application/vnd.jupyter.widget-view+json": {
       "model_id": "",
       "version_major": 2,
       "version_minor": 0
      },
      "text/plain": [
       "HBox(children=(HTML(value=''), FloatProgress(value=0.0, max=21.0), HTML(value='')))"
      ]
     },
     "metadata": {},
     "output_type": "display_data"
    },
    {
     "data": {
      "application/vnd.jupyter.widget-view+json": {
       "model_id": "",
       "version_major": 2,
       "version_minor": 0
      },
      "text/plain": [
       "HBox(children=(HTML(value=''), FloatProgress(value=0.0, max=21.0), HTML(value='')))"
      ]
     },
     "metadata": {},
     "output_type": "display_data"
    },
    {
     "data": {
      "application/vnd.jupyter.widget-view+json": {
       "model_id": "",
       "version_major": 2,
       "version_minor": 0
      },
      "text/plain": [
       "HBox(children=(HTML(value=''), FloatProgress(value=0.0, max=21.0), HTML(value='')))"
      ]
     },
     "metadata": {},
     "output_type": "display_data"
    },
    {
     "data": {
      "application/vnd.jupyter.widget-view+json": {
       "model_id": "",
       "version_major": 2,
       "version_minor": 0
      },
      "text/plain": [
       "HBox(children=(HTML(value=''), FloatProgress(value=0.0, max=21.0), HTML(value='')))"
      ]
     },
     "metadata": {},
     "output_type": "display_data"
    },
    {
     "data": {
      "application/vnd.jupyter.widget-view+json": {
       "model_id": "",
       "version_major": 2,
       "version_minor": 0
      },
      "text/plain": [
       "HBox(children=(HTML(value=''), FloatProgress(value=0.0, max=4.0), HTML(value='')))"
      ]
     },
     "metadata": {},
     "output_type": "display_data"
    },
    {
     "data": {
      "application/vnd.jupyter.widget-view+json": {
       "model_id": "",
       "version_major": 2,
       "version_minor": 0
      },
      "text/plain": [
       "HBox(children=(HTML(value=''), FloatProgress(value=0.0, max=21.0), HTML(value='')))"
      ]
     },
     "metadata": {},
     "output_type": "display_data"
    },
    {
     "data": {
      "application/vnd.jupyter.widget-view+json": {
       "model_id": "",
       "version_major": 2,
       "version_minor": 0
      },
      "text/plain": [
       "HBox(children=(HTML(value=''), FloatProgress(value=0.0, max=21.0), HTML(value='')))"
      ]
     },
     "metadata": {},
     "output_type": "display_data"
    },
    {
     "data": {
      "application/vnd.jupyter.widget-view+json": {
       "model_id": "",
       "version_major": 2,
       "version_minor": 0
      },
      "text/plain": [
       "HBox(children=(HTML(value=''), FloatProgress(value=0.0, max=21.0), HTML(value='')))"
      ]
     },
     "metadata": {},
     "output_type": "display_data"
    },
    {
     "data": {
      "application/vnd.jupyter.widget-view+json": {
       "model_id": "",
       "version_major": 2,
       "version_minor": 0
      },
      "text/plain": [
       "HBox(children=(HTML(value=''), FloatProgress(value=0.0, max=21.0), HTML(value='')))"
      ]
     },
     "metadata": {},
     "output_type": "display_data"
    },
    {
     "name": "stdout",
     "output_type": "stream",
     "text": [
      "\n"
     ]
    }
   ],
   "source": [
    "# We will store values for each protocol in matrices,\n",
    "# where rows correspond to different BER values and columns - number of tags:\n",
    "\n",
    "ESTIMATED_ROUND_DURATIONS = {key: [] for key in PROTOCOLS}\n",
    "ESTIMATED_SLOTS_DURATIONS = {key: [] for key in PROTOCOLS}\n",
    "ESTIMATED_SLOTS_COUNTS = {key: [] for key in PROTOCOLS}\n",
    "\n",
    "TQDM_PROTOCOLS = tqdm(PROTOCOLS)\n",
    "\n",
    "for protocol_name in TQDM_PROTOCOLS:\n",
    "    \n",
    "    TQDM_PROTOCOLS.set_description(protocol_name)\n",
    "    TQDM_BER = tqdm(BER, leave=False)\n",
    "    protocol = PROTOCOLS[protocol_name]\n",
    "\n",
    "    for ber in TQDM_BER:\n",
    "        \n",
    "        TQDM_BER.set_description(f'BER={ber}')\n",
    "        estimated_round_durations = []\n",
    "        estimated_slots_durations = []\n",
    "        estimated_slots_counts = []\n",
    "        TQDM_TAGS = tqdm(N_TAGS, leave=False)\n",
    "        \n",
    "        for n_tags in TQDM_TAGS:\n",
    "            TQDM_TAGS.set_description(f'{n_tags} tags')\n",
    "            \n",
    "            # Run Monte-Carlo:\n",
    "            round_duration, slots_durations, slots_counts = \\\n",
    "                estimate_rounds_props(protocol, n_tags, ber, n_iters=range(5000))\n",
    "            \n",
    "            estimated_round_durations.append(round_duration)\n",
    "            estimated_slots_durations.append(slots_durations)\n",
    "            estimated_slots_counts.append(slots_counts)\n",
    "        \n",
    "        # Store results:\n",
    "        ESTIMATED_ROUND_DURATIONS[protocol_name].append(estimated_round_durations)\n",
    "        ESTIMATED_SLOTS_DURATIONS[protocol_name].append(estimated_slots_durations)\n",
    "        ESTIMATED_SLOTS_COUNTS[protocol_name].append(estimated_slots_counts)"
   ]
  },
  {
   "cell_type": "markdown",
   "metadata": {},
   "source": [
    "## Вычисление параметров раундов с помощью аналитической модели\n",
    "\n",
    "Теперь вычислим длительности раундов и слотов с помощью аналитической модели. Эта модель использует урновую схему (см. `rfidam.baskets`) для расчета среднего количества пустых слотов, слотов с одним ответом и слотов с коллизиями."
   ]
  },
  {
   "cell_type": "code",
   "execution_count": 6,
   "metadata": {},
   "outputs": [
    {
     "data": {
      "application/vnd.jupyter.widget-view+json": {
       "model_id": "6a8cc431acaa489a9003e86b0355246a",
       "version_major": 2,
       "version_minor": 0
      },
      "text/plain": [
       "HBox(children=(HTML(value=''), FloatProgress(value=0.0, max=2.0), HTML(value='')))"
      ]
     },
     "metadata": {},
     "output_type": "display_data"
    },
    {
     "data": {
      "application/vnd.jupyter.widget-view+json": {
       "model_id": "",
       "version_major": 2,
       "version_minor": 0
      },
      "text/plain": [
       "HBox(children=(HTML(value=''), FloatProgress(value=0.0, max=4.0), HTML(value='')))"
      ]
     },
     "metadata": {},
     "output_type": "display_data"
    },
    {
     "data": {
      "application/vnd.jupyter.widget-view+json": {
       "model_id": "",
       "version_major": 2,
       "version_minor": 0
      },
      "text/plain": [
       "HBox(children=(HTML(value=''), FloatProgress(value=0.0, max=4.0), HTML(value='')))"
      ]
     },
     "metadata": {},
     "output_type": "display_data"
    },
    {
     "name": "stdout",
     "output_type": "stream",
     "text": [
      "\n"
     ]
    }
   ],
   "source": [
    "# As above, we store models in dictionaries with the same keys sets as protocols.\n",
    "# At each key, we store a matrix, in which:\n",
    "# - rows correspond to BER values\n",
    "# - columns correspond to different numbers of tags\n",
    "ROUND_MODELS = {key: [] for key in PROTOCOLS}\n",
    "\n",
    "# Also store round durations separately.\n",
    "# We do so, since `round_durations` property is cached, so calling it will run estimation.\n",
    "ANALYTIC_ROUND_DURATIONS = {key: [] for key in PROTOCOLS}\n",
    "\n",
    "TQDM_PROTOCOLS = tqdm(PROTOCOLS)\n",
    "for protocol_name in TQDM_PROTOCOLS:\n",
    "    \n",
    "    TQDM_PROTOCOLS.set_description(protocol_name)\n",
    "    TQDM_BERS = tqdm(BER, leave=False)\n",
    "    protocol = PROTOCOLS[protocol_name]\n",
    "\n",
    "    for ber in TQDM_BERS:\n",
    "        \n",
    "        TQDM_BERS.set_description(f'BER={ber}')    \n",
    "        models = []\n",
    "        round_durations = []\n",
    "        \n",
    "        for n_tags in N_TAGS:\n",
    "            # Build and store the model:\n",
    "            model = RoundModel(protocol, n_tags, ber)\n",
    "            models.append(model)\n",
    "            round_durations.append(model.round_duration)\n",
    "        \n",
    "        # Store models for the given BER:\n",
    "        ROUND_MODELS[protocol_name].append(models)\n",
    "        ANALYTIC_ROUND_DURATIONS[protocol_name].append(round_durations)"
   ]
  },
  {
   "cell_type": "markdown",
   "metadata": {},
   "source": [
    "## Сравнение длин слотов\n",
    "\n",
    "Сначала сравним длительности слотов, рассчитанные из аналитической модели и методом Монте-Карло."
   ]
  },
  {
   "cell_type": "code",
   "execution_count": 8,
   "metadata": {},
   "outputs": [
    {
     "name": "stdout",
     "output_type": "stream",
     "text": [
      "\u001b[94m\u001b[0m                           \u001b[94mAnalytic\u001b[0m                \u001b[94mSimulation\u001b[0m             \u001b[94mError\u001b[0m\n",
      "-------------------------  ----------------------  ---------------------  -------\n",
      "\u001b[96m0 tags\u001b[0m\n",
      "\u001b[94mround duration\u001b[0m             0.0036375               0.0036375000000000014  \u001b[92m0.0000\u001b[0m\n",
      "\u001b[94mempty slot duration\u001b[0m        7.5e-05                 7.5e-05                \u001b[92m0.0000\u001b[0m\n",
      "\u001b[94mcollided slot duration\u001b[0m     0.00019101562500000002  0.000191015625         \u001b[92m0.0000\u001b[0m\n",
      "\u001b[94mreply slot duration\u001b[0m        0.001668374743740638    nan                    \u001b[92mnan\u001b[0m\n",
      "\u001b[94mempty slot probability\u001b[0m     1.0                     1.0                    \u001b[92m0.0000\u001b[0m\n",
      "\u001b[94mcollided slot probability\u001b[0m  0.0                     0.0                    \u001b[92m0.0000\u001b[0m\n",
      "\u001b[94mreply slot probability\u001b[0m     0.0                     0.0                    \u001b[92m0.0000\u001b[0m\n",
      "\u001b[96m1 tag\u001b[0m\n",
      "\u001b[94mround duration\u001b[0m             0.0052308747437406385   0.0052151209375000005  \u001b[92m0.0030\u001b[0m\n",
      "\u001b[94mempty slot duration\u001b[0m        7.5e-05                 7.5e-05                \u001b[92m0.0000\u001b[0m\n",
      "\u001b[94mcollided slot duration\u001b[0m     0.00019101562500000002  0.000191015625         \u001b[92m0.0000\u001b[0m\n",
      "\u001b[94mreply slot duration\u001b[0m        0.001668374743740638    0.0016526209375        \u001b[92m0.0095\u001b[0m\n",
      "\u001b[94mempty slot probability\u001b[0m     0.9375                  0.9375                 \u001b[92m0.0000\u001b[0m\n",
      "\u001b[94mcollided slot probability\u001b[0m  0.0                     0.0                    \u001b[92m0.0000\u001b[0m\n",
      "\u001b[94mreply slot probability\u001b[0m     0.0625                  0.0625                 \u001b[92m0.0000\u001b[0m\n",
      "\u001b[96m2 tags\u001b[0m\n",
      "\u001b[94mround duration\u001b[0m             0.0066323286210761955   0.006626891796875      \u001b[92m0.0008\u001b[0m\n",
      "\u001b[94mempty slot duration\u001b[0m        7.5e-05                 7.5e-05                \u001b[92m0.0000\u001b[0m\n",
      "\u001b[94mcollided slot duration\u001b[0m     0.00019101562500000002  0.000191015625         \u001b[92m0.0000\u001b[0m\n",
      "\u001b[94mreply slot duration\u001b[0m        0.001668374743740638    0.0016653116584231017  \u001b[92m0.0018\u001b[0m\n",
      "\u001b[94mempty slot probability\u001b[0m     0.87890625              0.8789                 \u001b[92m0.0000\u001b[0m\n",
      "\u001b[94mcollided slot probability\u001b[0m  0.00390625              0.0039                 \u001b[92m0.0016\u001b[0m\n",
      "\u001b[94mreply slot probability\u001b[0m     0.1171875               0.1172                 \u001b[92m0.0001\u001b[0m\n",
      "\u001b[96m3 tags\u001b[0m\n",
      "\u001b[94mround duration\u001b[0m             0.007859627620214572    0.00786388859375       \u001b[92m0.0005\u001b[0m\n",
      "\u001b[94mempty slot duration\u001b[0m        7.5e-05                 7.5e-05                \u001b[92m0.0000\u001b[0m\n",
      "\u001b[94mcollided slot duration\u001b[0m     0.00019101562500000002  0.000191015625         \u001b[92m0.0000\u001b[0m\n",
      "\u001b[94mreply slot duration\u001b[0m        0.001668374743740638    0.00166551075503895    \u001b[92m0.0017\u001b[0m\n",
      "\u001b[94mempty slot probability\u001b[0m     0.8239746093749999      0.8237125              \u001b[92m0.0003\u001b[0m\n",
      "\u001b[94mcollided slot probability\u001b[0m  0.011230468750000139    0.0110125              \u001b[92m0.0198\u001b[0m\n",
      "\u001b[94mreply slot probability\u001b[0m     0.16479492187499997     0.165275               \u001b[92m0.0029\u001b[0m\n",
      "\u001b[96m4 tags\u001b[0m\n",
      "\u001b[94mround duration\u001b[0m             0.008929066671722073    0.008940341328125      \u001b[92m0.0013\u001b[0m\n",
      "\u001b[94mempty slot duration\u001b[0m        7.5e-05                 7.5e-05                \u001b[92m0.0000\u001b[0m\n",
      "\u001b[94mcollided slot duration\u001b[0m     0.00019101562500000002  0.000191015625         \u001b[92m0.0000\u001b[0m\n",
      "\u001b[94mreply slot duration\u001b[0m        0.001668374743740638    0.0016703394257729617  \u001b[92m0.0012\u001b[0m\n",
      "\u001b[94mempty slot probability\u001b[0m     0.7724761962890626      0.7723625              \u001b[92m0.0001\u001b[0m\n",
      "\u001b[94mcollided slot probability\u001b[0m  0.02153015136718739     0.02145                \u001b[92m0.0037\u001b[0m\n",
      "\u001b[94mreply slot probability\u001b[0m     0.20599365234375        0.2061875              \u001b[92m0.0009\u001b[0m\n",
      "\u001b[96m5 tags\u001b[0m\n",
      "\u001b[94mround duration\u001b[0m             0.00985558413233717     0.009829800078125001   \u001b[92m0.0026\u001b[0m\n",
      "\u001b[94mempty slot duration\u001b[0m        7.5e-05                 7.5e-05                \u001b[92m0.0000\u001b[0m\n",
      "\u001b[94mcollided slot duration\u001b[0m     0.00019101562500000002  0.000191015625         \u001b[92m0.0000\u001b[0m\n",
      "\u001b[94mreply slot duration\u001b[0m        0.001668374743740638    0.0016576581503705522  \u001b[92m0.0065\u001b[0m\n",
      "\u001b[94mempty slot probability\u001b[0m     0.7241964340209961      0.7238625              \u001b[92m0.0005\u001b[0m\n",
      "\u001b[94mcollided slot probability\u001b[0m  0.034404754638671986    0.0341                 \u001b[92m0.0089\u001b[0m\n",
      "\u001b[94mreply slot probability\u001b[0m     0.24139881134033192     0.2420375              \u001b[92m0.0026\u001b[0m\n",
      "\u001b[96m6 tags\u001b[0m\n",
      "\u001b[94mround duration\u001b[0m             0.010652867704626456    0.010639103515625001   \u001b[92m0.0013\u001b[0m\n",
      "\u001b[94mempty slot duration\u001b[0m        7.5e-05                 7.5e-05                \u001b[92m0.0000\u001b[0m\n",
      "\u001b[94mcollided slot duration\u001b[0m     0.00019101562500000002  0.000191015625         \u001b[92m0.0000\u001b[0m\n",
      "\u001b[94mreply slot duration\u001b[0m        0.001668374743740638    0.0016560751079558456  \u001b[92m0.0074\u001b[0m\n",
      "\u001b[94mempty slot probability\u001b[0m     0.6789341568946838      0.6779375              \u001b[92m0.0015\u001b[0m\n",
      "\u001b[94mcollided slot probability\u001b[0m  0.04949218034744329     0.048875               \u001b[92m0.0126\u001b[0m\n",
      "\u001b[94mreply slot probability\u001b[0m     0.27157366275787287     0.2731875              \u001b[92m0.0059\u001b[0m\n",
      "\u001b[96m7 tags\u001b[0m\n",
      "\u001b[94mround duration\u001b[0m             0.011333452415800175    0.01131889             \u001b[92m0.0013\u001b[0m\n",
      "\u001b[94mempty slot duration\u001b[0m        7.5e-05                 7.5e-05                \u001b[92m0.0000\u001b[0m\n",
      "\u001b[94mcollided slot duration\u001b[0m     0.00019101562500000002  0.000191015625         \u001b[92m0.0000\u001b[0m\n",
      "\u001b[94mreply slot duration\u001b[0m        0.001668374743740638    0.0016605524141529617  \u001b[92m0.0047\u001b[0m\n",
      "\u001b[94mempty slot probability\u001b[0m     0.6365007720887661      0.635925               \u001b[92m0.0009\u001b[0m\n",
      "\u001b[94mcollided slot probability\u001b[0m  0.06646553426980928     0.066125               \u001b[92m0.0051\u001b[0m\n",
      "\u001b[94mreply slot probability\u001b[0m     0.2970336936414246      0.29795                \u001b[92m0.0031\u001b[0m\n",
      "\u001b[96m8 tags\u001b[0m\n",
      "\u001b[94mround duration\u001b[0m             0.01190881123454343     0.011903636015625      \u001b[92m0.0004\u001b[0m\n",
      "\u001b[94mempty slot duration\u001b[0m        7.5e-05                 7.5e-05                \u001b[92m0.0000\u001b[0m\n",
      "\u001b[94mcollided slot duration\u001b[0m     0.00019101562500000002  0.000191015625         \u001b[92m0.0000\u001b[0m\n",
      "\u001b[94mreply slot duration\u001b[0m        0.001668374743740638    0.0016669870335692687  \u001b[92m0.0008\u001b[0m\n",
      "\u001b[94mempty slot probability\u001b[0m     0.5967194738332182      0.59665                \u001b[92m0.0001\u001b[0m\n",
      "\u001b[94mcollided slot probability\u001b[0m  0.08503014012239962     0.085025               \u001b[92m0.0001\u001b[0m\n",
      "\u001b[94mreply slot probability\u001b[0m     0.31825038604438216     0.318325               \u001b[92m0.0002\u001b[0m\n",
      "\u001b[96m9 tags\u001b[0m\n",
      "\u001b[94mround duration\u001b[0m             0.01239573777507781     0.0124011859375        \u001b[92m0.0004\u001b[0m\n",
      "\u001b[94mempty slot duration\u001b[0m        7.5e-05                 7.5e-05                \u001b[92m0.0000\u001b[0m\n",
      "\u001b[94mcollided slot duration\u001b[0m     0.00019101562500000002  0.000191015625         \u001b[92m0.0000\u001b[0m\n",
      "\u001b[94mreply slot duration\u001b[0m        0.001668374743740638    0.0016679287711671438  \u001b[92m0.0003\u001b[0m\n",
      "\u001b[94mempty slot probability\u001b[0m     0.559234375             0.559225               \u001b[92m0.0000\u001b[0m\n",
      "\u001b[94mcollided slot probability\u001b[0m  0.10485937500000003     0.1045375              \u001b[92m0.0031\u001b[0m\n",
      "\u001b[94mreply slot probability\u001b[0m     0.33590625              0.3362375              \u001b[92m0.0010\u001b[0m\n",
      "\u001b[96m10 tags\u001b[0m\n",
      "\u001b[94mround duration\u001b[0m             0.012781863174707643    0.012822254296875002   \u001b[92m0.0032\u001b[0m\n",
      "\u001b[94mempty slot duration\u001b[0m        7.5e-05                 7.5e-05                \u001b[92m0.0000\u001b[0m\n",
      "\u001b[94mcollided slot duration\u001b[0m     0.00019101562500000002  0.000191015625         \u001b[92m0.0000\u001b[0m\n",
      "\u001b[94mreply slot duration\u001b[0m        0.001668374743740638    0.0016697116572921122  \u001b[92m0.0008\u001b[0m\n",
      "\u001b[94mempty slot probability\u001b[0m     0.52464375              0.5238                 \u001b[92m0.0016\u001b[0m\n",
      "\u001b[94mcollided slot probability\u001b[0m  0.12583125000000006     0.12535                \u001b[92m0.0038\u001b[0m\n",
      "\u001b[94mreply slot probability\u001b[0m     0.349525                0.35085                \u001b[92m0.0038\u001b[0m\n",
      "\u001b[96m11 tags\u001b[0m\n",
      "\u001b[94mround duration\u001b[0m             0.013098428005310709    0.013027914375         \u001b[92m0.0054\u001b[0m\n",
      "\u001b[94mempty slot duration\u001b[0m        7.5e-05                 7.5e-05                \u001b[92m0.0000\u001b[0m\n",
      "\u001b[94mcollided slot duration\u001b[0m     0.00019101562500000002  0.000191015625         \u001b[92m0.0000\u001b[0m\n",
      "\u001b[94mreply slot duration\u001b[0m        0.001668374743740638    0.0016673872279997556  \u001b[92m0.0006\u001b[0m\n",
      "\u001b[94mempty slot probability\u001b[0m     0.491990625             0.493625               \u001b[92m0.0033\u001b[0m\n",
      "\u001b[94mcollided slot probability\u001b[0m  0.14765625              0.1486375              \u001b[92m0.0066\u001b[0m\n",
      "\u001b[94mreply slot probability\u001b[0m     0.360353125             0.3577375              \u001b[92m0.0073\u001b[0m\n",
      "\u001b[96m12 tags\u001b[0m\n",
      "\u001b[94mround duration\u001b[0m             0.013364172628630018    0.01334971484375       \u001b[92m0.0011\u001b[0m\n",
      "\u001b[94mempty slot duration\u001b[0m        7.5e-05                 7.5e-05                \u001b[92m0.0000\u001b[0m\n",
      "\u001b[94mcollided slot duration\u001b[0m     0.00019101562500000002  0.000191015625         \u001b[92m0.0000\u001b[0m\n",
      "\u001b[94mreply slot duration\u001b[0m        0.001668374743740638    0.001676255166609852   \u001b[92m0.0047\u001b[0m\n",
      "\u001b[94mempty slot probability\u001b[0m     0.46080937499999997     0.4621875              \u001b[92m0.0030\u001b[0m\n",
      "\u001b[94mcollided slot probability\u001b[0m  0.17004375000000005     0.171125               \u001b[92m0.0063\u001b[0m\n",
      "\u001b[94mreply slot probability\u001b[0m     0.369146875             0.3666875              \u001b[92m0.0067\u001b[0m\n",
      "\u001b[96m13 tags\u001b[0m\n",
      "\u001b[94mround duration\u001b[0m             0.013561949689646293    0.01360453125          \u001b[92m0.0031\u001b[0m\n",
      "\u001b[94mempty slot duration\u001b[0m        7.5e-05                 7.5e-05                \u001b[92m0.0000\u001b[0m\n",
      "\u001b[94mcollided slot duration\u001b[0m     0.00019101562500000002  0.000191015625         \u001b[92m0.0000\u001b[0m\n",
      "\u001b[94mreply slot duration\u001b[0m        0.001668374743740638    0.0016704577682929867  \u001b[92m0.0012\u001b[0m\n",
      "\u001b[94mempty slot probability\u001b[0m     0.4316625               0.4307625              \u001b[92m0.0021\u001b[0m\n",
      "\u001b[94mcollided slot probability\u001b[0m  0.1931124999999999      0.1928125              \u001b[92m0.0016\u001b[0m\n",
      "\u001b[94mreply slot probability\u001b[0m     0.37522500000000003     0.376425               \u001b[92m0.0032\u001b[0m\n",
      "\u001b[96m14 tags\u001b[0m\n",
      "\u001b[94mround duration\u001b[0m             0.013689531986259237    0.013647319218749999   \u001b[92m0.0031\u001b[0m\n",
      "\u001b[94mempty slot duration\u001b[0m        7.5e-05                 7.5e-05                \u001b[92m0.0000\u001b[0m\n",
      "\u001b[94mcollided slot duration\u001b[0m     0.00019101562500000002  0.000191015625         \u001b[92m0.0000\u001b[0m\n",
      "\u001b[94mreply slot duration\u001b[0m        0.001668374743740638    0.0016725916807699345  \u001b[92m0.0025\u001b[0m\n",
      "\u001b[94mempty slot probability\u001b[0m     0.40499375000000004     0.406175               \u001b[92m0.0029\u001b[0m\n",
      "\u001b[94mcollided slot probability\u001b[0m  0.21647812499999997     0.2180625              \u001b[92m0.0073\u001b[0m\n",
      "\u001b[94mreply slot probability\u001b[0m     0.378528125             0.3757625              \u001b[92m0.0074\u001b[0m\n",
      "\u001b[96m15 tags\u001b[0m\n",
      "\u001b[94mround duration\u001b[0m             0.01377714179958867     0.013724476015625      \u001b[92m0.0038\u001b[0m\n",
      "\u001b[94mempty slot duration\u001b[0m        7.5e-05                 7.5e-05                \u001b[92m0.0000\u001b[0m\n",
      "\u001b[94mcollided slot duration\u001b[0m     0.00019101562500000002  0.000191015625         \u001b[92m0.0000\u001b[0m\n",
      "\u001b[94mreply slot duration\u001b[0m        0.001668374743740638    0.0016702662741021185  \u001b[92m0.0011\u001b[0m\n",
      "\u001b[94mempty slot probability\u001b[0m     0.379484375             0.380825               \u001b[92m0.0035\u001b[0m\n",
      "\u001b[94mcollided slot probability\u001b[0m  0.240284375             0.24155                \u001b[92m0.0052\u001b[0m\n",
      "\u001b[94mreply slot probability\u001b[0m     0.38023125              0.377625               \u001b[92m0.0069\u001b[0m\n",
      "\u001b[96m16 tags\u001b[0m\n",
      "\u001b[94mround duration\u001b[0m             0.01379096478037979     0.013797622109374998   \u001b[92m0.0005\u001b[0m\n",
      "\u001b[94mempty slot duration\u001b[0m        7.5e-05                 7.5e-05                \u001b[92m0.0000\u001b[0m\n",
      "\u001b[94mcollided slot duration\u001b[0m     0.00019101562500000002  0.000191015625         \u001b[92m0.0000\u001b[0m\n",
      "\u001b[94mreply slot duration\u001b[0m        0.001668374743740638    0.0016761613179172325  \u001b[92m0.0046\u001b[0m\n",
      "\u001b[94mempty slot probability\u001b[0m     0.356478125             0.3578875              \u001b[92m0.0039\u001b[0m\n",
      "\u001b[94mcollided slot probability\u001b[0m  0.2645125               0.2647                 \u001b[92m0.0007\u001b[0m\n",
      "\u001b[94mreply slot probability\u001b[0m     0.37900937500000004     0.3774125              \u001b[92m0.0042\u001b[0m\n",
      "\u001b[96m17 tags\u001b[0m\n",
      "\u001b[94mround duration\u001b[0m             0.013825745405892648    0.013809310078125      \u001b[92m0.0012\u001b[0m\n",
      "\u001b[94mempty slot duration\u001b[0m        7.5e-05                 7.5e-05                \u001b[92m0.0000\u001b[0m\n",
      "\u001b[94mcollided slot duration\u001b[0m     0.00019101562500000002  0.000191015625         \u001b[92m0.0000\u001b[0m\n",
      "\u001b[94mreply slot duration\u001b[0m        0.001668374743740638    0.0016670698581948394  \u001b[92m0.0008\u001b[0m\n",
      "\u001b[94mempty slot probability\u001b[0m     0.333721875             0.333625               \u001b[92m0.0003\u001b[0m\n",
      "\u001b[94mcollided slot probability\u001b[0m  0.2875843750000001      0.28805                \u001b[92m0.0016\u001b[0m\n",
      "\u001b[94mreply slot probability\u001b[0m     0.37869374999999994     0.378325               \u001b[92m0.0010\u001b[0m\n",
      "\u001b[96m18 tags\u001b[0m\n",
      "\u001b[94mround duration\u001b[0m             0.013786484262391893    0.013822332421875002   \u001b[92m0.0026\u001b[0m\n",
      "\u001b[94mempty slot duration\u001b[0m        7.5e-05                 7.5e-05                \u001b[92m0.0000\u001b[0m\n",
      "\u001b[94mcollided slot duration\u001b[0m     0.00019101562500000002  0.000191015625         \u001b[92m0.0000\u001b[0m\n",
      "\u001b[94mreply slot duration\u001b[0m        0.001668374743740638    0.0016753255945787249  \u001b[92m0.0041\u001b[0m\n",
      "\u001b[94mempty slot probability\u001b[0m     0.31284999999999996     0.31355                \u001b[92m0.0022\u001b[0m\n",
      "\u001b[94mcollided slot probability\u001b[0m  0.31175625000000007     0.31125                \u001b[92m0.0016\u001b[0m\n",
      "\u001b[94mreply slot probability\u001b[0m     0.37539374999999997     0.3752                 \u001b[92m0.0005\u001b[0m\n",
      "\u001b[96m19 tags\u001b[0m\n",
      "\u001b[94mround duration\u001b[0m             0.01372332682643627     0.013797413125         \u001b[92m0.0054\u001b[0m\n",
      "\u001b[94mempty slot duration\u001b[0m        7.5e-05                 7.5e-05                \u001b[92m0.0000\u001b[0m\n",
      "\u001b[94mcollided slot duration\u001b[0m     0.00019101562500000002  0.000191015625         \u001b[92m0.0000\u001b[0m\n",
      "\u001b[94mreply slot duration\u001b[0m        0.001668374743740638    0.0016684447247093414  \u001b[92m0.0000\u001b[0m\n",
      "\u001b[94mempty slot probability\u001b[0m     0.29355000000000003     0.29135                \u001b[92m0.0076\u001b[0m\n",
      "\u001b[94mcollided slot probability\u001b[0m  0.33524375000000006     0.3345                 \u001b[92m0.0022\u001b[0m\n",
      "\u001b[94mreply slot probability\u001b[0m     0.37120624999999996     0.37415                \u001b[92m0.0079\u001b[0m\n",
      "\u001b[96m20 tags\u001b[0m\n",
      "\u001b[94mround duration\u001b[0m             0.013684038799610498    0.013625021015625      \u001b[92m0.0043\u001b[0m\n",
      "\u001b[94mempty slot duration\u001b[0m        7.5e-05                 7.5e-05                \u001b[92m0.0000\u001b[0m\n",
      "\u001b[94mcollided slot duration\u001b[0m     0.00019101562500000002  0.000191015625         \u001b[92m0.0000\u001b[0m\n",
      "\u001b[94mreply slot duration\u001b[0m        0.001668374743740638    0.0016644857336956522  \u001b[92m0.0023\u001b[0m\n",
      "\u001b[94mempty slot probability\u001b[0m     0.274284375             0.2750875              \u001b[92m0.0029\u001b[0m\n",
      "\u001b[94mcollided slot probability\u001b[0m  0.35768437499999994     0.35835                \u001b[92m0.0019\u001b[0m\n",
      "\u001b[94mreply slot probability\u001b[0m     0.36803125000000003     0.3665625              \u001b[92m0.0040\u001b[0m\n"
     ]
    }
   ],
   "source": [
    "# Compare slots durations estimated with Monte-Carlo method and analytic approach\n",
    "BER_INDEX = -2\n",
    "PROTOCOL_NAME = 'tid'\n",
    "\n",
    "rows = []\n",
    "for i, n_tags in enumerate(N_TAGS):\n",
    "    rounds_model = ROUND_MODELS[PROTOCOL_NAME][BER_INDEX][i]\n",
    "    estimated_round_duration = ESTIMATED_ROUND_DURATIONS[PROTOCOL_NAME][BER_INDEX][i]\n",
    "    estiamted_slots_durations = ESTIMATED_SLOTS_DURATIONS[PROTOCOL_NAME][BER_INDEX][i]\n",
    "    estimated_slots_counts = ESTIMATED_SLOTS_COUNTS[PROTOCOL_NAME][BER_INDEX][i]\n",
    "\n",
    "    # Compute slot probabilities:\n",
    "    estimated_slots_probs = SlotValues(\n",
    "        empty=(estimated_slots_counts.empty / protocol.props.n_slots),\n",
    "        collided=(estimated_slots_counts.collided / protocol.props.n_slots),\n",
    "        reply=(estimated_slots_counts.reply / protocol.props.n_slots))\n",
    "    \n",
    "    # Build table rows:\n",
    "    value_rows = [\n",
    "        [fmt_header('round duration'), rounds_model.round_duration, estimated_round_duration],\n",
    "        [fmt_header('empty slot duration'), rounds_model.slots.durations.empty, estiamted_slots_durations.empty],\n",
    "        [fmt_header('collided slot duration'), rounds_model.slots.durations.collided, estiamted_slots_durations.collided],\n",
    "        [fmt_header('reply slot duration'), rounds_model.slots.durations.reply, estiamted_slots_durations.reply],\n",
    "        [fmt_header('empty slot probability'), rounds_model.slots.probs.empty, estimated_slots_probs.empty],\n",
    "        [fmt_header('collided slot probability'), rounds_model.slots.probs.collided, estimated_slots_probs.collided],\n",
    "        [fmt_header('reply slot probability'), rounds_model.slots.probs.reply, estimated_slots_probs.reply],\n",
    "    ]\n",
    "\n",
    "    # Append errors estimations to each row:\n",
    "    for row in value_rows:\n",
    "        row.append(fmt_err(row[-1], row[-2]))\n",
    "    \n",
    "    # Add rows to the main table:\n",
    "    title_row = [fmt_delim(f'{n_tags} tag{pluralize(n_tags)}')] + [''] * 3\n",
    "    rows.append(title_row)\n",
    "    rows.extend(value_rows)\n",
    "\n",
    "headers = [fmt_header(s) for s in ['', 'Analytic', 'Simulation', 'Error']]\n",
    "print(tabulate(rows, headers=headers))"
   ]
  },
  {
   "cell_type": "markdown",
   "metadata": {},
   "source": [
    "## Сравнение длительностей раундов"
   ]
  },
  {
   "cell_type": "code",
   "execution_count": 9,
   "metadata": {},
   "outputs": [
    {
     "data": {
      "image/png": "[encoded data removed]",
      "text/plain": [
       "<Figure size 864x360 with 2 Axes>"
      ]
     },
     "metadata": {
      "needs_background": "light"
     },
     "output_type": "display_data"
    }
   ],
   "source": [
    "CMAP = plt.get_cmap('viridis')\n",
    "fig, (ax1, ax2) = plt.subplots(figsize=(12, 5), nrows=1, ncols=2)\n",
    "MARKERS = ['x', 'd', 'o', \"^\", 'v']\n",
    "for i, ber in enumerate(BER):\n",
    "    color = CMAP(i/len(BER))\n",
    "    marker = MARKERS[i % len(MARKERS)]\n",
    "    ax1.plot(N_TAGS, ESTIMATED_ROUND_DURATIONS['epcid'][i], \n",
    "             label=f'BER={ber}, simulation', marker=marker, color='black', linestyle=\"None\")\n",
    "    ax1.plot(N_TAGS, ANALYTIC_ROUND_DURATIONS['epcid'][i], \n",
    "             label=f'BER={ber}, analytic', color=color)\n",
    "    ax2.plot(N_TAGS, ESTIMATED_ROUND_DURATIONS['tid'][i], \n",
    "             label=f'BER={ber}, simulation', marker=marker, color='black', linestyle=\"None\")\n",
    "    ax2.plot(N_TAGS, ANALYTIC_ROUND_DURATIONS['tid'][i], \n",
    "             label=f'BER={ber}, analytic', color=color)\n",
    "ax1.set_title('Reading EPCID only')\n",
    "ax2.set_title('Reading TID + EPCID')\n",
    "fig.suptitle('Round durations')\n",
    "for ax in (ax1, ax2):\n",
    "    ax.legend()\n",
    "    ax.grid()\n",
    "plt.tight_layout()"
   ]
  },
  {
   "cell_type": "code",
   "execution_count": null,
   "metadata": {},
   "outputs": [],
   "source": []
  }
 ],
 "metadata": {
  "kernelspec": {
   "display_name": "Python 3",
   "language": "python",
   "name": "python3"
  },
  "language_info": {
   "codemirror_mode": {
    "name": "ipython",
    "version": 3
   },
   "file_extension": ".py",
   "mimetype": "text/x-python",
   "name": "python",
   "nbconvert_exporter": "python",
   "pygments_lexer": "ipython3",
   "version": "3.8.2"
  }
 },
 "nbformat": 4,
 "nbformat_minor": 4
}
