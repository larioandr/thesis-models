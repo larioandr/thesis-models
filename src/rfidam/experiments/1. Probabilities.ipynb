{
 "cells": [
  {
   "cell_type": "markdown",
   "metadata": {},
   "source": [
    "# Валидация урновой модели\n",
    "\n",
    "В этом ноутбуке мы исследуем вероятности распределений шариков по урнам, полученные с помощью имитационного моделирования (метода Монте-Карло) и аналитических моделей.\n",
    "\n",
    "Для нас представляют интерес три случайные переменные:\n",
    "\n",
    "- $\\mu_0$: число урн, в которых не оказалось шариков\n",
    "- $\\mu_1$: число урн, в которых оказалось по одному шарику\n",
    "- $\\mu_2$: число урн, в которых оказалось два и больше шариков"
   ]
  },
  {
   "cell_type": "code",
   "execution_count": 1,
   "metadata": {},
   "outputs": [],
   "source": [
    "%load_ext autoreload\n",
    "%autoreload 2"
   ]
  },
  {
   "cell_type": "code",
   "execution_count": 2,
   "metadata": {},
   "outputs": [],
   "source": [
    "from rfidam.baskets import BasketsOccupancyProblem, estimate_occupancy_rates, mean_num, Occupancy\n",
    "from rfidam.utils import bcolors, get_err, fmt_err, highlight, pluralize\n",
    "\n",
    "from tabulate import tabulate\n",
    "from tqdm.notebook import tqdm, trange\n",
    "import numpy as np\n",
    "import matplotlib.pyplot as plt"
   ]
  },
  {
   "cell_type": "markdown",
   "metadata": {},
   "source": [
    "Определим вспомогательные методы для однотипной подстветки таблиц и форматирования строк."
   ]
  },
  {
   "cell_type": "code",
   "execution_count": 3,
   "metadata": {},
   "outputs": [],
   "source": [
    "def fmt_header(s):\n",
    "    return highlight(s, bcolors.OKBLUE)\n",
    "\n",
    "def fmt_delim(s):\n",
    "    return highlight(s, bcolors.OKCYAN)\n",
    "\n",
    "def fmt_float(x):\n",
    "    return f'{x:.4f}'"
   ]
  },
  {
   "cell_type": "markdown",
   "metadata": {},
   "source": [
    "Все эксперименты будем проводить для случая числа корзин $N = 8$ и разного числа шариков $K = 0, 1, 4, 8, 10$."
   ]
  },
  {
   "cell_type": "code",
   "execution_count": 4,
   "metadata": {},
   "outputs": [],
   "source": [
    "N_BASKETS = 8\n",
    "N_BALLS = [0, 1, 4, 8, 10]"
   ]
  },
  {
   "cell_type": "markdown",
   "metadata": {},
   "source": [
    "## Расчет методом Монте-Карло\n",
    "\n",
    "Сначала проверим, как меняется число пустых урн ($\\mu_0$), урн с единственным шариком ($\\mu_1$) и урн с несколькими шариками ($\\mu_2$) в зависимости от числа шариков с помощью метода Монте-Карло. Для этого промоделируем распределение шаров по урнам много раз и рассчитаем частоту возникновения $m_0$ пустых урн, $m_1$ урн с одним шаром и $m_2$ урн с несколькими шарами."
   ]
  },
  {
   "cell_type": "code",
   "execution_count": 5,
   "metadata": {},
   "outputs": [
    {
     "data": {
      "application/vnd.jupyter.widget-view+json": {
       "model_id": "58fcb8e75b8b474ca79f7e840cd9a8a4",
       "version_major": 2,
       "version_minor": 0
      },
      "text/plain": [
       "HBox(children=(HTML(value=''), FloatProgress(value=0.0, max=5.0), HTML(value='')))"
      ]
     },
     "metadata": {},
     "output_type": "display_data"
    },
    {
     "name": "stdout",
     "output_type": "stream",
     "text": [
      "\n"
     ]
    }
   ],
   "source": [
    "# Run Monte-Carlo:\n",
    "ESTIMATIONS = [estimate_occupancy_rates(N_BASKETS, n_balls, n_iters=100000) for n_balls in tqdm(N_BALLS)]\n",
    "\n",
    "# Compute mean values:\n",
    "ESTIMATED_MEANS = [Occupancy(\n",
    "    empty=mean_num(est.empty),\n",
    "    single=mean_num(est.single),\n",
    "    many=mean_num(est.many)) for est in ESTIMATIONS]"
   ]
  },
  {
   "cell_type": "code",
   "execution_count": 6,
   "metadata": {},
   "outputs": [
    {
     "name": "stdout",
     "output_type": "stream",
     "text": [
      "\u001b[95mEmpty baskets distribution\u001b[0m\n",
      "\u001b[94m0 balls:\u001b[0m [0.000, 0.000, 0.000, 0.000, 0.000, 0.000, 0.000, 0.000, 1.000]\n",
      "\u001b[94m1 ball:\u001b[0m [0.000, 0.000, 0.000, 0.000, 0.000, 0.000, 0.000, 1.000, 0.000]\n",
      "\u001b[94m4 balls:\u001b[0m [0.000, 0.000, 0.000, 0.000, 0.410, 0.493, 0.095, 0.002, 0.000]\n",
      "\u001b[94m8 balls:\u001b[0m [0.003, 0.068, 0.320, 0.421, 0.169, 0.019, 0.000, 0.000, 0.000]\n",
      "\u001b[94m10 balls:\u001b[0m [0.028, 0.221, 0.426, 0.269, 0.053, 0.003, 0.000, 0.000, 0.000]\n"
     ]
    }
   ],
   "source": [
    "# Print distributions in Python list format:\n",
    "print(highlight('Empty baskets distribution', bcolors.HEADER))\n",
    "for i, n_balls in enumerate(N_BALLS):\n",
    "    print(highlight(f'{n_balls} ball{pluralize(n_balls)}:', bcolors.OKBLUE), '[' + ', '.join([f'{x:.3f}' for x in ESTIMATIONS[i].empty]) + ']')"
   ]
  },
  {
   "cell_type": "code",
   "execution_count": 7,
   "metadata": {},
   "outputs": [
    {
     "name": "stdout",
     "output_type": "stream",
     "text": [
      "  \u001b[94mNum. balls\u001b[0m    \u001b[94mAvg. empty\u001b[0m    \u001b[94mAvg. single\u001b[0m    \u001b[94mAvg. collided\u001b[0m\n",
      "------------  ------------  -------------  ---------------\n",
      "           \u001b[94m0\u001b[0m       8              0                0\n",
      "           \u001b[94m1\u001b[0m       7              1                0\n",
      "           \u001b[94m4\u001b[0m       4.68824        2.68077          0.63099\n",
      "           \u001b[94m8\u001b[0m       2.74449        3.14777          2.10774\n",
      "          \u001b[94m10\u001b[0m       2.10557        3.00394          2.89049\n"
     ]
    }
   ],
   "source": [
    "# Print average number of empty baskets, baskets with a single ball and baskets with multiple balls:\n",
    "rows = [(fmt_header(n_balls), est.empty, est.single, est.many) for n_balls, est in zip(N_BALLS, ESTIMATED_MEANS)]\n",
    "headers = [fmt_header(s) for s in ['Num. balls', 'Avg. empty', 'Avg. single', 'Avg. collided']]\n",
    "print(tabulate(rows, headers=headers))"
   ]
  },
  {
   "cell_type": "code",
   "execution_count": 8,
   "metadata": {},
   "outputs": [
    {
     "name": "stdout",
     "output_type": "stream",
     "text": [
      "\u001b[94m\u001b[0m                          \u001b[94m0\u001b[0m        \u001b[94m1\u001b[0m        \u001b[94m2\u001b[0m        \u001b[94m3\u001b[0m        \u001b[94m4\u001b[0m        \u001b[94m5\u001b[0m        \u001b[94m6\u001b[0m        \u001b[94m7\u001b[0m              \u001b[94m8\u001b[0m\n",
      "------------------------  -------  -------  -------  -------  -------  -------  -------  -------  -------\n",
      "\u001b[96m0 balls\u001b[0m\n",
      "\u001b[94mEmpty baskets\u001b[0m             0.0      0.0      0.0      0.0      0.0      0.0      0.0      0.0      1\n",
      "\u001b[94mBaskets with single ball\u001b[0m  1.0      0.0      0.0      0.0      0.0      0.0      0.0      0.0      0\n",
      "\u001b[94mBaskets with many balls\u001b[0m   1.0      0.0      0.0      0.0      0.0      0.0      0.0      0.0      0\n",
      "\u001b[96m1 ball\u001b[0m\n",
      "\u001b[94mEmpty baskets\u001b[0m             0.0      0.0      0.0      0.0      0.0      0.0      0.0      1.0      0\n",
      "\u001b[94mBaskets with single ball\u001b[0m  0.0      1.0      0.0      0.0      0.0      0.0      0.0      0.0      0\n",
      "\u001b[94mBaskets with many balls\u001b[0m   1.0      0.0      0.0      0.0      0.0      0.0      0.0      0.0      0\n",
      "\u001b[96m4 balls\u001b[0m\n",
      "\u001b[94mEmpty baskets\u001b[0m             0.0      0.0      0.0      0.0      0.41032  0.4928   0.0952   0.00168  0\n",
      "\u001b[94mBaskets with single ball\u001b[0m  0.04299  0.05389  0.4928   0.0      0.41032  0.0      0.0      0.0      0\n",
      "\u001b[94mBaskets with many balls\u001b[0m   0.41032  0.54837  0.04131  0.0      0.0      0.0      0.0      0.0      0\n",
      "\u001b[96m8 balls\u001b[0m\n",
      "\u001b[94mEmpty baskets\u001b[0m             0.00254  0.06808  0.31996  0.42095  0.16909  0.019    0.00038  0.0      0\n",
      "\u001b[94mBaskets with single ball\u001b[0m  0.02016  0.09202  0.23974  0.22918  0.28147  0.06681  0.06808  0.0      0.00254\n",
      "\u001b[94mBaskets with many balls\u001b[0m   0.00254  0.1693   0.55632  0.26156  0.01028  0.0      0.0      0.0      0\n",
      "\u001b[96m10 balls\u001b[0m\n",
      "\u001b[94mEmpty baskets\u001b[0m             0.02837  0.22076  0.42635  0.26891  0.05267  0.00294  0.0      0.0      0\n",
      "\u001b[94mBaskets with single ball\u001b[0m  0.02272  0.10968  0.23607  0.27882  0.21819  0.09868  0.03138  0.00446  0\n",
      "\u001b[94mBaskets with many balls\u001b[0m   0.0      0.01848  0.26662  0.5266   0.18253  0.00577  0.0      0.0      0\n"
     ]
    }
   ],
   "source": [
    "# Print probabilities that M urns are empty, have single or multiple balls\n",
    "rows = []\n",
    "for n_balls, occupancy in zip(N_BALLS, ESTIMATIONS):\n",
    "    rows.append([fmt_delim(f'{n_balls} ball{pluralize(n_balls)}')] + [''] * N_BASKETS)\n",
    "    rows.append([fmt_header('Empty baskets')] + list(occupancy.empty))\n",
    "    rows.append([fmt_header('Baskets with single ball')] + list(occupancy.single))\n",
    "    rows.append([fmt_header('Baskets with many balls')] + list(occupancy.many))\n",
    "headers = [fmt_header(s) for s in [''] + list(range(N_BASKETS + 1))]\n",
    "print(tabulate(rows, headers=headers))"
   ]
  },
  {
   "cell_type": "markdown",
   "metadata": {},
   "source": [
    "## Сравнение среднего числа урн разного типа, рассчитанного из аналитики и метода Монте-Карло\n",
    "\n",
    "Рассчитаем распределения величин $\\mu_0$, $\\mu_1$ и $\\mu_2$ с помощью аналитической модели и сравним результаты с тем, что было получено выше с помощью метода Монте-Карло."
   ]
  },
  {
   "cell_type": "code",
   "execution_count": 9,
   "metadata": {},
   "outputs": [
    {
     "data": {
      "application/vnd.jupyter.widget-view+json": {
       "model_id": "21d4d21c47db456cb280bf4c310a8bc2",
       "version_major": 2,
       "version_minor": 0
      },
      "text/plain": [
       "HBox(children=(HTML(value=''), FloatProgress(value=0.0, max=5.0), HTML(value='')))"
      ]
     },
     "metadata": {},
     "output_type": "display_data"
    },
    {
     "name": "stdout",
     "output_type": "stream",
     "text": [
      "\n"
     ]
    }
   ],
   "source": [
    "# Create UrnProblem instances for various balls count:\n",
    "PROBLEMS = [BasketsOccupancyProblem(N_BASKETS, n_balls) for n_balls in N_BALLS]\n",
    "\n",
    "# Compute analytically average number of empty baskets, baskets with a single ball and baskets with multiple balls:\n",
    "ANALYTIC_MEANS = [problem.avg_count for problem in tqdm(PROBLEMS)]"
   ]
  },
  {
   "cell_type": "markdown",
   "metadata": {},
   "source": [
    "### Среднее число пустых урн, урн с одним или многими шариками \n",
    "\n",
    "Сравним средние значения числа урн без шариков ($\\mathbb{E}\\mu_0$), урн с одним шариков ($\\mathbb{E}\\mu_1$) и урн с двумя или более шариками ($\\mathbb{E}\\mu_2$)."
   ]
  },
  {
   "cell_type": "code",
   "execution_count": 10,
   "metadata": {},
   "outputs": [
    {
     "name": "stdout",
     "output_type": "stream",
     "text": [
      "\u001b[94m\u001b[0m             \u001b[94mEmpty baskets\u001b[0m    \u001b[94mBaskets with one ball\u001b[0m    \u001b[94mBaskets with many balls\u001b[0m\n",
      "-----------  ---------------  -----------------------  -------------------------\n",
      "\u001b[96m0 balls\u001b[0m\n",
      "\u001b[94mAnalytic\u001b[0m     8.0000           0.0000                   0.0000\n",
      "\u001b[94mMonte-Carlo\u001b[0m  8.0000           0.0000                   0.0000\n",
      "\u001b[94mError\u001b[0m        \u001b[92m0.0000\u001b[0m           \u001b[92m0.0000\u001b[0m                   \u001b[92m0.0000\u001b[0m\n",
      "\u001b[96m1 ball\u001b[0m\n",
      "\u001b[94mAnalytic\u001b[0m     7.0000           1.0000                   0.0000\n",
      "\u001b[94mMonte-Carlo\u001b[0m  7.0000           1.0000                   0.0000\n",
      "\u001b[94mError\u001b[0m        \u001b[92m0.0000\u001b[0m           \u001b[92m0.0000\u001b[0m                   \u001b[92m0.0000\u001b[0m\n",
      "\u001b[96m4 balls\u001b[0m\n",
      "\u001b[94mAnalytic\u001b[0m     4.6895           2.6797                   0.6309\n",
      "\u001b[94mMonte-Carlo\u001b[0m  4.6882           2.6808                   0.6310\n",
      "\u001b[94mError\u001b[0m        \u001b[92m0.0003\u001b[0m           \u001b[92m0.0004\u001b[0m                   \u001b[92m0.0002\u001b[0m\n",
      "\u001b[96m8 balls\u001b[0m\n",
      "\u001b[94mAnalytic\u001b[0m     2.7489           3.1416                   2.1096\n",
      "\u001b[94mMonte-Carlo\u001b[0m  2.7445           3.1478                   2.1077\n",
      "\u001b[94mError\u001b[0m        \u001b[92m0.0016\u001b[0m           \u001b[92m0.0020\u001b[0m                   \u001b[92m0.0009\u001b[0m\n",
      "\u001b[96m10 balls\u001b[0m\n",
      "\u001b[94mAnalytic\u001b[0m     2.1013           3.0102                   2.8885\n",
      "\u001b[94mMonte-Carlo\u001b[0m  2.1056           3.0039                   2.8905\n",
      "\u001b[94mError\u001b[0m        \u001b[92m0.0020\u001b[0m           \u001b[92m0.0021\u001b[0m                   \u001b[92m0.0007\u001b[0m\n"
     ]
    }
   ],
   "source": [
    "# Display analytic vs estimated urns counts and compute errors\n",
    "rows = []\n",
    "for n_balls, analytic, estimated in zip(N_BALLS, ANALYTIC_MEANS, ESTIMATED_MEANS):\n",
    "    rows.append([fmt_delim(f'{n_balls} ball{pluralize(n_balls)}')] + [''] * 3)\n",
    "    rows.append([fmt_header('Analytic'), fmt_float(analytic.empty), fmt_float(analytic.single), fmt_float(analytic.many)])\n",
    "    rows.append([fmt_header('Monte-Carlo'), fmt_float(estimated.empty), fmt_float(estimated.single), fmt_float(estimated.many)])\n",
    "    rows.append([\n",
    "        fmt_header('Error'), \n",
    "        fmt_err(estimated.empty, analytic.empty), \n",
    "        fmt_err(estimated.single, analytic.single), \n",
    "        fmt_err(estimated.many, analytic.many),\n",
    "    ])\n",
    "headers = [fmt_header(s) for s in ['', 'Empty baskets', 'Baskets with one ball', 'Baskets with many balls']]\n",
    "print(tabulate(rows, headers=headers))"
   ]
  },
  {
   "cell_type": "markdown",
   "metadata": {},
   "source": [
    "### Распределение числа пустых урн\n",
    "\n",
    "Проверим, что распределение числа пустых урн имеет вид\n",
    "\n",
    "$$\n",
    "\\mathbb{P}\\{\\mu_0 = m\\} = \\frac{ \\binom{N}{m} {K\\brace N-m} (N - m)! }{N^K} = \\frac{N! {K\\brace N-m} }{N^k m!},\n",
    "$$\n",
    "где $\\begin{Bmatrix} K\\\\N-m \\end{Bmatrix}$ - число Стирлинга 2-го рода (число разбиений $K$ шаров на $N-m$ непустых подмножеств)."
   ]
  },
  {
   "cell_type": "code",
   "execution_count": 11,
   "metadata": {},
   "outputs": [
    {
     "name": "stdout",
     "output_type": "stream",
     "text": [
      "\u001b[94m\u001b[0m             \u001b[94m0\u001b[0m       \u001b[94m1\u001b[0m       \u001b[94m2\u001b[0m       \u001b[94m3\u001b[0m       \u001b[94m4\u001b[0m       \u001b[94m5\u001b[0m       \u001b[94m6\u001b[0m       \u001b[94m7\u001b[0m         \u001b[94m8\u001b[0m\n",
      "-----------  ------  ------  ------  ------  ------  ------  ------  ------  ---\n",
      "\u001b[96m0 balls\u001b[0m\n",
      "\u001b[94mAnalytic\u001b[0m     0.0000  0.0000  0.0000  0.0000  0.0000  0.0000  0.0000  0.0000    1\n",
      "\u001b[94mMonte-Carlo\u001b[0m  0.0000  0.0000  0.0000  0.0000  0.0000  0.0000  0.0000  0.0000    1\n",
      "\u001b[94mError\u001b[0m        \u001b[92m0.0000\u001b[0m  \u001b[92m0.0000\u001b[0m  \u001b[92m0.0000\u001b[0m  \u001b[92m0.0000\u001b[0m  \u001b[92m0.0000\u001b[0m  \u001b[92m0.0000\u001b[0m  \u001b[92m0.0000\u001b[0m  \u001b[92m0.0000\u001b[0m    \u001b[92m0\u001b[0m\n",
      "\u001b[96m1 ball\u001b[0m\n",
      "\u001b[94mAnalytic\u001b[0m     0.0000  0.0000  0.0000  0.0000  0.0000  0.0000  0.0000  1.0000    0\n",
      "\u001b[94mMonte-Carlo\u001b[0m  0.0000  0.0000  0.0000  0.0000  0.0000  0.0000  0.0000  1.0000    0\n",
      "\u001b[94mError\u001b[0m        \u001b[92m0.0000\u001b[0m  \u001b[92m0.0000\u001b[0m  \u001b[92m0.0000\u001b[0m  \u001b[92m0.0000\u001b[0m  \u001b[92m0.0000\u001b[0m  \u001b[92m0.0000\u001b[0m  \u001b[92m0.0000\u001b[0m  \u001b[92m0.0000\u001b[0m    \u001b[92m0\u001b[0m\n",
      "\u001b[96m4 balls\u001b[0m\n",
      "\u001b[94mAnalytic\u001b[0m     0.0000  0.0000  0.0000  0.0000  0.4102  0.4922  0.0957  0.0020    0\n",
      "\u001b[94mMonte-Carlo\u001b[0m  0.0000  0.0000  0.0000  0.0000  0.4103  0.4928  0.0952  0.0017    0\n",
      "\u001b[94mError\u001b[0m        \u001b[92m0.0000\u001b[0m  \u001b[92m0.0000\u001b[0m  \u001b[92m0.0000\u001b[0m  \u001b[92m0.0000\u001b[0m  \u001b[92m0.0004\u001b[0m  \u001b[92m0.0012\u001b[0m  \u001b[92m0.0053\u001b[0m  \u001b[92m0.1626\u001b[0m    \u001b[92m0\u001b[0m\n",
      "\u001b[96m8 balls\u001b[0m\n",
      "\u001b[94mAnalytic\u001b[0m     0.0024  0.0673  0.3196  0.4206  0.1703  0.0193  0.0004  0.0000    0\n",
      "\u001b[94mMonte-Carlo\u001b[0m  0.0025  0.0681  0.3200  0.4209  0.1691  0.0190  0.0004  0.0000    0\n",
      "\u001b[94mError\u001b[0m        \u001b[92m0.0538\u001b[0m  \u001b[92m0.0116\u001b[0m  \u001b[92m0.0010\u001b[0m  \u001b[92m0.0009\u001b[0m  \u001b[92m0.0073\u001b[0m  \u001b[92m0.0182\u001b[0m  \u001b[92m0.1155\u001b[0m  \u001b[92m0.0000\u001b[0m    \u001b[92m0\u001b[0m\n",
      "\u001b[96m10 balls\u001b[0m\n",
      "\u001b[94mAnalytic\u001b[0m     0.0293  0.2228  0.4273  0.2616  0.0564  0.0027  0.0000  0.0000    0\n",
      "\u001b[94mMonte-Carlo\u001b[0m  0.0284  0.2208  0.4264  0.2689  0.0527  0.0029  0.0000  0.0000    0\n",
      "\u001b[94mError\u001b[0m        \u001b[92m0.0310\u001b[0m  \u001b[92m0.0092\u001b[0m  \u001b[92m0.0021\u001b[0m  \u001b[92m0.0274\u001b[0m  \u001b[92m0.0708\u001b[0m  \u001b[92m0.0646\u001b[0m  \u001b[92m0.0000\u001b[0m  \u001b[92m0.0000\u001b[0m    \u001b[92m0\u001b[0m\n"
     ]
    }
   ],
   "source": [
    "rows = []\n",
    "for n_balls, analytic, estimated in zip(N_BALLS, PROBLEMS, ESTIMATIONS):\n",
    "    rows.append([fmt_delim(f'{n_balls} ball{pluralize(n_balls)}')] + [''] * N_BASKETS)\n",
    "    rows.append([fmt_header('Analytic')] + [fmt_float(x) for x in analytic.empty])\n",
    "    rows.append([fmt_header('Monte-Carlo')] + [fmt_float(x) for x in estimated.empty])\n",
    "    rows.append([fmt_header('Error')] + [fmt_err(es, an, min_abs_val=.01) for es, an in zip(estimated.empty, analytic.empty)])\n",
    "headers = [fmt_header(s) for s in [''] + list(range(N_BASKETS + 1))]\n",
    "print(tabulate(rows, headers=headers))"
   ]
  },
  {
   "cell_type": "markdown",
   "metadata": {},
   "source": [
    "### Распределение числа урн с одним шариком\n",
    "\n",
    "В текущей версии мы используем формулу для расчета вероятности $\\mathbb{P}\\{\\mu_1 = m\\}$, взятую в работе [1]:\n",
    "\n",
    "$$\n",
    "\\mathbb{P}\\{\\mu_1 = m\\} = \\frac{N! K!}{m! N^K} \\sum\\limits_{z=0}^{K - m} \\frac{(-1)^z (N - m - z)^{K - m - z}}{(K - m - z)! z! (N - m - z)!}.\n",
    "$$\n",
    "где $N$ - число урн, $K$ - число шаров.\n",
    "\n",
    "К сожалению, эта формула не работает при $K > N$ (в знаменателе образуется факториал отрицательного числа), поэтому в этом случае пользуемся методом Монте-Карло для оценки вероятности.\n",
    "\n",
    "> [1] Vales-Alonso, J.; Bueno-Delgado, M.V.; Egea-López, E.; Alcaraz, J.J.; Pérez-Mañogil, J.M. On the Optimal Identification of Tag Sets in Time-Constrained RFID Configurations. Sensors 2011, 11, 2946-2960. https://doi.org/10.3390/s110302946."
   ]
  },
  {
   "cell_type": "code",
   "execution_count": 12,
   "metadata": {},
   "outputs": [
    {
     "name": "stdout",
     "output_type": "stream",
     "text": [
      "\u001b[94m\u001b[0m             \u001b[94m0\u001b[0m       \u001b[94m1\u001b[0m       \u001b[94m2\u001b[0m       \u001b[94m3\u001b[0m       \u001b[94m4\u001b[0m       \u001b[94m5\u001b[0m       \u001b[94m6\u001b[0m       \u001b[94m7\u001b[0m            \u001b[94m8\u001b[0m\n",
      "-----------  ------  ------  ------  ------  ------  ------  ------  ------  ------\n",
      "\u001b[96m0 balls\u001b[0m\n",
      "\u001b[94mAnalytic\u001b[0m     1.0000  0.0000  0.0000  0.0000  0.0000  0.0000  0.0000  0.0000  0\n",
      "\u001b[94mMonte-Carlo\u001b[0m  1.0000  0.0000  0.0000  0.0000  0.0000  0.0000  0.0000  0.0000  0\n",
      "\u001b[94mError\u001b[0m        \u001b[92m0.0000\u001b[0m  \u001b[92m0.0000\u001b[0m  \u001b[92m0.0000\u001b[0m  \u001b[92m0.0000\u001b[0m  \u001b[92m0.0000\u001b[0m  \u001b[92m0.0000\u001b[0m  \u001b[92m0.0000\u001b[0m  \u001b[92m0.0000\u001b[0m  \u001b[92m0\u001b[0m\n",
      "\u001b[96m1 ball\u001b[0m\n",
      "\u001b[94mAnalytic\u001b[0m     0.0000  1.0000  0.0000  0.0000  0.0000  0.0000  0.0000  0.0000  0\n",
      "\u001b[94mMonte-Carlo\u001b[0m  0.0000  1.0000  0.0000  0.0000  0.0000  0.0000  0.0000  0.0000  0\n",
      "\u001b[94mError\u001b[0m        \u001b[92m0.0000\u001b[0m  \u001b[92m0.0000\u001b[0m  \u001b[92m0.0000\u001b[0m  \u001b[92m0.0000\u001b[0m  \u001b[92m0.0000\u001b[0m  \u001b[92m0.0000\u001b[0m  \u001b[92m0.0000\u001b[0m  \u001b[92m0.0000\u001b[0m  \u001b[92m0\u001b[0m\n",
      "\u001b[96m4 balls\u001b[0m\n",
      "\u001b[94mAnalytic\u001b[0m     0.0430  0.0547  0.4922  0.0000  0.4102  0.0000  0.0000  0.0000  0\n",
      "\u001b[94mMonte-Carlo\u001b[0m  0.0430  0.0539  0.4928  0.0000  0.4103  0.0000  0.0000  0.0000  0\n",
      "\u001b[94mError\u001b[0m        \u001b[92m0.0005\u001b[0m  \u001b[92m0.0148\u001b[0m  \u001b[92m0.0012\u001b[0m  \u001b[92m0.0000\u001b[0m  \u001b[92m0.0004\u001b[0m  \u001b[92m0.0000\u001b[0m  \u001b[92m0.0000\u001b[0m  \u001b[92m0.0000\u001b[0m  \u001b[92m0\u001b[0m\n",
      "\u001b[96m8 balls\u001b[0m\n",
      "\u001b[94mAnalytic\u001b[0m     0.0207  0.0931  0.2389  0.2299  0.2804  0.0673  0.0673  0.0000  0.0024\n",
      "\u001b[94mMonte-Carlo\u001b[0m  0.0202  0.0920  0.2397  0.2292  0.2815  0.0668  0.0681  0.0000  0.0025\n",
      "\u001b[94mError\u001b[0m        \u001b[92m0.0280\u001b[0m  \u001b[92m0.0119\u001b[0m  \u001b[92m0.0036\u001b[0m  \u001b[92m0.0032\u001b[0m  \u001b[92m0.0039\u001b[0m  \u001b[92m0.0072\u001b[0m  \u001b[92m0.0116\u001b[0m  \u001b[92m0.0000\u001b[0m  \u001b[92m0.0538\u001b[0m\n",
      "\u001b[96m10 balls\u001b[0m\n",
      "\u001b[94mAnalytic\u001b[0m     0.0238  0.1109  0.2329  0.2766  0.2160  0.1037  0.0316  0.0044  0\n",
      "\u001b[94mMonte-Carlo\u001b[0m  0.0227  0.1097  0.2361  0.2788  0.2182  0.0987  0.0314  0.0045  0\n",
      "\u001b[94mError\u001b[0m        \u001b[92m0.0453\u001b[0m  \u001b[92m0.0111\u001b[0m  \u001b[92m0.0134\u001b[0m  \u001b[92m0.0080\u001b[0m  \u001b[92m0.0098\u001b[0m  \u001b[92m0.0514\u001b[0m  \u001b[92m0.0070\u001b[0m  \u001b[92m0.0022\u001b[0m  \u001b[92m0\u001b[0m\n"
     ]
    }
   ],
   "source": [
    "rows = []\n",
    "for n_balls, analytic, estimated in zip(N_BALLS, PROBLEMS, ESTIMATIONS):\n",
    "    rows.append([fmt_delim(f'{n_balls} ball{pluralize(n_balls)}')] + [''] * N_BASKETS)\n",
    "    rows.append([fmt_header('Analytic')] + [fmt_float(x) for x in analytic.single])\n",
    "    rows.append([fmt_header('Monte-Carlo')] + [fmt_float(x) for x in estimated.single])\n",
    "    rows.append([fmt_header('Error')] + [fmt_err(es, an, min_abs_val=.01) for es, an in zip(estimated.single, analytic.single)])\n",
    "headers = [fmt_header(s) for s in [''] + list(range(N_BASKETS + 1))]\n",
    "print(tabulate(rows, headers=headers))"
   ]
  },
  {
   "cell_type": "markdown",
   "metadata": {},
   "source": [
    "Возможные ошибки для случая 10 шариков - прямое следствие того, что в аналитической модели при $K > N$ тоже используется метод Монте-Карло. Избежать их можно, если повысить точность расчета (но лучше все-таки разработать формулу, учитывающую случай $K > N$)."
   ]
  },
  {
   "cell_type": "markdown",
   "metadata": {},
   "source": [
    "## Экспериментальный код\n",
    "\n",
    "Код в следующих ячейках не используется в самой модели. Он содержит эксперименты над комбинаторными формулами (разной степени успешности)."
   ]
  },
  {
   "cell_type": "code",
   "execution_count": 14,
   "metadata": {},
   "outputs": [],
   "source": [
    "from functools import lru_cache as cache\n",
    "\n",
    "\n",
    "@cache\n",
    "def count_collided_parts(n: int, k: int) -> int:\n",
    "    \"\"\"\n",
    "    Compute the number of ways to split n elements into k collided parts.\n",
    "\n",
    "    Collided part is a part which contains two or more elements. This\n",
    "    function returns the number of ways to split the set of n elements into\n",
    "    k parts in a way that each part contains two or more elements.\n",
    "\n",
    "    Let us denote this function as Sc(n, k), Stirling 2nd kind number as\n",
    "    S(n, k) and number of combinations as C(n, k). Then:\n",
    "\n",
    "    Sc(n, k) = S(n, k) - C(k, 1) Sc(n-1, k-1) - C(k, 2) Sc(n-2, k-2) - ...\n",
    "        - C(k, k) Sc(n-k, 0).\n",
    "\n",
    "    # TODO: test me!\n",
    "\n",
    "    Trivial cases:\n",
    "\n",
    "    - Sc(n, 0) = 0 when n > 0\n",
    "    - Sc(n, 1) = 0\n",
    "    - Sc(n, n) = 0 when n > 0\n",
    "    - Sc(0, 0) = 1\n",
    "\n",
    "    Parameters\n",
    "    ----------\n",
    "    n : int\n",
    "        number of elements\n",
    "    k : int\n",
    "        number of parts\n",
    "\n",
    "    Returns\n",
    "    -------\n",
    "    s : int\n",
    "    \"\"\"\n",
    "    if n == 0 and k == 0:\n",
    "        return 1\n",
    "    if k <= 1 or n < 2*k:\n",
    "        return 0\n",
    "    x = stirling2(n, k)\n",
    "    for i in range(1, k):\n",
    "        x -= comb(n, i) * count_collided_parts(n - i, k - i)\n",
    "    return x"
   ]
  },
  {
   "cell_type": "code",
   "execution_count": null,
   "metadata": {},
   "outputs": [],
   "source": []
  }
 ],
 "metadata": {
  "kernelspec": {
   "display_name": "Python 3",
   "language": "python",
   "name": "python3"
  },
  "language_info": {
   "codemirror_mode": {
    "name": "ipython",
    "version": 3
   },
   "file_extension": ".py",
   "mimetype": "text/x-python",
   "name": "python",
   "nbconvert_exporter": "python",
   "pygments_lexer": "ipython3",
   "version": "3.8.2"
  }
 },
 "nbformat": 4,
 "nbformat_minor": 4
}
