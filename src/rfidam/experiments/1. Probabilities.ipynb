{
 "cells": [
  {
   "cell_type": "markdown",
   "metadata": {},
   "source": [
    "# Валидация урновой модели\n",
    "\n",
    "В этом ноутбуке мы исследуем вероятности распределений шариков по урнам, полученные с помощью имитационного моделирования (метода Монте-Карло) и аналитических моделей.\n",
    "\n",
    "Для нас представляют интерес три случайные переменные:\n",
    "\n",
    "- $\\mu_0$: число урн, в которых не оказалось шариков\n",
    "- $\\mu_1$: число урн, в которых оказалось по одному шарику\n",
    "- $\\mu_2$: число урн, в которых оказалось два и больше шариков"
   ]
  },
  {
   "cell_type": "code",
   "execution_count": 6,
   "metadata": {},
   "outputs": [
    {
     "name": "stdout",
     "output_type": "stream",
     "text": [
      "The autoreload extension is already loaded. To reload it, use:\n",
      "  %reload_ext autoreload\n"
     ]
    }
   ],
   "source": [
    "%load_ext autoreload\n",
    "%autoreload 2"
   ]
  },
  {
   "cell_type": "code",
   "execution_count": 7,
   "metadata": {},
   "outputs": [],
   "source": [
    "from rfidam.baskets import BasketsOccupancyProblem, estimate_occupancy_rates, mean_num, Occupancy\n",
    "from rfidam.utils import bcolors, get_err, fmt_err, highlight, pluralize\n",
    "\n",
    "from tabulate import tabulate\n",
    "from tqdm.notebook import tqdm, trange\n",
    "import numpy as np\n",
    "import matplotlib.pyplot as plt"
   ]
  },
  {
   "cell_type": "markdown",
   "metadata": {},
   "source": [
    "Определим вспомогательные методы для однотипной подстветки таблиц и форматирования строк."
   ]
  },
  {
   "cell_type": "code",
   "execution_count": 8,
   "metadata": {},
   "outputs": [],
   "source": [
    "def fmt_header(s):\n",
    "    return highlight(s, bcolors.OKBLUE)\n",
    "\n",
    "def fmt_delim(s):\n",
    "    return highlight(s, bcolors.OKCYAN)\n",
    "\n",
    "def fmt_float(x):\n",
    "    return f'{x:.4f}'"
   ]
  },
  {
   "cell_type": "markdown",
   "metadata": {},
   "source": [
    "Все эксперименты будем проводить для случая числа корзин $N = 8$ и разного числа шариков $K = 0, 1, 4, 8, 10$."
   ]
  },
  {
   "cell_type": "code",
   "execution_count": 9,
   "metadata": {},
   "outputs": [],
   "source": [
    "N_BASKETS = 8\n",
    "N_BALLS = [0, 1, 4, 8, 10]"
   ]
  },
  {
   "cell_type": "markdown",
   "metadata": {},
   "source": [
    "## Расчет методом Монте-Карло\n",
    "\n",
    "Сначала проверим, как меняется число пустых урн ($\\mu_0$), урн с единственным шариком ($\\mu_1$) и урн с несколькими шариками ($\\mu_2$) в зависимости от числа шариков с помощью метода Монте-Карло. Для этого промоделируем распределение шаров по урнам много раз и рассчитаем частоту возникновения $m_0$ пустых урн, $m_1$ урн с одним шаром и $m_2$ урн с несколькими шарами."
   ]
  },
  {
   "cell_type": "code",
   "execution_count": 10,
   "metadata": {},
   "outputs": [
    {
     "data": {
      "application/vnd.jupyter.widget-view+json": {
       "model_id": "c1403074c0804799a4e96b3105da7b75",
       "version_major": 2,
       "version_minor": 0
      },
      "text/plain": [
       "HBox(children=(HTML(value=''), FloatProgress(value=0.0, max=5.0), HTML(value='')))"
      ]
     },
     "metadata": {},
     "output_type": "display_data"
    },
    {
     "name": "stdout",
     "output_type": "stream",
     "text": [
      "\n"
     ]
    }
   ],
   "source": [
    "# Run Monte-Carlo:\n",
    "ESTIMATIONS = [estimate_occupancy_rates(N_BASKETS, n_balls, n_iters=100000) for n_balls in tqdm(N_BALLS)]\n",
    "\n",
    "# Compute mean values:\n",
    "ESTIMATED_MEANS = [Occupancy(\n",
    "    empty=mean_num(est.empty),\n",
    "    single=mean_num(est.single),\n",
    "    many=mean_num(est.many)) for est in ESTIMATIONS]"
   ]
  },
  {
   "cell_type": "code",
   "execution_count": 11,
   "metadata": {},
   "outputs": [
    {
     "name": "stdout",
     "output_type": "stream",
     "text": [
      "\u001b[95mEmpty baskets distribution\u001b[0m\n",
      "\u001b[94m0 balls:\u001b[0m [0.000, 0.000, 0.000, 0.000, 0.000, 0.000, 0.000, 0.000, 1.000]\n",
      "\u001b[94m1 ball:\u001b[0m [0.000, 0.000, 0.000, 0.000, 0.000, 0.000, 0.000, 1.000, 0.000]\n",
      "\u001b[94m4 balls:\u001b[0m [0.000, 0.000, 0.000, 0.000, 0.414, 0.489, 0.095, 0.002, 0.000]\n",
      "\u001b[94m8 balls:\u001b[0m [0.003, 0.067, 0.320, 0.422, 0.169, 0.019, 0.000, 0.000, 0.000]\n",
      "\u001b[94m10 balls:\u001b[0m [0.028, 0.221, 0.429, 0.266, 0.053, 0.003, 0.000, 0.000, 0.000]\n"
     ]
    }
   ],
   "source": [
    "# Print distributions in Python list format:\n",
    "print(highlight('Empty baskets distribution', bcolors.HEADER))\n",
    "for i, n_balls in enumerate(N_BALLS):\n",
    "    print(highlight(f'{n_balls} ball{pluralize(n_balls)}:', bcolors.OKBLUE), '[' + ', '.join([f'{x:.3f}' for x in ESTIMATIONS[i].empty]) + ']')"
   ]
  },
  {
   "cell_type": "code",
   "execution_count": 12,
   "metadata": {},
   "outputs": [
    {
     "name": "stdout",
     "output_type": "stream",
     "text": [
      "  \u001b[94mNum. balls\u001b[0m    \u001b[94mAvg. empty\u001b[0m    \u001b[94mAvg. single\u001b[0m    \u001b[94mAvg. collided\u001b[0m\n",
      "------------  ------------  -------------  ---------------\n",
      "           \u001b[94m0\u001b[0m       8              0                0\n",
      "           \u001b[94m1\u001b[0m       7              1                0\n",
      "           \u001b[94m4\u001b[0m       4.68559        2.68713          0.62728\n",
      "           \u001b[94m8\u001b[0m       2.74658        3.14165          2.11177\n",
      "          \u001b[94m10\u001b[0m       2.10354        3.00713          2.88933\n"
     ]
    }
   ],
   "source": [
    "# Print average number of empty baskets, baskets with a single ball and baskets with multiple balls:\n",
    "rows = [(fmt_header(n_balls), est.empty, est.single, est.many) for n_balls, est in zip(N_BALLS, ESTIMATED_MEANS)]\n",
    "headers = [fmt_header(s) for s in ['Num. balls', 'Avg. empty', 'Avg. single', 'Avg. collided']]\n",
    "print(tabulate(rows, headers=headers))"
   ]
  },
  {
   "cell_type": "code",
   "execution_count": 13,
   "metadata": {},
   "outputs": [
    {
     "name": "stdout",
     "output_type": "stream",
     "text": [
      "\u001b[94m\u001b[0m                          \u001b[94m0\u001b[0m        \u001b[94m1\u001b[0m        \u001b[94m2\u001b[0m        \u001b[94m3\u001b[0m        \u001b[94m4\u001b[0m        \u001b[94m5\u001b[0m        \u001b[94m6\u001b[0m        \u001b[94m7\u001b[0m              \u001b[94m8\u001b[0m\n",
      "------------------------  -------  -------  -------  -------  -------  -------  -------  -------  -------\n",
      "\u001b[96m0 balls\u001b[0m\n",
      "\u001b[94mEmpty baskets\u001b[0m             0.0      0.0      0.0      0.0      0.0      0.0      0.0      0.0      1\n",
      "\u001b[94mBaskets with single ball\u001b[0m  1.0      0.0      0.0      0.0      0.0      0.0      0.0      0.0      0\n",
      "\u001b[94mBaskets with many balls\u001b[0m   1.0      0.0      0.0      0.0      0.0      0.0      0.0      0.0      0\n",
      "\u001b[96m1 ball\u001b[0m\n",
      "\u001b[94mEmpty baskets\u001b[0m             0.0      0.0      0.0      0.0      0.0      0.0      0.0      1.0      0\n",
      "\u001b[94mBaskets with single ball\u001b[0m  0.0      1.0      0.0      0.0      0.0      0.0      0.0      0.0      0\n",
      "\u001b[94mBaskets with many balls\u001b[0m   1.0      0.0      0.0      0.0      0.0      0.0      0.0      0.0      0\n",
      "\u001b[96m4 balls\u001b[0m\n",
      "\u001b[94mEmpty baskets\u001b[0m             0.0      0.0      0.0      0.0      0.4137   0.48898  0.09535  0.00197  0\n",
      "\u001b[94mBaskets with single ball\u001b[0m  0.04295  0.05437  0.48898  0.0      0.4137   0.0      0.0      0.0      0\n",
      "\u001b[94mBaskets with many balls\u001b[0m   0.4137   0.54532  0.04098  0.0      0.0      0.0      0.0      0.0      0\n",
      "\u001b[96m8 balls\u001b[0m\n",
      "\u001b[94mEmpty baskets\u001b[0m             0.00262  0.06673  0.3201   0.42231  0.16885  0.01902  0.00037  0.0      0\n",
      "\u001b[94mBaskets with single ball\u001b[0m  0.0213   0.09214  0.23826  0.23063  0.28184  0.06648  0.06673  0.0      0.00262\n",
      "\u001b[94mBaskets with many balls\u001b[0m   0.00262  0.16715  0.55716  0.26198  0.01109  0.0      0.0      0.0      0\n",
      "\u001b[96m10 balls\u001b[0m\n",
      "\u001b[94mEmpty baskets\u001b[0m             0.02797  0.22096  0.42916  0.26618  0.05295  0.00276  2e-05    0.0      0\n",
      "\u001b[94mBaskets with single ball\u001b[0m  0.0234   0.10809  0.23484  0.28003  0.21946  0.09825  0.03133  0.0046   0\n",
      "\u001b[94mBaskets with many balls\u001b[0m   0.0      0.01915  0.26677  0.52588  0.182    0.0062   0.0      0.0      0\n"
     ]
    }
   ],
   "source": [
    "# Print probabilities that M urns are empty, have single or multiple balls\n",
    "rows = []\n",
    "for n_balls, occupancy in zip(N_BALLS, ESTIMATIONS):\n",
    "    rows.append([fmt_delim(f'{n_balls} ball{pluralize(n_balls)}')] + [''] * N_BASKETS)\n",
    "    rows.append([fmt_header('Empty baskets')] + list(occupancy.empty))\n",
    "    rows.append([fmt_header('Baskets with single ball')] + list(occupancy.single))\n",
    "    rows.append([fmt_header('Baskets with many balls')] + list(occupancy.many))\n",
    "headers = [fmt_header(s) for s in [''] + list(range(N_BASKETS + 1))]\n",
    "print(tabulate(rows, headers=headers))"
   ]
  },
  {
   "cell_type": "markdown",
   "metadata": {},
   "source": [
    "## Сравнение среднего числа урн разного типа, рассчитанного из аналитики и метода Монте-Карло\n",
    "\n",
    "Рассчитаем распределения величин $\\mu_0$, $\\mu_1$ и $\\mu_2$ с помощью аналитической модели и сравним результаты с тем, что было получено выше с помощью метода Монте-Карло."
   ]
  },
  {
   "cell_type": "code",
   "execution_count": 14,
   "metadata": {},
   "outputs": [
    {
     "data": {
      "application/vnd.jupyter.widget-view+json": {
       "model_id": "4db321a404484c4db2bbe924e9a57d6f",
       "version_major": 2,
       "version_minor": 0
      },
      "text/plain": [
       "HBox(children=(HTML(value=''), FloatProgress(value=0.0, max=5.0), HTML(value='')))"
      ]
     },
     "metadata": {},
     "output_type": "display_data"
    },
    {
     "name": "stdout",
     "output_type": "stream",
     "text": [
      "\n"
     ]
    }
   ],
   "source": [
    "# Create UrnProblem instances for various balls count:\n",
    "PROBLEMS = [BasketsOccupancyProblem(N_BASKETS, n_balls) for n_balls in N_BALLS]\n",
    "\n",
    "# Compute analytically average number of empty baskets, baskets with a single ball and baskets with multiple balls:\n",
    "ANALYTIC_MEANS = [problem.avg_count for problem in tqdm(PROBLEMS)]"
   ]
  },
  {
   "cell_type": "markdown",
   "metadata": {},
   "source": [
    "### Среднее число пустых урн, урн с одним или многими шариками \n",
    "\n",
    "Сравним средние значения числа урн без шариков ($\\mathbb{E}\\mu_0$), урн с одним шариков ($\\mathbb{E}\\mu_1$) и урн с двумя или более шариками ($\\mathbb{E}\\mu_2$)."
   ]
  },
  {
   "cell_type": "code",
   "execution_count": 15,
   "metadata": {},
   "outputs": [
    {
     "name": "stdout",
     "output_type": "stream",
     "text": [
      "\u001b[94m\u001b[0m             \u001b[94mEmpty baskets\u001b[0m    \u001b[94mBaskets with one ball\u001b[0m    \u001b[94mBaskets with many balls\u001b[0m\n",
      "-----------  ---------------  -----------------------  -------------------------\n",
      "\u001b[96m0 balls\u001b[0m\n",
      "\u001b[94mAnalytic\u001b[0m     8.0000           0.0000                   0.0000\n",
      "\u001b[94mMonte-Carlo\u001b[0m  8.0000           0.0000                   0.0000\n",
      "\u001b[94mError\u001b[0m        \u001b[92m0.0000\u001b[0m           \u001b[92m0.0000\u001b[0m                   \u001b[92m0.0000\u001b[0m\n",
      "\u001b[96m1 ball\u001b[0m\n",
      "\u001b[94mAnalytic\u001b[0m     7.0000           1.0000                   0.0000\n",
      "\u001b[94mMonte-Carlo\u001b[0m  7.0000           1.0000                   0.0000\n",
      "\u001b[94mError\u001b[0m        \u001b[92m0.0000\u001b[0m           \u001b[92m0.0000\u001b[0m                   \u001b[92m0.0000\u001b[0m\n",
      "\u001b[96m4 balls\u001b[0m\n",
      "\u001b[94mAnalytic\u001b[0m     4.6895           2.6797                   0.6309\n",
      "\u001b[94mMonte-Carlo\u001b[0m  4.6856           2.6871                   0.6273\n",
      "\u001b[94mError\u001b[0m        \u001b[92m0.0008\u001b[0m           \u001b[92m0.0028\u001b[0m                   \u001b[92m0.0057\u001b[0m\n",
      "\u001b[96m8 balls\u001b[0m\n",
      "\u001b[94mAnalytic\u001b[0m     2.7489           3.1416                   2.1096\n",
      "\u001b[94mMonte-Carlo\u001b[0m  2.7466           3.1416                   2.1118\n",
      "\u001b[94mError\u001b[0m        \u001b[92m0.0008\u001b[0m           \u001b[92m0.0000\u001b[0m                   \u001b[92m0.0010\u001b[0m\n",
      "\u001b[96m10 balls\u001b[0m\n",
      "\u001b[94mAnalytic\u001b[0m     2.1117           3.0000                   2.8883\n",
      "\u001b[94mMonte-Carlo\u001b[0m  2.1035           3.0071                   2.8893\n",
      "\u001b[94mError\u001b[0m        \u001b[92m0.0039\u001b[0m           \u001b[92m0.0024\u001b[0m                   \u001b[92m0.0004\u001b[0m\n"
     ]
    }
   ],
   "source": [
    "# Display analytic vs estimated urns counts and compute errors\n",
    "rows = []\n",
    "for n_balls, analytic, estimated in zip(N_BALLS, ANALYTIC_MEANS, ESTIMATED_MEANS):\n",
    "    rows.append([fmt_delim(f'{n_balls} ball{pluralize(n_balls)}')] + [''] * 3)\n",
    "    rows.append([fmt_header('Analytic'), fmt_float(analytic.empty), fmt_float(analytic.single), fmt_float(analytic.many)])\n",
    "    rows.append([fmt_header('Monte-Carlo'), fmt_float(estimated.empty), fmt_float(estimated.single), fmt_float(estimated.many)])\n",
    "    rows.append([\n",
    "        fmt_header('Error'), \n",
    "        fmt_err(estimated.empty, analytic.empty), \n",
    "        fmt_err(estimated.single, analytic.single), \n",
    "        fmt_err(estimated.many, analytic.many),\n",
    "    ])\n",
    "headers = [fmt_header(s) for s in ['', 'Empty baskets', 'Baskets with one ball', 'Baskets with many balls']]\n",
    "print(tabulate(rows, headers=headers))"
   ]
  },
  {
   "cell_type": "markdown",
   "metadata": {},
   "source": [
    "### Распределение числа пустых урн\n",
    "\n",
    "Проверим, что распределение числа пустых урн имеет вид\n",
    "\n",
    "$$\n",
    "\\mathbb{P}\\{\\mu_0 = m\\} = \\frac{ \\binom{N}{m} {K\\brace N-m} (N - m)! }{N^K} = \\frac{N! {K\\brace N-m} }{N^k m!},\n",
    "$$\n",
    "где $\\begin{Bmatrix} K\\\\N-m \\end{Bmatrix}$ - число Стирлинга 2-го рода (число разбиений $K$ шаров на $N-m$ непустых подмножеств)."
   ]
  },
  {
   "cell_type": "code",
   "execution_count": 16,
   "metadata": {},
   "outputs": [
    {
     "name": "stdout",
     "output_type": "stream",
     "text": [
      "\u001b[94m\u001b[0m             \u001b[94m0\u001b[0m       \u001b[94m1\u001b[0m       \u001b[94m2\u001b[0m       \u001b[94m3\u001b[0m       \u001b[94m4\u001b[0m       \u001b[94m5\u001b[0m       \u001b[94m6\u001b[0m       \u001b[94m7\u001b[0m         \u001b[94m8\u001b[0m\n",
      "-----------  ------  ------  ------  ------  ------  ------  ------  ------  ---\n",
      "\u001b[96m0 balls\u001b[0m\n",
      "\u001b[94mAnalytic\u001b[0m     0.0000  0.0000  0.0000  0.0000  0.0000  0.0000  0.0000  0.0000    1\n",
      "\u001b[94mMonte-Carlo\u001b[0m  0.0000  0.0000  0.0000  0.0000  0.0000  0.0000  0.0000  0.0000    1\n",
      "\u001b[94mError\u001b[0m        \u001b[92m0.0000\u001b[0m  \u001b[92m0.0000\u001b[0m  \u001b[92m0.0000\u001b[0m  \u001b[92m0.0000\u001b[0m  \u001b[92m0.0000\u001b[0m  \u001b[92m0.0000\u001b[0m  \u001b[92m0.0000\u001b[0m  \u001b[92m0.0000\u001b[0m    \u001b[92m0\u001b[0m\n",
      "\u001b[96m1 ball\u001b[0m\n",
      "\u001b[94mAnalytic\u001b[0m     0.0000  0.0000  0.0000  0.0000  0.0000  0.0000  0.0000  1.0000    0\n",
      "\u001b[94mMonte-Carlo\u001b[0m  0.0000  0.0000  0.0000  0.0000  0.0000  0.0000  0.0000  1.0000    0\n",
      "\u001b[94mError\u001b[0m        \u001b[92m0.0000\u001b[0m  \u001b[92m0.0000\u001b[0m  \u001b[92m0.0000\u001b[0m  \u001b[92m0.0000\u001b[0m  \u001b[92m0.0000\u001b[0m  \u001b[92m0.0000\u001b[0m  \u001b[92m0.0000\u001b[0m  \u001b[92m0.0000\u001b[0m    \u001b[92m0\u001b[0m\n",
      "\u001b[96m4 balls\u001b[0m\n",
      "\u001b[94mAnalytic\u001b[0m     0.0000  0.0000  0.0000  0.0000  0.4102  0.4922  0.0957  0.0020    0\n",
      "\u001b[94mMonte-Carlo\u001b[0m  0.0000  0.0000  0.0000  0.0000  0.4137  0.4890  0.0954  0.0020    0\n",
      "\u001b[94mError\u001b[0m        \u001b[92m0.0000\u001b[0m  \u001b[92m0.0000\u001b[0m  \u001b[92m0.0000\u001b[0m  \u001b[92m0.0000\u001b[0m  \u001b[92m0.0086\u001b[0m  \u001b[92m0.0066\u001b[0m  \u001b[92m0.0037\u001b[0m  \u001b[92m0.0086\u001b[0m    \u001b[92m0\u001b[0m\n",
      "\u001b[96m8 balls\u001b[0m\n",
      "\u001b[94mAnalytic\u001b[0m     0.0024  0.0673  0.3196  0.4206  0.1703  0.0193  0.0004  0.0000    0\n",
      "\u001b[94mMonte-Carlo\u001b[0m  0.0026  0.0667  0.3201  0.4223  0.1689  0.0190  0.0004  0.0000    0\n",
      "\u001b[94mError\u001b[0m        \u001b[92m0.0827\u001b[0m  \u001b[92m0.0084\u001b[0m  \u001b[92m0.0015\u001b[0m  \u001b[92m0.0041\u001b[0m  \u001b[92m0.0088\u001b[0m  \u001b[92m0.0172\u001b[0m  \u001b[92m0.1457\u001b[0m  \u001b[92m0.0000\u001b[0m    \u001b[92m0\u001b[0m\n",
      "\u001b[96m10 balls\u001b[0m\n",
      "\u001b[94mAnalytic\u001b[0m     0.0280  0.2199  0.4264  0.2667  0.0556  0.0032  0.0000  0.0000    0\n",
      "\u001b[94mMonte-Carlo\u001b[0m  0.0280  0.2210  0.4292  0.2662  0.0529  0.0028  0.0000  0.0000    0\n",
      "\u001b[94mError\u001b[0m        \u001b[92m0.0029\u001b[0m  \u001b[92m0.0048\u001b[0m  \u001b[92m0.0063\u001b[0m  \u001b[92m0.0020\u001b[0m  \u001b[92m0.0510\u001b[0m  \u001b[92m0.1775\u001b[0m  \u001b[92m1.0000\u001b[0m  \u001b[92m0.0000\u001b[0m    \u001b[92m0\u001b[0m\n"
     ]
    }
   ],
   "source": [
    "rows = []\n",
    "for n_balls, analytic, estimated in zip(N_BALLS, PROBLEMS, ESTIMATIONS):\n",
    "    rows.append([fmt_delim(f'{n_balls} ball{pluralize(n_balls)}')] + [''] * N_BASKETS)\n",
    "    rows.append([fmt_header('Analytic')] + [fmt_float(x) for x in analytic.empty])\n",
    "    rows.append([fmt_header('Monte-Carlo')] + [fmt_float(x) for x in estimated.empty])\n",
    "    rows.append([fmt_header('Error')] + [fmt_err(es, an, min_abs_val=.01) for es, an in zip(estimated.empty, analytic.empty)])\n",
    "headers = [fmt_header(s) for s in [''] + list(range(N_BASKETS + 1))]\n",
    "print(tabulate(rows, headers=headers))"
   ]
  },
  {
   "cell_type": "markdown",
   "metadata": {},
   "source": [
    "### Распределение числа урн с одним шариком\n",
    "\n",
    "В текущей версии мы используем формулу для расчета вероятности $\\mathbb{P}\\{\\mu_1 = m\\}$, взятую в работе [1]:\n",
    "\n",
    "$$\n",
    "\\mathbb{P}\\{\\mu_1 = m\\} = \\frac{N! K!}{m! N^K} \\sum\\limits_{z=0}^{K - m} \\frac{(-1)^z (N - m - z)^{K - m - z}}{(K - m - z)! z! (N - m - z)!}.\n",
    "$$\n",
    "где $N$ - число урн, $K$ - число шаров.\n",
    "\n",
    "К сожалению, эта формула не работает при $K > N$ (в знаменателе образуется факториал отрицательного числа), поэтому в этом случае пользуемся методом Монте-Карло для оценки вероятности.\n",
    "\n",
    "> [1] Vales-Alonso, J.; Bueno-Delgado, M.V.; Egea-López, E.; Alcaraz, J.J.; Pérez-Mañogil, J.M. On the Optimal Identification of Tag Sets in Time-Constrained RFID Configurations. Sensors 2011, 11, 2946-2960. https://doi.org/10.3390/s110302946."
   ]
  },
  {
   "cell_type": "code",
   "execution_count": 17,
   "metadata": {},
   "outputs": [
    {
     "name": "stdout",
     "output_type": "stream",
     "text": [
      "\u001b[94m\u001b[0m             \u001b[94m0\u001b[0m       \u001b[94m1\u001b[0m       \u001b[94m2\u001b[0m       \u001b[94m3\u001b[0m       \u001b[94m4\u001b[0m       \u001b[94m5\u001b[0m       \u001b[94m6\u001b[0m       \u001b[94m7\u001b[0m            \u001b[94m8\u001b[0m\n",
      "-----------  ------  ------  ------  ------  ------  ------  ------  ------  ------\n",
      "\u001b[96m0 balls\u001b[0m\n",
      "\u001b[94mAnalytic\u001b[0m     1.0000  0.0000  0.0000  0.0000  0.0000  0.0000  0.0000  0.0000  0\n",
      "\u001b[94mMonte-Carlo\u001b[0m  1.0000  0.0000  0.0000  0.0000  0.0000  0.0000  0.0000  0.0000  0\n",
      "\u001b[94mError\u001b[0m        \u001b[92m0.0000\u001b[0m  \u001b[92m0.0000\u001b[0m  \u001b[92m0.0000\u001b[0m  \u001b[92m0.0000\u001b[0m  \u001b[92m0.0000\u001b[0m  \u001b[92m0.0000\u001b[0m  \u001b[92m0.0000\u001b[0m  \u001b[92m0.0000\u001b[0m  \u001b[92m0\u001b[0m\n",
      "\u001b[96m1 ball\u001b[0m\n",
      "\u001b[94mAnalytic\u001b[0m     0.0000  1.0000  0.0000  0.0000  0.0000  0.0000  0.0000  0.0000  0\n",
      "\u001b[94mMonte-Carlo\u001b[0m  0.0000  1.0000  0.0000  0.0000  0.0000  0.0000  0.0000  0.0000  0\n",
      "\u001b[94mError\u001b[0m        \u001b[92m0.0000\u001b[0m  \u001b[92m0.0000\u001b[0m  \u001b[92m0.0000\u001b[0m  \u001b[92m0.0000\u001b[0m  \u001b[92m0.0000\u001b[0m  \u001b[92m0.0000\u001b[0m  \u001b[92m0.0000\u001b[0m  \u001b[92m0.0000\u001b[0m  \u001b[92m0\u001b[0m\n",
      "\u001b[96m4 balls\u001b[0m\n",
      "\u001b[94mAnalytic\u001b[0m     0.0430  0.0547  0.4922  0.0000  0.4102  0.0000  0.0000  0.0000  0\n",
      "\u001b[94mMonte-Carlo\u001b[0m  0.0430  0.0544  0.4890  0.0000  0.4137  0.0000  0.0000  0.0000  0\n",
      "\u001b[94mError\u001b[0m        \u001b[92m0.0004\u001b[0m  \u001b[92m0.0058\u001b[0m  \u001b[92m0.0066\u001b[0m  \u001b[92m0.0000\u001b[0m  \u001b[92m0.0086\u001b[0m  \u001b[92m0.0000\u001b[0m  \u001b[92m0.0000\u001b[0m  \u001b[92m0.0000\u001b[0m  \u001b[92m0\u001b[0m\n",
      "\u001b[96m8 balls\u001b[0m\n",
      "\u001b[94mAnalytic\u001b[0m     0.0207  0.0931  0.2389  0.2299  0.2804  0.0673  0.0673  0.0000  0.0024\n",
      "\u001b[94mMonte-Carlo\u001b[0m  0.0213  0.0921  0.2383  0.2306  0.2818  0.0665  0.0667  0.0000  0.0026\n",
      "\u001b[94mError\u001b[0m        \u001b[92m0.0270\u001b[0m  \u001b[92m0.0106\u001b[0m  \u001b[92m0.0026\u001b[0m  \u001b[92m0.0031\u001b[0m  \u001b[92m0.0052\u001b[0m  \u001b[92m0.0122\u001b[0m  \u001b[92m0.0084\u001b[0m  \u001b[92m0.0000\u001b[0m  \u001b[92m0.0827\u001b[0m\n",
      "\u001b[96m10 balls\u001b[0m\n",
      "\u001b[94mAnalytic\u001b[0m     0.0227  0.1133  0.2338  0.2787  0.2151  0.0998  0.0323  0.0043  0\n",
      "\u001b[94mMonte-Carlo\u001b[0m  0.0234  0.1081  0.2348  0.2800  0.2195  0.0983  0.0313  0.0046  0\n",
      "\u001b[94mError\u001b[0m        \u001b[92m0.0278\u001b[0m  \u001b[92m0.0482\u001b[0m  \u001b[92m0.0044\u001b[0m  \u001b[92m0.0047\u001b[0m  \u001b[92m0.0199\u001b[0m  \u001b[92m0.0158\u001b[0m  \u001b[92m0.0310\u001b[0m  \u001b[92m0.0761\u001b[0m  \u001b[92m0\u001b[0m\n"
     ]
    }
   ],
   "source": [
    "rows = []\n",
    "for n_balls, analytic, estimated in zip(N_BALLS, PROBLEMS, ESTIMATIONS):\n",
    "    rows.append([fmt_delim(f'{n_balls} ball{pluralize(n_balls)}')] + [''] * N_BASKETS)\n",
    "    rows.append([fmt_header('Analytic')] + [fmt_float(x) for x in analytic.single])\n",
    "    rows.append([fmt_header('Monte-Carlo')] + [fmt_float(x) for x in estimated.single])\n",
    "    rows.append([fmt_header('Error')] + [fmt_err(es, an, min_abs_val=.01) for es, an in zip(estimated.single, analytic.single)])\n",
    "headers = [fmt_header(s) for s in [''] + list(range(N_BASKETS + 1))]\n",
    "print(tabulate(rows, headers=headers))"
   ]
  },
  {
   "cell_type": "markdown",
   "metadata": {},
   "source": [
    "Возможные ошибки для случая 10 шариков - прямое следствие того, что в аналитической модели при $K > N$ тоже используется метод Монте-Карло. Избежать их можно, если повысить точность расчета (но лучше все-таки разработать формулу, учитывающую случай $K > N$)."
   ]
  },
  {
   "cell_type": "code",
   "execution_count": null,
   "metadata": {},
   "outputs": [],
   "source": []
  }
 ],
 "metadata": {
  "kernelspec": {
   "display_name": "Python 3",
   "language": "python",
   "name": "python3"
  },
  "language_info": {
   "codemirror_mode": {
    "name": "ipython",
    "version": 3
   },
   "file_extension": ".py",
   "mimetype": "text/x-python",
   "name": "python",
   "nbconvert_exporter": "python",
   "pygments_lexer": "ipython3",
   "version": "3.8.2"
  }
 },
 "nbformat": 4,
 "nbformat_minor": 4
}
